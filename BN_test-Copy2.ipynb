{
 "cells": [
  {
   "cell_type": "markdown",
   "metadata": {},
   "source": [
    "# I need to duplicate the fragility table a bunch of times for the training "
   ]
  },
  {
   "cell_type": "markdown",
   "metadata": {},
   "source": [
    "# File Description"
   ]
  },
  {
   "cell_type": "markdown",
   "metadata": {},
   "source": [
    "This notebook contains the most up-to-date version of the pilot model for total water level on Tarawa, currently for only two locations (one hazards side and one ocean side).\n",
    "\n",
    "Currently needs work:\n",
    "- Incorporating MEI into network\n",
    "- Adjusting the binning of the MSL distributions to account for future SLR\n",
    "- Adding SLR projections as evidence option"
   ]
  },
  {
   "cell_type": "markdown",
   "metadata": {},
   "source": [
    "# File Setup"
   ]
  },
  {
   "cell_type": "code",
   "execution_count": 1,
   "metadata": {
    "ExecuteTime": {
     "end_time": "2021-06-10T02:18:06.245034Z",
     "start_time": "2021-06-10T02:18:06.200060Z"
    }
   },
   "outputs": [],
   "source": [
    "%load_ext autoreload\n",
    "%autoreload 2"
   ]
  },
  {
   "cell_type": "code",
   "execution_count": 2,
   "metadata": {
    "ExecuteTime": {
     "end_time": "2021-06-10T02:18:09.215577Z",
     "start_time": "2021-06-10T02:18:06.246033Z"
    }
   },
   "outputs": [
    {
     "name": "stdout",
     "output_type": "stream",
     "text": [
      "Enabling notebook extension jupyter-leaflet/extension...\r\n",
      "      - Validating: \u001b[32mOK\u001b[0m\r\n"
     ]
    },
    {
     "name": "stderr",
     "output_type": "stream",
     "text": [
      "/usr/local/lib/python3.8/dist-packages/numpy/core/getlimits.py:499: UserWarning: The value of the smallest subnormal for <class 'numpy.float64'> type is zero.\n",
      "  setattr(self, word, getattr(machar, word).flat[0])\n",
      "/usr/local/lib/python3.8/dist-packages/numpy/core/getlimits.py:89: UserWarning: The value of the smallest subnormal for <class 'numpy.float64'> type is zero.\n",
      "  return self._float_to_str(self.smallest_subnormal)\n",
      "/usr/local/lib/python3.8/dist-packages/numpy/core/getlimits.py:499: UserWarning: The value of the smallest subnormal for <class 'numpy.float32'> type is zero.\n",
      "  setattr(self, word, getattr(machar, word).flat[0])\n",
      "/usr/local/lib/python3.8/dist-packages/numpy/core/getlimits.py:89: UserWarning: The value of the smallest subnormal for <class 'numpy.float32'> type is zero.\n",
      "  return self._float_to_str(self.smallest_subnormal)\n"
     ]
    }
   ],
   "source": [
    "import pandas as pd\n",
    "import numpy as np\n",
    "import matplotlib\n",
    "import matplotlib.pyplot as plt\n",
    "import itertools\n",
    "import os\n",
    "import json\n",
    "from datetime import datetime\n",
    "import pysmile\n",
    "import pysmile_license\n",
    "import sys\n",
    "import json\n",
    "sys.path.append('/src/python_classes')\n",
    "import rpy2\n",
    "# os.environ['R_HOME'] = 'C:\\ProgramData\\Anaconda3\\Lib\\R'\n",
    "# %load_ext rpy2.ipython\n",
    "!jupyter nbextension enable --py --sys-prefix ipyleaflet\n",
    "from ipywidgets import interact, interactive, fixed, interact_manual\n",
    "from ipyleaflet import *\n",
    "import ipywidgets as widgets\n",
    "from matplotlib.animation import FuncAnimation\n",
    "import geojson\n",
    "import folium\n",
    "from colormap import rgb2hex\n",
    "import rpy2\n",
    "os.environ['R_HOME'] = '/lib/R'\n",
    "%load_ext rpy2.ipython\n",
    "from folium.plugins import FloatImage\n",
    "from collections import ChainMap\n",
    "import re\n",
    "\n",
    "from BNModel import BNModel\n"
   ]
  },
  {
   "cell_type": "markdown",
   "metadata": {},
   "source": [
    "# Load Hazard Bins"
   ]
  },
  {
   "cell_type": "code",
   "execution_count": 3,
   "metadata": {},
   "outputs": [],
   "source": [
    "with open(\"bin_definitions.json\") as f:\n",
    "    bin_defs_dict = json.load(f)"
   ]
  },
  {
   "cell_type": "code",
   "execution_count": 4,
   "metadata": {},
   "outputs": [
    {
     "data": {
      "text/plain": [
       "{'earthquake': {'minimum': -5.553142870956083,\n",
       "  'low': -3.266348397163859,\n",
       "  'medium': -0.9795539233716353,\n",
       "  'high': 1.3072405504205884},\n",
       " 'liquefaction': {'zero': 0.0,\n",
       "  'low': 7.377941176470587,\n",
       "  'medium': 14.755882352941175,\n",
       "  'high': 22.133823529411764},\n",
       " 'tsunami': {'zero': 0,\n",
       "  'low': 2.453279318446375,\n",
       "  'medium': 4.90655863689275,\n",
       "  'high': 7.359837955339124}}"
      ]
     },
     "execution_count": 4,
     "metadata": {},
     "output_type": "execute_result"
    }
   ],
   "source": [
    "bin_defs_dict"
   ]
  },
  {
   "cell_type": "markdown",
   "metadata": {},
   "source": [
    "# Methods for combining DS"
   ]
  },
  {
   "cell_type": "code",
   "execution_count": 5,
   "metadata": {},
   "outputs": [],
   "source": [
    "damage_states_array = np.array((0,1,2,3))\n",
    "\n",
    "fragility_array = np.array(('Shaking','Tsunami','Liquefaction','Landslide'))"
   ]
  },
  {
   "cell_type": "code",
   "execution_count": 6,
   "metadata": {
    "scrolled": false
   },
   "outputs": [
    {
     "data": {
      "text/html": [
       "<div>\n",
       "<style scoped>\n",
       "    .dataframe tbody tr th:only-of-type {\n",
       "        vertical-align: middle;\n",
       "    }\n",
       "\n",
       "    .dataframe tbody tr th {\n",
       "        vertical-align: top;\n",
       "    }\n",
       "\n",
       "    .dataframe thead th {\n",
       "        text-align: right;\n",
       "    }\n",
       "</style>\n",
       "<table border=\"1\" class=\"dataframe\">\n",
       "  <thead>\n",
       "    <tr style=\"text-align: right;\">\n",
       "      <th></th>\n",
       "      <th>ShakingFragility</th>\n",
       "      <th>TsunamiFragility</th>\n",
       "      <th>LiquefactionFragility</th>\n",
       "      <th>LandslideFragility</th>\n",
       "      <th>Combined</th>\n",
       "    </tr>\n",
       "  </thead>\n",
       "  <tbody>\n",
       "    <tr>\n",
       "      <th>255</th>\n",
       "      <td>3</td>\n",
       "      <td>3</td>\n",
       "      <td>3</td>\n",
       "      <td>3</td>\n",
       "      <td>3.0</td>\n",
       "    </tr>\n",
       "    <tr>\n",
       "      <th>254</th>\n",
       "      <td>3</td>\n",
       "      <td>3</td>\n",
       "      <td>3</td>\n",
       "      <td>2</td>\n",
       "      <td>3.0</td>\n",
       "    </tr>\n",
       "    <tr>\n",
       "      <th>253</th>\n",
       "      <td>3</td>\n",
       "      <td>3</td>\n",
       "      <td>3</td>\n",
       "      <td>1</td>\n",
       "      <td>3.0</td>\n",
       "    </tr>\n",
       "    <tr>\n",
       "      <th>252</th>\n",
       "      <td>3</td>\n",
       "      <td>3</td>\n",
       "      <td>3</td>\n",
       "      <td>0</td>\n",
       "      <td>3.0</td>\n",
       "    </tr>\n",
       "    <tr>\n",
       "      <th>251</th>\n",
       "      <td>3</td>\n",
       "      <td>3</td>\n",
       "      <td>2</td>\n",
       "      <td>3</td>\n",
       "      <td>3.0</td>\n",
       "    </tr>\n",
       "    <tr>\n",
       "      <th>...</th>\n",
       "      <td>...</td>\n",
       "      <td>...</td>\n",
       "      <td>...</td>\n",
       "      <td>...</td>\n",
       "      <td>...</td>\n",
       "    </tr>\n",
       "    <tr>\n",
       "      <th>4</th>\n",
       "      <td>0</td>\n",
       "      <td>0</td>\n",
       "      <td>1</td>\n",
       "      <td>0</td>\n",
       "      <td>1.0</td>\n",
       "    </tr>\n",
       "    <tr>\n",
       "      <th>3</th>\n",
       "      <td>0</td>\n",
       "      <td>0</td>\n",
       "      <td>0</td>\n",
       "      <td>3</td>\n",
       "      <td>3.0</td>\n",
       "    </tr>\n",
       "    <tr>\n",
       "      <th>2</th>\n",
       "      <td>0</td>\n",
       "      <td>0</td>\n",
       "      <td>0</td>\n",
       "      <td>2</td>\n",
       "      <td>2.0</td>\n",
       "    </tr>\n",
       "    <tr>\n",
       "      <th>1</th>\n",
       "      <td>0</td>\n",
       "      <td>0</td>\n",
       "      <td>0</td>\n",
       "      <td>1</td>\n",
       "      <td>1.0</td>\n",
       "    </tr>\n",
       "    <tr>\n",
       "      <th>0</th>\n",
       "      <td>0</td>\n",
       "      <td>0</td>\n",
       "      <td>0</td>\n",
       "      <td>0</td>\n",
       "      <td>0.0</td>\n",
       "    </tr>\n",
       "  </tbody>\n",
       "</table>\n",
       "<p>256 rows × 5 columns</p>\n",
       "</div>"
      ],
      "text/plain": [
       "     ShakingFragility  TsunamiFragility  LiquefactionFragility  \\\n",
       "255                 3                 3                      3   \n",
       "254                 3                 3                      3   \n",
       "253                 3                 3                      3   \n",
       "252                 3                 3                      3   \n",
       "251                 3                 3                      2   \n",
       "..                ...               ...                    ...   \n",
       "4                   0                 0                      1   \n",
       "3                   0                 0                      0   \n",
       "2                   0                 0                      0   \n",
       "1                   0                 0                      0   \n",
       "0                   0                 0                      0   \n",
       "\n",
       "     LandslideFragility  Combined  \n",
       "255                   3       3.0  \n",
       "254                   2       3.0  \n",
       "253                   1       3.0  \n",
       "252                   0       3.0  \n",
       "251                   3       3.0  \n",
       "..                  ...       ...  \n",
       "4                     0       1.0  \n",
       "3                     3       3.0  \n",
       "2                     2       2.0  \n",
       "1                     1       1.0  \n",
       "0                     0       0.0  \n",
       "\n",
       "[256 rows x 5 columns]"
      ]
     },
     "execution_count": 6,
     "metadata": {},
     "output_type": "execute_result"
    }
   ],
   "source": [
    "rows = list(itertools.product(list(itertools.product(list(itertools.product(damage_states_array,damage_states_array)),damage_states_array)),damage_states_array))\n",
    "\n",
    "df_fragilities = pd.DataFrame.from_dict(dict(ChainMap(*[{i:{\n",
    "    'Shaking':x[0][0][0],\n",
    "    'Tsunami':x[0][0][1],\n",
    "    'Liquefaction':x[0][1],\n",
    "    'Landslide':x[1]}} for i,x in zip(np.arange(0,len(rows),1),rows)]))).T\n",
    "\n",
    "#### But we can put in percentages.. it doesn't have to be 100% into the one state ####\n",
    "\n",
    "# Rules:\n",
    "# Pick the max damage state. Start with this as the combined damage state.\n",
    "# If there are multiple hazards of the same damage state, add one to the combined damage state\n",
    "# Cap the damage state at 3\n",
    "\n",
    "for index,row in df_fragilities.iterrows():\n",
    "    comb_frag = np.max(row)\n",
    "    # See how many hazards have the max damage state:\n",
    "    number_with_max_damage = list(row).count(comb_frag)\n",
    "    # If there are more than 2, add one to the combined damage state (unless your at max or no damage)\n",
    "    if (number_with_max_damage>=2)&(comb_frag!=3)&(comb_frag!=0):\n",
    "        comb_frag+=1\n",
    "    \n",
    "    # Add to the fragility\n",
    "    df_fragilities.loc[index,'Combined'] = int(comb_frag)\n",
    "    \n",
    "# Rename the columns to include fragility\n",
    "[df_fragilities.rename(columns={x:x+'Fragility'},inplace=True) for x in df_fragilities if x!='Combined']\n",
    "    \n",
    "df_fragilities"
   ]
  },
  {
   "cell_type": "code",
   "execution_count": 7,
   "metadata": {},
   "outputs": [],
   "source": [
    "# Replace the integers with strings \n",
    "df_fragilities = df_fragilities.replace(0,'DS0')\n",
    "df_fragilities = df_fragilities.replace(1,'DS1')\n",
    "df_fragilities = df_fragilities.replace(2,'DS2')\n",
    "df_fragilities = df_fragilities.replace(3,'DS3')\n"
   ]
  },
  {
   "cell_type": "code",
   "execution_count": 8,
   "metadata": {},
   "outputs": [],
   "source": [
    "df_fragilities.reset_index(drop=True,inplace=True)"
   ]
  },
  {
   "cell_type": "markdown",
   "metadata": {},
   "source": [
    "# Create a BN using this table"
   ]
  },
  {
   "cell_type": "code",
   "execution_count": 9,
   "metadata": {},
   "outputs": [],
   "source": [
    "frag_data_dict = {k:np.array(df_fragilities[k]) for k in list(df_fragilities)}"
   ]
  },
  {
   "cell_type": "code",
   "execution_count": 10,
   "metadata": {
    "scrolled": true
   },
   "outputs": [
    {
     "data": {
      "text/plain": [
       "{'ShakingFragility': array(['DS3', 'DS3', 'DS3', 'DS3', 'DS3', 'DS3', 'DS3', 'DS3', 'DS3',\n",
       "        'DS3', 'DS3', 'DS3', 'DS3', 'DS3', 'DS3', 'DS3', 'DS3', 'DS3',\n",
       "        'DS3', 'DS3', 'DS3', 'DS3', 'DS3', 'DS3', 'DS3', 'DS3', 'DS3',\n",
       "        'DS3', 'DS3', 'DS3', 'DS3', 'DS3', 'DS3', 'DS3', 'DS3', 'DS3',\n",
       "        'DS3', 'DS3', 'DS3', 'DS3', 'DS3', 'DS3', 'DS3', 'DS3', 'DS3',\n",
       "        'DS3', 'DS3', 'DS3', 'DS3', 'DS3', 'DS3', 'DS3', 'DS3', 'DS3',\n",
       "        'DS3', 'DS3', 'DS3', 'DS3', 'DS3', 'DS3', 'DS3', 'DS3', 'DS3',\n",
       "        'DS3', 'DS2', 'DS2', 'DS2', 'DS2', 'DS2', 'DS2', 'DS2', 'DS2',\n",
       "        'DS2', 'DS2', 'DS2', 'DS2', 'DS2', 'DS2', 'DS2', 'DS2', 'DS2',\n",
       "        'DS2', 'DS2', 'DS2', 'DS2', 'DS2', 'DS2', 'DS2', 'DS2', 'DS2',\n",
       "        'DS2', 'DS2', 'DS2', 'DS2', 'DS2', 'DS2', 'DS2', 'DS2', 'DS2',\n",
       "        'DS2', 'DS2', 'DS2', 'DS2', 'DS2', 'DS2', 'DS2', 'DS2', 'DS2',\n",
       "        'DS2', 'DS2', 'DS2', 'DS2', 'DS2', 'DS2', 'DS2', 'DS2', 'DS2',\n",
       "        'DS2', 'DS2', 'DS2', 'DS2', 'DS2', 'DS2', 'DS2', 'DS2', 'DS2',\n",
       "        'DS2', 'DS2', 'DS1', 'DS1', 'DS1', 'DS1', 'DS1', 'DS1', 'DS1',\n",
       "        'DS1', 'DS1', 'DS1', 'DS1', 'DS1', 'DS1', 'DS1', 'DS1', 'DS1',\n",
       "        'DS1', 'DS1', 'DS1', 'DS1', 'DS1', 'DS1', 'DS1', 'DS1', 'DS1',\n",
       "        'DS1', 'DS1', 'DS1', 'DS1', 'DS1', 'DS1', 'DS1', 'DS1', 'DS1',\n",
       "        'DS1', 'DS1', 'DS1', 'DS1', 'DS1', 'DS1', 'DS1', 'DS1', 'DS1',\n",
       "        'DS1', 'DS1', 'DS1', 'DS1', 'DS1', 'DS1', 'DS1', 'DS1', 'DS1',\n",
       "        'DS1', 'DS1', 'DS1', 'DS1', 'DS1', 'DS1', 'DS1', 'DS1', 'DS1',\n",
       "        'DS1', 'DS1', 'DS1', 'DS0', 'DS0', 'DS0', 'DS0', 'DS0', 'DS0',\n",
       "        'DS0', 'DS0', 'DS0', 'DS0', 'DS0', 'DS0', 'DS0', 'DS0', 'DS0',\n",
       "        'DS0', 'DS0', 'DS0', 'DS0', 'DS0', 'DS0', 'DS0', 'DS0', 'DS0',\n",
       "        'DS0', 'DS0', 'DS0', 'DS0', 'DS0', 'DS0', 'DS0', 'DS0', 'DS0',\n",
       "        'DS0', 'DS0', 'DS0', 'DS0', 'DS0', 'DS0', 'DS0', 'DS0', 'DS0',\n",
       "        'DS0', 'DS0', 'DS0', 'DS0', 'DS0', 'DS0', 'DS0', 'DS0', 'DS0',\n",
       "        'DS0', 'DS0', 'DS0', 'DS0', 'DS0', 'DS0', 'DS0', 'DS0', 'DS0',\n",
       "        'DS0', 'DS0', 'DS0', 'DS0'], dtype=object),\n",
       " 'TsunamiFragility': array(['DS3', 'DS3', 'DS3', 'DS3', 'DS3', 'DS3', 'DS3', 'DS3', 'DS3',\n",
       "        'DS3', 'DS3', 'DS3', 'DS3', 'DS3', 'DS3', 'DS3', 'DS2', 'DS2',\n",
       "        'DS2', 'DS2', 'DS2', 'DS2', 'DS2', 'DS2', 'DS2', 'DS2', 'DS2',\n",
       "        'DS2', 'DS2', 'DS2', 'DS2', 'DS2', 'DS1', 'DS1', 'DS1', 'DS1',\n",
       "        'DS1', 'DS1', 'DS1', 'DS1', 'DS1', 'DS1', 'DS1', 'DS1', 'DS1',\n",
       "        'DS1', 'DS1', 'DS1', 'DS0', 'DS0', 'DS0', 'DS0', 'DS0', 'DS0',\n",
       "        'DS0', 'DS0', 'DS0', 'DS0', 'DS0', 'DS0', 'DS0', 'DS0', 'DS0',\n",
       "        'DS0', 'DS3', 'DS3', 'DS3', 'DS3', 'DS3', 'DS3', 'DS3', 'DS3',\n",
       "        'DS3', 'DS3', 'DS3', 'DS3', 'DS3', 'DS3', 'DS3', 'DS3', 'DS2',\n",
       "        'DS2', 'DS2', 'DS2', 'DS2', 'DS2', 'DS2', 'DS2', 'DS2', 'DS2',\n",
       "        'DS2', 'DS2', 'DS2', 'DS2', 'DS2', 'DS2', 'DS1', 'DS1', 'DS1',\n",
       "        'DS1', 'DS1', 'DS1', 'DS1', 'DS1', 'DS1', 'DS1', 'DS1', 'DS1',\n",
       "        'DS1', 'DS1', 'DS1', 'DS1', 'DS0', 'DS0', 'DS0', 'DS0', 'DS0',\n",
       "        'DS0', 'DS0', 'DS0', 'DS0', 'DS0', 'DS0', 'DS0', 'DS0', 'DS0',\n",
       "        'DS0', 'DS0', 'DS3', 'DS3', 'DS3', 'DS3', 'DS3', 'DS3', 'DS3',\n",
       "        'DS3', 'DS3', 'DS3', 'DS3', 'DS3', 'DS3', 'DS3', 'DS3', 'DS3',\n",
       "        'DS2', 'DS2', 'DS2', 'DS2', 'DS2', 'DS2', 'DS2', 'DS2', 'DS2',\n",
       "        'DS2', 'DS2', 'DS2', 'DS2', 'DS2', 'DS2', 'DS2', 'DS1', 'DS1',\n",
       "        'DS1', 'DS1', 'DS1', 'DS1', 'DS1', 'DS1', 'DS1', 'DS1', 'DS1',\n",
       "        'DS1', 'DS1', 'DS1', 'DS1', 'DS1', 'DS0', 'DS0', 'DS0', 'DS0',\n",
       "        'DS0', 'DS0', 'DS0', 'DS0', 'DS0', 'DS0', 'DS0', 'DS0', 'DS0',\n",
       "        'DS0', 'DS0', 'DS0', 'DS3', 'DS3', 'DS3', 'DS3', 'DS3', 'DS3',\n",
       "        'DS3', 'DS3', 'DS3', 'DS3', 'DS3', 'DS3', 'DS3', 'DS3', 'DS3',\n",
       "        'DS3', 'DS2', 'DS2', 'DS2', 'DS2', 'DS2', 'DS2', 'DS2', 'DS2',\n",
       "        'DS2', 'DS2', 'DS2', 'DS2', 'DS2', 'DS2', 'DS2', 'DS2', 'DS1',\n",
       "        'DS1', 'DS1', 'DS1', 'DS1', 'DS1', 'DS1', 'DS1', 'DS1', 'DS1',\n",
       "        'DS1', 'DS1', 'DS1', 'DS1', 'DS1', 'DS1', 'DS0', 'DS0', 'DS0',\n",
       "        'DS0', 'DS0', 'DS0', 'DS0', 'DS0', 'DS0', 'DS0', 'DS0', 'DS0',\n",
       "        'DS0', 'DS0', 'DS0', 'DS0'], dtype=object),\n",
       " 'LiquefactionFragility': array(['DS3', 'DS3', 'DS3', 'DS3', 'DS2', 'DS2', 'DS2', 'DS2', 'DS1',\n",
       "        'DS1', 'DS1', 'DS1', 'DS0', 'DS0', 'DS0', 'DS0', 'DS3', 'DS3',\n",
       "        'DS3', 'DS3', 'DS2', 'DS2', 'DS2', 'DS2', 'DS1', 'DS1', 'DS1',\n",
       "        'DS1', 'DS0', 'DS0', 'DS0', 'DS0', 'DS3', 'DS3', 'DS3', 'DS3',\n",
       "        'DS2', 'DS2', 'DS2', 'DS2', 'DS1', 'DS1', 'DS1', 'DS1', 'DS0',\n",
       "        'DS0', 'DS0', 'DS0', 'DS3', 'DS3', 'DS3', 'DS3', 'DS2', 'DS2',\n",
       "        'DS2', 'DS2', 'DS1', 'DS1', 'DS1', 'DS1', 'DS0', 'DS0', 'DS0',\n",
       "        'DS0', 'DS3', 'DS3', 'DS3', 'DS3', 'DS2', 'DS2', 'DS2', 'DS2',\n",
       "        'DS1', 'DS1', 'DS1', 'DS1', 'DS0', 'DS0', 'DS0', 'DS0', 'DS3',\n",
       "        'DS3', 'DS3', 'DS3', 'DS2', 'DS2', 'DS2', 'DS2', 'DS1', 'DS1',\n",
       "        'DS1', 'DS1', 'DS0', 'DS0', 'DS0', 'DS0', 'DS3', 'DS3', 'DS3',\n",
       "        'DS3', 'DS2', 'DS2', 'DS2', 'DS2', 'DS1', 'DS1', 'DS1', 'DS1',\n",
       "        'DS0', 'DS0', 'DS0', 'DS0', 'DS3', 'DS3', 'DS3', 'DS3', 'DS2',\n",
       "        'DS2', 'DS2', 'DS2', 'DS1', 'DS1', 'DS1', 'DS1', 'DS0', 'DS0',\n",
       "        'DS0', 'DS0', 'DS3', 'DS3', 'DS3', 'DS3', 'DS2', 'DS2', 'DS2',\n",
       "        'DS2', 'DS1', 'DS1', 'DS1', 'DS1', 'DS0', 'DS0', 'DS0', 'DS0',\n",
       "        'DS3', 'DS3', 'DS3', 'DS3', 'DS2', 'DS2', 'DS2', 'DS2', 'DS1',\n",
       "        'DS1', 'DS1', 'DS1', 'DS0', 'DS0', 'DS0', 'DS0', 'DS3', 'DS3',\n",
       "        'DS3', 'DS3', 'DS2', 'DS2', 'DS2', 'DS2', 'DS1', 'DS1', 'DS1',\n",
       "        'DS1', 'DS0', 'DS0', 'DS0', 'DS0', 'DS3', 'DS3', 'DS3', 'DS3',\n",
       "        'DS2', 'DS2', 'DS2', 'DS2', 'DS1', 'DS1', 'DS1', 'DS1', 'DS0',\n",
       "        'DS0', 'DS0', 'DS0', 'DS3', 'DS3', 'DS3', 'DS3', 'DS2', 'DS2',\n",
       "        'DS2', 'DS2', 'DS1', 'DS1', 'DS1', 'DS1', 'DS0', 'DS0', 'DS0',\n",
       "        'DS0', 'DS3', 'DS3', 'DS3', 'DS3', 'DS2', 'DS2', 'DS2', 'DS2',\n",
       "        'DS1', 'DS1', 'DS1', 'DS1', 'DS0', 'DS0', 'DS0', 'DS0', 'DS3',\n",
       "        'DS3', 'DS3', 'DS3', 'DS2', 'DS2', 'DS2', 'DS2', 'DS1', 'DS1',\n",
       "        'DS1', 'DS1', 'DS0', 'DS0', 'DS0', 'DS0', 'DS3', 'DS3', 'DS3',\n",
       "        'DS3', 'DS2', 'DS2', 'DS2', 'DS2', 'DS1', 'DS1', 'DS1', 'DS1',\n",
       "        'DS0', 'DS0', 'DS0', 'DS0'], dtype=object),\n",
       " 'LandslideFragility': array(['DS3', 'DS2', 'DS1', 'DS0', 'DS3', 'DS2', 'DS1', 'DS0', 'DS3',\n",
       "        'DS2', 'DS1', 'DS0', 'DS3', 'DS2', 'DS1', 'DS0', 'DS3', 'DS2',\n",
       "        'DS1', 'DS0', 'DS3', 'DS2', 'DS1', 'DS0', 'DS3', 'DS2', 'DS1',\n",
       "        'DS0', 'DS3', 'DS2', 'DS1', 'DS0', 'DS3', 'DS2', 'DS1', 'DS0',\n",
       "        'DS3', 'DS2', 'DS1', 'DS0', 'DS3', 'DS2', 'DS1', 'DS0', 'DS3',\n",
       "        'DS2', 'DS1', 'DS0', 'DS3', 'DS2', 'DS1', 'DS0', 'DS3', 'DS2',\n",
       "        'DS1', 'DS0', 'DS3', 'DS2', 'DS1', 'DS0', 'DS3', 'DS2', 'DS1',\n",
       "        'DS0', 'DS3', 'DS2', 'DS1', 'DS0', 'DS3', 'DS2', 'DS1', 'DS0',\n",
       "        'DS3', 'DS2', 'DS1', 'DS0', 'DS3', 'DS2', 'DS1', 'DS0', 'DS3',\n",
       "        'DS2', 'DS1', 'DS0', 'DS3', 'DS2', 'DS1', 'DS0', 'DS3', 'DS2',\n",
       "        'DS1', 'DS0', 'DS3', 'DS2', 'DS1', 'DS0', 'DS3', 'DS2', 'DS1',\n",
       "        'DS0', 'DS3', 'DS2', 'DS1', 'DS0', 'DS3', 'DS2', 'DS1', 'DS0',\n",
       "        'DS3', 'DS2', 'DS1', 'DS0', 'DS3', 'DS2', 'DS1', 'DS0', 'DS3',\n",
       "        'DS2', 'DS1', 'DS0', 'DS3', 'DS2', 'DS1', 'DS0', 'DS3', 'DS2',\n",
       "        'DS1', 'DS0', 'DS3', 'DS2', 'DS1', 'DS0', 'DS3', 'DS2', 'DS1',\n",
       "        'DS0', 'DS3', 'DS2', 'DS1', 'DS0', 'DS3', 'DS2', 'DS1', 'DS0',\n",
       "        'DS3', 'DS2', 'DS1', 'DS0', 'DS3', 'DS2', 'DS1', 'DS0', 'DS3',\n",
       "        'DS2', 'DS1', 'DS0', 'DS3', 'DS2', 'DS1', 'DS0', 'DS3', 'DS2',\n",
       "        'DS1', 'DS0', 'DS3', 'DS2', 'DS1', 'DS0', 'DS3', 'DS2', 'DS1',\n",
       "        'DS0', 'DS3', 'DS2', 'DS1', 'DS0', 'DS3', 'DS2', 'DS1', 'DS0',\n",
       "        'DS3', 'DS2', 'DS1', 'DS0', 'DS3', 'DS2', 'DS1', 'DS0', 'DS3',\n",
       "        'DS2', 'DS1', 'DS0', 'DS3', 'DS2', 'DS1', 'DS0', 'DS3', 'DS2',\n",
       "        'DS1', 'DS0', 'DS3', 'DS2', 'DS1', 'DS0', 'DS3', 'DS2', 'DS1',\n",
       "        'DS0', 'DS3', 'DS2', 'DS1', 'DS0', 'DS3', 'DS2', 'DS1', 'DS0',\n",
       "        'DS3', 'DS2', 'DS1', 'DS0', 'DS3', 'DS2', 'DS1', 'DS0', 'DS3',\n",
       "        'DS2', 'DS1', 'DS0', 'DS3', 'DS2', 'DS1', 'DS0', 'DS3', 'DS2',\n",
       "        'DS1', 'DS0', 'DS3', 'DS2', 'DS1', 'DS0', 'DS3', 'DS2', 'DS1',\n",
       "        'DS0', 'DS3', 'DS2', 'DS1', 'DS0', 'DS3', 'DS2', 'DS1', 'DS0',\n",
       "        'DS3', 'DS2', 'DS1', 'DS0'], dtype=object),\n",
       " 'Combined': array(['DS3', 'DS3', 'DS3', 'DS3', 'DS3', 'DS3', 'DS3', 'DS3', 'DS3',\n",
       "        'DS3', 'DS3', 'DS3', 'DS3', 'DS3', 'DS3', 'DS3', 'DS3', 'DS3',\n",
       "        'DS3', 'DS3', 'DS3', 'DS3', 'DS3', 'DS3', 'DS3', 'DS3', 'DS3',\n",
       "        'DS3', 'DS3', 'DS3', 'DS3', 'DS3', 'DS3', 'DS3', 'DS3', 'DS3',\n",
       "        'DS3', 'DS3', 'DS3', 'DS3', 'DS3', 'DS3', 'DS3', 'DS3', 'DS3',\n",
       "        'DS3', 'DS3', 'DS3', 'DS3', 'DS3', 'DS3', 'DS3', 'DS3', 'DS3',\n",
       "        'DS3', 'DS3', 'DS3', 'DS3', 'DS3', 'DS3', 'DS3', 'DS3', 'DS3',\n",
       "        'DS3', 'DS3', 'DS3', 'DS3', 'DS3', 'DS3', 'DS3', 'DS3', 'DS3',\n",
       "        'DS3', 'DS3', 'DS3', 'DS3', 'DS3', 'DS3', 'DS3', 'DS3', 'DS3',\n",
       "        'DS3', 'DS3', 'DS3', 'DS3', 'DS3', 'DS3', 'DS3', 'DS3', 'DS3',\n",
       "        'DS3', 'DS3', 'DS3', 'DS3', 'DS3', 'DS3', 'DS3', 'DS3', 'DS3',\n",
       "        'DS3', 'DS3', 'DS3', 'DS3', 'DS3', 'DS3', 'DS3', 'DS2', 'DS2',\n",
       "        'DS3', 'DS3', 'DS2', 'DS2', 'DS3', 'DS3', 'DS3', 'DS3', 'DS3',\n",
       "        'DS3', 'DS3', 'DS3', 'DS3', 'DS3', 'DS2', 'DS2', 'DS3', 'DS3',\n",
       "        'DS2', 'DS2', 'DS3', 'DS3', 'DS3', 'DS3', 'DS3', 'DS3', 'DS3',\n",
       "        'DS3', 'DS3', 'DS3', 'DS3', 'DS3', 'DS3', 'DS3', 'DS3', 'DS3',\n",
       "        'DS3', 'DS3', 'DS3', 'DS3', 'DS3', 'DS3', 'DS3', 'DS3', 'DS3',\n",
       "        'DS3', 'DS2', 'DS2', 'DS3', 'DS3', 'DS2', 'DS2', 'DS3', 'DS3',\n",
       "        'DS3', 'DS3', 'DS3', 'DS3', 'DS2', 'DS2', 'DS3', 'DS2', 'DS2',\n",
       "        'DS2', 'DS3', 'DS2', 'DS2', 'DS2', 'DS3', 'DS3', 'DS3', 'DS3',\n",
       "        'DS3', 'DS3', 'DS2', 'DS2', 'DS3', 'DS2', 'DS2', 'DS2', 'DS3',\n",
       "        'DS2', 'DS2', 'DS1', 'DS3', 'DS3', 'DS3', 'DS3', 'DS3', 'DS3',\n",
       "        'DS3', 'DS3', 'DS3', 'DS3', 'DS3', 'DS3', 'DS3', 'DS3', 'DS3',\n",
       "        'DS3', 'DS3', 'DS3', 'DS3', 'DS3', 'DS3', 'DS3', 'DS3', 'DS3',\n",
       "        'DS3', 'DS3', 'DS2', 'DS2', 'DS3', 'DS3', 'DS2', 'DS2', 'DS3',\n",
       "        'DS3', 'DS3', 'DS3', 'DS3', 'DS3', 'DS2', 'DS2', 'DS3', 'DS2',\n",
       "        'DS2', 'DS2', 'DS3', 'DS2', 'DS2', 'DS1', 'DS3', 'DS3', 'DS3',\n",
       "        'DS3', 'DS3', 'DS3', 'DS2', 'DS2', 'DS3', 'DS2', 'DS2', 'DS1',\n",
       "        'DS3', 'DS2', 'DS1', 'DS0'], dtype=object)}"
      ]
     },
     "execution_count": 10,
     "metadata": {},
     "output_type": "execute_result"
    }
   ],
   "source": [
    "frag_data_dict"
   ]
  },
  {
   "cell_type": "code",
   "execution_count": 11,
   "metadata": {},
   "outputs": [],
   "source": [
    "frag_file_label = 'fragility'\n",
    "\n",
    "#### Don't include spaces in bin names. if no discretisation, just leave out that key\n",
    "frag_model_dict = {\n",
    "    'variables':{\n",
    "        'ShakingFragility':{\n",
    "            'label':'ShakingFragility',\n",
    "            'child_nodes':['Combined'],\n",
    "            'bins':['DS0','DS1','DS2','DS3']\n",
    "        },\n",
    "        'TsunamiFragility':{\n",
    "            'label':'TsunamiFragility',\n",
    "            'child_nodes':['Combined'],\n",
    "            'bins':['DS0','DS1','DS2','DS3']\n",
    "        },\n",
    "        'LiquefactionFragility':{\n",
    "            'label':'LiquefactionFragility',\n",
    "            'child_nodes':['Combined'],\n",
    "            'bins':['DS0','DS1','DS2','DS3']\n",
    "        },\n",
    "        'LandslideFragility':{\n",
    "            'label':'LandslideFragility',\n",
    "            'child_nodes':['Combined'],\n",
    "            'bins':['DS0','DS1','DS2','DS3']\n",
    "        },\n",
    "        'Combined':{\n",
    "            'label':'Combined',\n",
    "            'child_nodes':[],\n",
    "            'bins':['DS0','DS1','DS2','DS3']\n",
    "        }\n",
    "    },\n",
    "    'training_frac':0.8,\n",
    "    'bootstrap_reps':1\n",
    "}"
   ]
  },
  {
   "cell_type": "code",
   "execution_count": 12,
   "metadata": {},
   "outputs": [
    {
     "data": {
      "text/html": [
       "<div>\n",
       "<style scoped>\n",
       "    .dataframe tbody tr th:only-of-type {\n",
       "        vertical-align: middle;\n",
       "    }\n",
       "\n",
       "    .dataframe tbody tr th {\n",
       "        vertical-align: top;\n",
       "    }\n",
       "\n",
       "    .dataframe thead th {\n",
       "        text-align: right;\n",
       "    }\n",
       "</style>\n",
       "<table border=\"1\" class=\"dataframe\">\n",
       "  <thead>\n",
       "    <tr style=\"text-align: right;\">\n",
       "      <th></th>\n",
       "      <th>ShakingFragility</th>\n",
       "      <th>TsunamiFragility</th>\n",
       "      <th>LiquefactionFragility</th>\n",
       "      <th>LandslideFragility</th>\n",
       "      <th>Combined</th>\n",
       "    </tr>\n",
       "  </thead>\n",
       "  <tbody>\n",
       "    <tr>\n",
       "      <th>0</th>\n",
       "      <td>DS3</td>\n",
       "      <td>DS3</td>\n",
       "      <td>DS3</td>\n",
       "      <td>DS3</td>\n",
       "      <td>DS3</td>\n",
       "    </tr>\n",
       "    <tr>\n",
       "      <th>1</th>\n",
       "      <td>DS3</td>\n",
       "      <td>DS3</td>\n",
       "      <td>DS3</td>\n",
       "      <td>DS2</td>\n",
       "      <td>DS3</td>\n",
       "    </tr>\n",
       "    <tr>\n",
       "      <th>2</th>\n",
       "      <td>DS3</td>\n",
       "      <td>DS3</td>\n",
       "      <td>DS3</td>\n",
       "      <td>DS1</td>\n",
       "      <td>DS3</td>\n",
       "    </tr>\n",
       "    <tr>\n",
       "      <th>3</th>\n",
       "      <td>DS3</td>\n",
       "      <td>DS3</td>\n",
       "      <td>DS3</td>\n",
       "      <td>DS0</td>\n",
       "      <td>DS3</td>\n",
       "    </tr>\n",
       "    <tr>\n",
       "      <th>4</th>\n",
       "      <td>DS3</td>\n",
       "      <td>DS3</td>\n",
       "      <td>DS2</td>\n",
       "      <td>DS3</td>\n",
       "      <td>DS3</td>\n",
       "    </tr>\n",
       "    <tr>\n",
       "      <th>...</th>\n",
       "      <td>...</td>\n",
       "      <td>...</td>\n",
       "      <td>...</td>\n",
       "      <td>...</td>\n",
       "      <td>...</td>\n",
       "    </tr>\n",
       "    <tr>\n",
       "      <th>251</th>\n",
       "      <td>DS0</td>\n",
       "      <td>DS0</td>\n",
       "      <td>DS1</td>\n",
       "      <td>DS0</td>\n",
       "      <td>DS1</td>\n",
       "    </tr>\n",
       "    <tr>\n",
       "      <th>252</th>\n",
       "      <td>DS0</td>\n",
       "      <td>DS0</td>\n",
       "      <td>DS0</td>\n",
       "      <td>DS3</td>\n",
       "      <td>DS3</td>\n",
       "    </tr>\n",
       "    <tr>\n",
       "      <th>253</th>\n",
       "      <td>DS0</td>\n",
       "      <td>DS0</td>\n",
       "      <td>DS0</td>\n",
       "      <td>DS2</td>\n",
       "      <td>DS2</td>\n",
       "    </tr>\n",
       "    <tr>\n",
       "      <th>254</th>\n",
       "      <td>DS0</td>\n",
       "      <td>DS0</td>\n",
       "      <td>DS0</td>\n",
       "      <td>DS1</td>\n",
       "      <td>DS1</td>\n",
       "    </tr>\n",
       "    <tr>\n",
       "      <th>255</th>\n",
       "      <td>DS0</td>\n",
       "      <td>DS0</td>\n",
       "      <td>DS0</td>\n",
       "      <td>DS0</td>\n",
       "      <td>DS0</td>\n",
       "    </tr>\n",
       "  </tbody>\n",
       "</table>\n",
       "<p>256 rows × 5 columns</p>\n",
       "</div>"
      ],
      "text/plain": [
       "    ShakingFragility TsunamiFragility LiquefactionFragility  \\\n",
       "0                DS3              DS3                   DS3   \n",
       "1                DS3              DS3                   DS3   \n",
       "2                DS3              DS3                   DS3   \n",
       "3                DS3              DS3                   DS3   \n",
       "4                DS3              DS3                   DS2   \n",
       "..               ...              ...                   ...   \n",
       "251              DS0              DS0                   DS1   \n",
       "252              DS0              DS0                   DS0   \n",
       "253              DS0              DS0                   DS0   \n",
       "254              DS0              DS0                   DS0   \n",
       "255              DS0              DS0                   DS0   \n",
       "\n",
       "    LandslideFragility Combined  \n",
       "0                  DS3      DS3  \n",
       "1                  DS2      DS3  \n",
       "2                  DS1      DS3  \n",
       "3                  DS0      DS3  \n",
       "4                  DS3      DS3  \n",
       "..                 ...      ...  \n",
       "251                DS0      DS1  \n",
       "252                DS3      DS3  \n",
       "253                DS2      DS2  \n",
       "254                DS1      DS1  \n",
       "255                DS0      DS0  \n",
       "\n",
       "[256 rows x 5 columns]"
      ]
     },
     "execution_count": 12,
     "metadata": {},
     "output_type": "execute_result"
    }
   ],
   "source": [
    "df_fragilities"
   ]
  },
  {
   "cell_type": "code",
   "execution_count": 13,
   "metadata": {},
   "outputs": [],
   "source": [
    "frag_model_dict = BNModel().bootstrap_data(frag_model_dict,frag_data_dict,df_fragilities)"
   ]
  },
  {
   "cell_type": "code",
   "execution_count": 14,
   "metadata": {},
   "outputs": [
    {
     "name": "stdout",
     "output_type": "stream",
     "text": [
      "ShakingFragility\n",
      "TsunamiFragility\n",
      "LiquefactionFragility\n",
      "LandslideFragility\n",
      "Combined\n"
     ]
    }
   ],
   "source": [
    "frag_model_dict = BNModel().discretiser(frag_model_dict,[])"
   ]
  },
  {
   "cell_type": "code",
   "execution_count": 15,
   "metadata": {},
   "outputs": [],
   "source": [
    "BNModel().save_dataset(frag_model_dict,frag_file_label)"
   ]
  },
  {
   "cell_type": "code",
   "execution_count": 16,
   "metadata": {},
   "outputs": [],
   "source": [
    "frag_model_dict = BNModel().create_SM(frag_model_dict,frag_file_label)"
   ]
  },
  {
   "cell_type": "code",
   "execution_count": 17,
   "metadata": {},
   "outputs": [],
   "source": [
    "# Set evidence and get beliefs\n",
    "frag_model_dict = BNModel().update_evidence(frag_model_dict)"
   ]
  },
  {
   "cell_type": "markdown",
   "metadata": {},
   "source": [
    "# Creating Dummy fragility functions"
   ]
  },
  {
   "cell_type": "markdown",
   "metadata": {},
   "source": [
    "## Earthquakes"
   ]
  },
  {
   "cell_type": "code",
   "execution_count": 47,
   "metadata": {},
   "outputs": [],
   "source": [
    "bins = bin_defs_dict['earthquake']\n",
    "earthquake_max = 2*bins['high']-bins['medium']\n",
    "earthquake_diff = bins['high']-bins['medium']"
   ]
  },
  {
   "cell_type": "code",
   "execution_count": 48,
   "metadata": {},
   "outputs": [
    {
     "data": {
      "text/plain": [
       "2.2867944737922237"
      ]
     },
     "execution_count": 48,
     "metadata": {},
     "output_type": "execute_result"
    }
   ],
   "source": [
    "earthquake_diff"
   ]
  },
  {
   "cell_type": "code",
   "execution_count": 52,
   "metadata": {},
   "outputs": [
    {
     "name": "stderr",
     "output_type": "stream",
     "text": [
      "/tmp/ipykernel_277/1850619962.py:30: RuntimeWarning: divide by zero encountered in log\n",
      "  P_ds3 = [(np.log(im)-mu_ds3)/sigma_ds3 for im in IM]\n",
      "/tmp/ipykernel_277/1850619962.py:32: RuntimeWarning: invalid value encountered in true_divide\n",
      "  P_ds3 = P_ds3/np.max(P_ds3)\n"
     ]
    },
    {
     "data": {
      "text/plain": [
       "<matplotlib.legend.Legend at 0x7f2d1b257bb0>"
      ]
     },
     "execution_count": 52,
     "metadata": {},
     "output_type": "execute_result"
    },
    {
     "data": {
      "image/png": "[encoded data removed]",
      "text/plain": [
       "<Figure size 432x288 with 1 Axes>"
      ]
     },
     "metadata": {
      "needs_background": "light"
     },
     "output_type": "display_data"
    }
   ],
   "source": [
    "ax = plt.subplot2grid((1,1),(0,0))\n",
    "\n",
    "# Get max mean pga\n",
    "mu_ds0 = bins['minimum']\n",
    "mu_ds1 = 2*earthquake_diff+bins['minimum']\n",
    "mu_ds2 = 3*earthquake_diff+bins['minimum']\n",
    "mu_ds3 = 4*earthquake_diff+bins['minimum']\n",
    "\n",
    "sigma_ds0 = 0.00000001\n",
    "sigma_ds1 = 1\n",
    "sigma_ds2 = 1\n",
    "sigma_ds3 = 1\n",
    "\n",
    "IM = np.arange(bins['minimum'],earthquake_max,(earthquake_max-bins['minimum'])/1000)\n",
    "\n",
    "P_ds0 = [1/(sigma_ds0*(2*np.pi)**0.5)*np.exp(-.5*((im-mu_ds0)/sigma_ds0)**2) for im in IM]\n",
    "P_ds0 = np.cumsum(P_ds0)\n",
    "P_ds0 = P_ds0/np.max(P_ds0)\n",
    "\n",
    "P_ds1 = [1/(sigma_ds1*(2*np.pi)**0.5)*np.exp(-.5*((im-mu_ds1)/sigma_ds1)**2) for im in IM]\n",
    "P_ds1 = np.cumsum(P_ds1)\n",
    "P_ds1 = P_ds1/np.max(P_ds1)\n",
    "\n",
    "P_ds2 = [1/(sigma_ds2*(2*np.pi)**0.5)*np.exp(-.5*((im-mu_ds2)/sigma_ds2)**2) for im in IM]\n",
    "P_ds2 = np.cumsum(P_ds2)\n",
    "P_ds2 = P_ds2/np.max(P_ds2)\n",
    "\n",
    "# P_ds3 = [1/(sigma_ds3*(2*np.pi)**0.5)*np.exp(-.5*((im-mu_ds3)/sigma_ds3)**2) for im in IM]\n",
    "IM = np.arange(0,1,0.1)\n",
    "P_ds3 = [(np.log(im)-mu_ds3)/sigma_ds3 for im in IM]\n",
    "P_ds3 = np.cumsum(P_ds3)\n",
    "P_ds3 = P_ds3/np.max(P_ds3)\n",
    "\n",
    "# l0 = plt.plot(IM,P_ds0)\n",
    "# l1 = plt.plot(IM,P_ds1)\n",
    "# l2 = plt.plot(IM,P_ds2)\n",
    "l3 = plt.plot(IM,P_ds3)\n",
    "\n",
    "# ax.plot([bins['low'],bins['low']],[0,1],ls='--',c='k')\n",
    "# ax.plot([bins['medium'],bins['medium']],[0,1],ls='--',c='k')\n",
    "# ax.plot([bins['high'],bins['high']],[0,1],ls='--',c='k')\n",
    "\n",
    "ax.legend(['DS0','DS1','DS2','DS3'])\n",
    "\n",
    "# plt.plot(IM,P_ds0)\n",
    "# plt.plot(IM,P_ds1)\n",
    "# plt.plot(IM,P_ds2)\n",
    "# plt.plot(IM,P_ds3)\n"
   ]
  },
  {
   "cell_type": "code",
   "execution_count": 53,
   "metadata": {},
   "outputs": [
    {
     "name": "stderr",
     "output_type": "stream",
     "text": [
      "/tmp/ipykernel_277/1658130550.py:1: RuntimeWarning: divide by zero encountered in log\n",
      "  [(np.log(im)-mu_ds3)/sigma_ds3 for im in IM]\n"
     ]
    },
    {
     "data": {
      "text/plain": [
       "[-inf,\n",
       " -5.896620117206858,\n",
       " -5.203472936646913,\n",
       " -4.798007828538748,\n",
       " -4.510325756086967,\n",
       " -4.2871822047727575,\n",
       " -4.104860647978803,\n",
       " -3.9507099681515445,\n",
       " -3.8171785755270218,\n",
       " -3.6993955398706384]"
      ]
     },
     "execution_count": 53,
     "metadata": {},
     "output_type": "execute_result"
    }
   ],
   "source": [
    "[(np.log(im)-mu_ds3)/sigma_ds3 for im in IM]"
   ]
  },
  {
   "cell_type": "code",
   "execution_count": 50,
   "metadata": {},
   "outputs": [
    {
     "data": {
      "text/plain": [
       "array([-5.55314287e+00, -5.54399569e+00, -5.53484852e+00, -5.52570134e+00,\n",
       "       -5.51655416e+00, -5.50740698e+00, -5.49825980e+00, -5.48911263e+00,\n",
       "       -5.47996545e+00, -5.47081827e+00, -5.46167109e+00, -5.45252391e+00,\n",
       "       -5.44337674e+00, -5.43422956e+00, -5.42508238e+00, -5.41593520e+00,\n",
       "       -5.40678802e+00, -5.39764085e+00, -5.38849367e+00, -5.37934649e+00,\n",
       "       -5.37019931e+00, -5.36105214e+00, -5.35190496e+00, -5.34275778e+00,\n",
       "       -5.33361060e+00, -5.32446342e+00, -5.31531625e+00, -5.30616907e+00,\n",
       "       -5.29702189e+00, -5.28787471e+00, -5.27872753e+00, -5.26958036e+00,\n",
       "       -5.26043318e+00, -5.25128600e+00, -5.24213882e+00, -5.23299164e+00,\n",
       "       -5.22384447e+00, -5.21469729e+00, -5.20555011e+00, -5.19640293e+00,\n",
       "       -5.18725576e+00, -5.17810858e+00, -5.16896140e+00, -5.15981422e+00,\n",
       "       -5.15066704e+00, -5.14151987e+00, -5.13237269e+00, -5.12322551e+00,\n",
       "       -5.11407833e+00, -5.10493115e+00, -5.09578398e+00, -5.08663680e+00,\n",
       "       -5.07748962e+00, -5.06834244e+00, -5.05919526e+00, -5.05004809e+00,\n",
       "       -5.04090091e+00, -5.03175373e+00, -5.02260655e+00, -5.01345938e+00,\n",
       "       -5.00431220e+00, -4.99516502e+00, -4.98601784e+00, -4.97687066e+00,\n",
       "       -4.96772349e+00, -4.95857631e+00, -4.94942913e+00, -4.94028195e+00,\n",
       "       -4.93113477e+00, -4.92198760e+00, -4.91284042e+00, -4.90369324e+00,\n",
       "       -4.89454606e+00, -4.88539888e+00, -4.87625171e+00, -4.86710453e+00,\n",
       "       -4.85795735e+00, -4.84881017e+00, -4.83966300e+00, -4.83051582e+00,\n",
       "       -4.82136864e+00, -4.81222146e+00, -4.80307428e+00, -4.79392711e+00,\n",
       "       -4.78477993e+00, -4.77563275e+00, -4.76648557e+00, -4.75733839e+00,\n",
       "       -4.74819122e+00, -4.73904404e+00, -4.72989686e+00, -4.72074968e+00,\n",
       "       -4.71160250e+00, -4.70245533e+00, -4.69330815e+00, -4.68416097e+00,\n",
       "       -4.67501379e+00, -4.66586662e+00, -4.65671944e+00, -4.64757226e+00,\n",
       "       -4.63842508e+00, -4.62927790e+00, -4.62013073e+00, -4.61098355e+00,\n",
       "       -4.60183637e+00, -4.59268919e+00, -4.58354201e+00, -4.57439484e+00,\n",
       "       -4.56524766e+00, -4.55610048e+00, -4.54695330e+00, -4.53780612e+00,\n",
       "       -4.52865895e+00, -4.51951177e+00, -4.51036459e+00, -4.50121741e+00,\n",
       "       -4.49207024e+00, -4.48292306e+00, -4.47377588e+00, -4.46462870e+00,\n",
       "       -4.45548152e+00, -4.44633435e+00, -4.43718717e+00, -4.42803999e+00,\n",
       "       -4.41889281e+00, -4.40974563e+00, -4.40059846e+00, -4.39145128e+00,\n",
       "       -4.38230410e+00, -4.37315692e+00, -4.36400974e+00, -4.35486257e+00,\n",
       "       -4.34571539e+00, -4.33656821e+00, -4.32742103e+00, -4.31827386e+00,\n",
       "       -4.30912668e+00, -4.29997950e+00, -4.29083232e+00, -4.28168514e+00,\n",
       "       -4.27253797e+00, -4.26339079e+00, -4.25424361e+00, -4.24509643e+00,\n",
       "       -4.23594925e+00, -4.22680208e+00, -4.21765490e+00, -4.20850772e+00,\n",
       "       -4.19936054e+00, -4.19021336e+00, -4.18106619e+00, -4.17191901e+00,\n",
       "       -4.16277183e+00, -4.15362465e+00, -4.14447748e+00, -4.13533030e+00,\n",
       "       -4.12618312e+00, -4.11703594e+00, -4.10788876e+00, -4.09874159e+00,\n",
       "       -4.08959441e+00, -4.08044723e+00, -4.07130005e+00, -4.06215287e+00,\n",
       "       -4.05300570e+00, -4.04385852e+00, -4.03471134e+00, -4.02556416e+00,\n",
       "       -4.01641698e+00, -4.00726981e+00, -3.99812263e+00, -3.98897545e+00,\n",
       "       -3.97982827e+00, -3.97068110e+00, -3.96153392e+00, -3.95238674e+00,\n",
       "       -3.94323956e+00, -3.93409238e+00, -3.92494521e+00, -3.91579803e+00,\n",
       "       -3.90665085e+00, -3.89750367e+00, -3.88835649e+00, -3.87920932e+00,\n",
       "       -3.87006214e+00, -3.86091496e+00, -3.85176778e+00, -3.84262060e+00,\n",
       "       -3.83347343e+00, -3.82432625e+00, -3.81517907e+00, -3.80603189e+00,\n",
       "       -3.79688472e+00, -3.78773754e+00, -3.77859036e+00, -3.76944318e+00,\n",
       "       -3.76029600e+00, -3.75114883e+00, -3.74200165e+00, -3.73285447e+00,\n",
       "       -3.72370729e+00, -3.71456011e+00, -3.70541294e+00, -3.69626576e+00,\n",
       "       -3.68711858e+00, -3.67797140e+00, -3.66882422e+00, -3.65967705e+00,\n",
       "       -3.65052987e+00, -3.64138269e+00, -3.63223551e+00, -3.62308834e+00,\n",
       "       -3.61394116e+00, -3.60479398e+00, -3.59564680e+00, -3.58649962e+00,\n",
       "       -3.57735245e+00, -3.56820527e+00, -3.55905809e+00, -3.54991091e+00,\n",
       "       -3.54076373e+00, -3.53161656e+00, -3.52246938e+00, -3.51332220e+00,\n",
       "       -3.50417502e+00, -3.49502784e+00, -3.48588067e+00, -3.47673349e+00,\n",
       "       -3.46758631e+00, -3.45843913e+00, -3.44929196e+00, -3.44014478e+00,\n",
       "       -3.43099760e+00, -3.42185042e+00, -3.41270324e+00, -3.40355607e+00,\n",
       "       -3.39440889e+00, -3.38526171e+00, -3.37611453e+00, -3.36696735e+00,\n",
       "       -3.35782018e+00, -3.34867300e+00, -3.33952582e+00, -3.33037864e+00,\n",
       "       -3.32123146e+00, -3.31208429e+00, -3.30293711e+00, -3.29378993e+00,\n",
       "       -3.28464275e+00, -3.27549558e+00, -3.26634840e+00, -3.25720122e+00,\n",
       "       -3.24805404e+00, -3.23890686e+00, -3.22975969e+00, -3.22061251e+00,\n",
       "       -3.21146533e+00, -3.20231815e+00, -3.19317097e+00, -3.18402380e+00,\n",
       "       -3.17487662e+00, -3.16572944e+00, -3.15658226e+00, -3.14743508e+00,\n",
       "       -3.13828791e+00, -3.12914073e+00, -3.11999355e+00, -3.11084637e+00,\n",
       "       -3.10169920e+00, -3.09255202e+00, -3.08340484e+00, -3.07425766e+00,\n",
       "       -3.06511048e+00, -3.05596331e+00, -3.04681613e+00, -3.03766895e+00,\n",
       "       -3.02852177e+00, -3.01937459e+00, -3.01022742e+00, -3.00108024e+00,\n",
       "       -2.99193306e+00, -2.98278588e+00, -2.97363870e+00, -2.96449153e+00,\n",
       "       -2.95534435e+00, -2.94619717e+00, -2.93704999e+00, -2.92790282e+00,\n",
       "       -2.91875564e+00, -2.90960846e+00, -2.90046128e+00, -2.89131410e+00,\n",
       "       -2.88216693e+00, -2.87301975e+00, -2.86387257e+00, -2.85472539e+00,\n",
       "       -2.84557821e+00, -2.83643104e+00, -2.82728386e+00, -2.81813668e+00,\n",
       "       -2.80898950e+00, -2.79984232e+00, -2.79069515e+00, -2.78154797e+00,\n",
       "       -2.77240079e+00, -2.76325361e+00, -2.75410644e+00, -2.74495926e+00,\n",
       "       -2.73581208e+00, -2.72666490e+00, -2.71751772e+00, -2.70837055e+00,\n",
       "       -2.69922337e+00, -2.69007619e+00, -2.68092901e+00, -2.67178183e+00,\n",
       "       -2.66263466e+00, -2.65348748e+00, -2.64434030e+00, -2.63519312e+00,\n",
       "       -2.62604594e+00, -2.61689877e+00, -2.60775159e+00, -2.59860441e+00,\n",
       "       -2.58945723e+00, -2.58031006e+00, -2.57116288e+00, -2.56201570e+00,\n",
       "       -2.55286852e+00, -2.54372134e+00, -2.53457417e+00, -2.52542699e+00,\n",
       "       -2.51627981e+00, -2.50713263e+00, -2.49798545e+00, -2.48883828e+00,\n",
       "       -2.47969110e+00, -2.47054392e+00, -2.46139674e+00, -2.45224956e+00,\n",
       "       -2.44310239e+00, -2.43395521e+00, -2.42480803e+00, -2.41566085e+00,\n",
       "       -2.40651368e+00, -2.39736650e+00, -2.38821932e+00, -2.37907214e+00,\n",
       "       -2.36992496e+00, -2.36077779e+00, -2.35163061e+00, -2.34248343e+00,\n",
       "       -2.33333625e+00, -2.32418907e+00, -2.31504190e+00, -2.30589472e+00,\n",
       "       -2.29674754e+00, -2.28760036e+00, -2.27845318e+00, -2.26930601e+00,\n",
       "       -2.26015883e+00, -2.25101165e+00, -2.24186447e+00, -2.23271730e+00,\n",
       "       -2.22357012e+00, -2.21442294e+00, -2.20527576e+00, -2.19612858e+00,\n",
       "       -2.18698141e+00, -2.17783423e+00, -2.16868705e+00, -2.15953987e+00,\n",
       "       -2.15039269e+00, -2.14124552e+00, -2.13209834e+00, -2.12295116e+00,\n",
       "       -2.11380398e+00, -2.10465680e+00, -2.09550963e+00, -2.08636245e+00,\n",
       "       -2.07721527e+00, -2.06806809e+00, -2.05892092e+00, -2.04977374e+00,\n",
       "       -2.04062656e+00, -2.03147938e+00, -2.02233220e+00, -2.01318503e+00,\n",
       "       -2.00403785e+00, -1.99489067e+00, -1.98574349e+00, -1.97659631e+00,\n",
       "       -1.96744914e+00, -1.95830196e+00, -1.94915478e+00, -1.94000760e+00,\n",
       "       -1.93086042e+00, -1.92171325e+00, -1.91256607e+00, -1.90341889e+00,\n",
       "       -1.89427171e+00, -1.88512453e+00, -1.87597736e+00, -1.86683018e+00,\n",
       "       -1.85768300e+00, -1.84853582e+00, -1.83938865e+00, -1.83024147e+00,\n",
       "       -1.82109429e+00, -1.81194711e+00, -1.80279993e+00, -1.79365276e+00,\n",
       "       -1.78450558e+00, -1.77535840e+00, -1.76621122e+00, -1.75706404e+00,\n",
       "       -1.74791687e+00, -1.73876969e+00, -1.72962251e+00, -1.72047533e+00,\n",
       "       -1.71132815e+00, -1.70218098e+00, -1.69303380e+00, -1.68388662e+00,\n",
       "       -1.67473944e+00, -1.66559227e+00, -1.65644509e+00, -1.64729791e+00,\n",
       "       -1.63815073e+00, -1.62900355e+00, -1.61985638e+00, -1.61070920e+00,\n",
       "       -1.60156202e+00, -1.59241484e+00, -1.58326766e+00, -1.57412049e+00,\n",
       "       -1.56497331e+00, -1.55582613e+00, -1.54667895e+00, -1.53753177e+00,\n",
       "       -1.52838460e+00, -1.51923742e+00, -1.51009024e+00, -1.50094306e+00,\n",
       "       -1.49179589e+00, -1.48264871e+00, -1.47350153e+00, -1.46435435e+00,\n",
       "       -1.45520717e+00, -1.44606000e+00, -1.43691282e+00, -1.42776564e+00,\n",
       "       -1.41861846e+00, -1.40947128e+00, -1.40032411e+00, -1.39117693e+00,\n",
       "       -1.38202975e+00, -1.37288257e+00, -1.36373539e+00, -1.35458822e+00,\n",
       "       -1.34544104e+00, -1.33629386e+00, -1.32714668e+00, -1.31799951e+00,\n",
       "       -1.30885233e+00, -1.29970515e+00, -1.29055797e+00, -1.28141079e+00,\n",
       "       -1.27226362e+00, -1.26311644e+00, -1.25396926e+00, -1.24482208e+00,\n",
       "       -1.23567490e+00, -1.22652773e+00, -1.21738055e+00, -1.20823337e+00,\n",
       "       -1.19908619e+00, -1.18993901e+00, -1.18079184e+00, -1.17164466e+00,\n",
       "       -1.16249748e+00, -1.15335030e+00, -1.14420313e+00, -1.13505595e+00,\n",
       "       -1.12590877e+00, -1.11676159e+00, -1.10761441e+00, -1.09846724e+00,\n",
       "       -1.08932006e+00, -1.08017288e+00, -1.07102570e+00, -1.06187852e+00,\n",
       "       -1.05273135e+00, -1.04358417e+00, -1.03443699e+00, -1.02528981e+00,\n",
       "       -1.01614263e+00, -1.00699546e+00, -9.97848279e-01, -9.88701101e-01,\n",
       "       -9.79553923e-01, -9.70406745e-01, -9.61259568e-01, -9.52112390e-01,\n",
       "       -9.42965212e-01, -9.33818034e-01, -9.24670856e-01, -9.15523678e-01,\n",
       "       -9.06376500e-01, -8.97229322e-01, -8.88082144e-01, -8.78934967e-01,\n",
       "       -8.69787789e-01, -8.60640611e-01, -8.51493433e-01, -8.42346255e-01,\n",
       "       -8.33199077e-01, -8.24051899e-01, -8.14904721e-01, -8.05757543e-01,\n",
       "       -7.96610365e-01, -7.87463188e-01, -7.78316010e-01, -7.69168832e-01,\n",
       "       -7.60021654e-01, -7.50874476e-01, -7.41727298e-01, -7.32580120e-01,\n",
       "       -7.23432942e-01, -7.14285764e-01, -7.05138587e-01, -6.95991409e-01,\n",
       "       -6.86844231e-01, -6.77697053e-01, -6.68549875e-01, -6.59402697e-01,\n",
       "       -6.50255519e-01, -6.41108341e-01, -6.31961163e-01, -6.22813985e-01,\n",
       "       -6.13666808e-01, -6.04519630e-01, -5.95372452e-01, -5.86225274e-01,\n",
       "       -5.77078096e-01, -5.67930918e-01, -5.58783740e-01, -5.49636562e-01,\n",
       "       -5.40489384e-01, -5.31342207e-01, -5.22195029e-01, -5.13047851e-01,\n",
       "       -5.03900673e-01, -4.94753495e-01, -4.85606317e-01, -4.76459139e-01,\n",
       "       -4.67311961e-01, -4.58164783e-01, -4.49017605e-01, -4.39870428e-01,\n",
       "       -4.30723250e-01, -4.21576072e-01, -4.12428894e-01, -4.03281716e-01,\n",
       "       -3.94134538e-01, -3.84987360e-01, -3.75840182e-01, -3.66693004e-01,\n",
       "       -3.57545826e-01, -3.48398649e-01, -3.39251471e-01, -3.30104293e-01,\n",
       "       -3.20957115e-01, -3.11809937e-01, -3.02662759e-01, -2.93515581e-01,\n",
       "       -2.84368403e-01, -2.75221225e-01, -2.66074048e-01, -2.56926870e-01,\n",
       "       -2.47779692e-01, -2.38632514e-01, -2.29485336e-01, -2.20338158e-01,\n",
       "       -2.11190980e-01, -2.02043802e-01, -1.92896624e-01, -1.83749446e-01,\n",
       "       -1.74602269e-01, -1.65455091e-01, -1.56307913e-01, -1.47160735e-01,\n",
       "       -1.38013557e-01, -1.28866379e-01, -1.19719201e-01, -1.10572023e-01,\n",
       "       -1.01424845e-01, -9.22776675e-02, -8.31304896e-02, -7.39833117e-02,\n",
       "       -6.48361339e-02, -5.56889560e-02, -4.65417781e-02, -3.73946002e-02,\n",
       "       -2.82474223e-02, -1.91002444e-02, -9.95306648e-03, -8.05888588e-04,\n",
       "        8.34128931e-03,  1.74884672e-02,  2.66356451e-02,  3.57828230e-02,\n",
       "        4.49300009e-02,  5.40771788e-02,  6.32243567e-02,  7.23715346e-02,\n",
       "        8.15187125e-02,  9.06658904e-02,  9.98130683e-02,  1.08960246e-01,\n",
       "        1.18107424e-01,  1.27254602e-01,  1.36401780e-01,  1.45548958e-01,\n",
       "        1.54696136e-01,  1.63843314e-01,  1.72990491e-01,  1.82137669e-01,\n",
       "        1.91284847e-01,  2.00432025e-01,  2.09579203e-01,  2.18726381e-01,\n",
       "        2.27873559e-01,  2.37020737e-01,  2.46167915e-01,  2.55315092e-01,\n",
       "        2.64462270e-01,  2.73609448e-01,  2.82756626e-01,  2.91903804e-01,\n",
       "        3.01050982e-01,  3.10198160e-01,  3.19345338e-01,  3.28492516e-01,\n",
       "        3.37639694e-01,  3.46786871e-01,  3.55934049e-01,  3.65081227e-01,\n",
       "        3.74228405e-01,  3.83375583e-01,  3.92522761e-01,  4.01669939e-01,\n",
       "        4.10817117e-01,  4.19964295e-01,  4.29111472e-01,  4.38258650e-01,\n",
       "        4.47405828e-01,  4.56553006e-01,  4.65700184e-01,  4.74847362e-01,\n",
       "        4.83994540e-01,  4.93141718e-01,  5.02288896e-01,  5.11436074e-01,\n",
       "        5.20583251e-01,  5.29730429e-01,  5.38877607e-01,  5.48024785e-01,\n",
       "        5.57171963e-01,  5.66319141e-01,  5.75466319e-01,  5.84613497e-01,\n",
       "        5.93760675e-01,  6.02907852e-01,  6.12055030e-01,  6.21202208e-01,\n",
       "        6.30349386e-01,  6.39496564e-01,  6.48643742e-01,  6.57790920e-01,\n",
       "        6.66938098e-01,  6.76085276e-01,  6.85232454e-01,  6.94379631e-01,\n",
       "        7.03526809e-01,  7.12673987e-01,  7.21821165e-01,  7.30968343e-01,\n",
       "        7.40115521e-01,  7.49262699e-01,  7.58409877e-01,  7.67557055e-01,\n",
       "        7.76704233e-01,  7.85851410e-01,  7.94998588e-01,  8.04145766e-01,\n",
       "        8.13292944e-01,  8.22440122e-01,  8.31587300e-01,  8.40734478e-01,\n",
       "        8.49881656e-01,  8.59028834e-01,  8.68176011e-01,  8.77323189e-01,\n",
       "        8.86470367e-01,  8.95617545e-01,  9.04764723e-01,  9.13911901e-01,\n",
       "        9.23059079e-01,  9.32206257e-01,  9.41353435e-01,  9.50500613e-01,\n",
       "        9.59647790e-01,  9.68794968e-01,  9.77942146e-01,  9.87089324e-01,\n",
       "        9.96236502e-01,  1.00538368e+00,  1.01453086e+00,  1.02367804e+00,\n",
       "        1.03282521e+00,  1.04197239e+00,  1.05111957e+00,  1.06026675e+00,\n",
       "        1.06941393e+00,  1.07856110e+00,  1.08770828e+00,  1.09685546e+00,\n",
       "        1.10600264e+00,  1.11514981e+00,  1.12429699e+00,  1.13344417e+00,\n",
       "        1.14259135e+00,  1.15173853e+00,  1.16088570e+00,  1.17003288e+00,\n",
       "        1.17918006e+00,  1.18832724e+00,  1.19747442e+00,  1.20662159e+00,\n",
       "        1.21576877e+00,  1.22491595e+00,  1.23406313e+00,  1.24321031e+00,\n",
       "        1.25235748e+00,  1.26150466e+00,  1.27065184e+00,  1.27979902e+00,\n",
       "        1.28894619e+00,  1.29809337e+00,  1.30724055e+00,  1.31638773e+00,\n",
       "        1.32553491e+00,  1.33468208e+00,  1.34382926e+00,  1.35297644e+00,\n",
       "        1.36212362e+00,  1.37127080e+00,  1.38041797e+00,  1.38956515e+00,\n",
       "        1.39871233e+00,  1.40785951e+00,  1.41700669e+00,  1.42615386e+00,\n",
       "        1.43530104e+00,  1.44444822e+00,  1.45359540e+00,  1.46274257e+00,\n",
       "        1.47188975e+00,  1.48103693e+00,  1.49018411e+00,  1.49933129e+00,\n",
       "        1.50847846e+00,  1.51762564e+00,  1.52677282e+00,  1.53592000e+00,\n",
       "        1.54506718e+00,  1.55421435e+00,  1.56336153e+00,  1.57250871e+00,\n",
       "        1.58165589e+00,  1.59080307e+00,  1.59995024e+00,  1.60909742e+00,\n",
       "        1.61824460e+00,  1.62739178e+00,  1.63653895e+00,  1.64568613e+00,\n",
       "        1.65483331e+00,  1.66398049e+00,  1.67312767e+00,  1.68227484e+00,\n",
       "        1.69142202e+00,  1.70056920e+00,  1.70971638e+00,  1.71886356e+00,\n",
       "        1.72801073e+00,  1.73715791e+00,  1.74630509e+00,  1.75545227e+00,\n",
       "        1.76459945e+00,  1.77374662e+00,  1.78289380e+00,  1.79204098e+00,\n",
       "        1.80118816e+00,  1.81033533e+00,  1.81948251e+00,  1.82862969e+00,\n",
       "        1.83777687e+00,  1.84692405e+00,  1.85607122e+00,  1.86521840e+00,\n",
       "        1.87436558e+00,  1.88351276e+00,  1.89265994e+00,  1.90180711e+00,\n",
       "        1.91095429e+00,  1.92010147e+00,  1.92924865e+00,  1.93839583e+00,\n",
       "        1.94754300e+00,  1.95669018e+00,  1.96583736e+00,  1.97498454e+00,\n",
       "        1.98413171e+00,  1.99327889e+00,  2.00242607e+00,  2.01157325e+00,\n",
       "        2.02072043e+00,  2.02986760e+00,  2.03901478e+00,  2.04816196e+00,\n",
       "        2.05730914e+00,  2.06645632e+00,  2.07560349e+00,  2.08475067e+00,\n",
       "        2.09389785e+00,  2.10304503e+00,  2.11219221e+00,  2.12133938e+00,\n",
       "        2.13048656e+00,  2.13963374e+00,  2.14878092e+00,  2.15792809e+00,\n",
       "        2.16707527e+00,  2.17622245e+00,  2.18536963e+00,  2.19451681e+00,\n",
       "        2.20366398e+00,  2.21281116e+00,  2.22195834e+00,  2.23110552e+00,\n",
       "        2.24025270e+00,  2.24939987e+00,  2.25854705e+00,  2.26769423e+00,\n",
       "        2.27684141e+00,  2.28598859e+00,  2.29513576e+00,  2.30428294e+00,\n",
       "        2.31343012e+00,  2.32257730e+00,  2.33172447e+00,  2.34087165e+00,\n",
       "        2.35001883e+00,  2.35916601e+00,  2.36831319e+00,  2.37746036e+00,\n",
       "        2.38660754e+00,  2.39575472e+00,  2.40490190e+00,  2.41404908e+00,\n",
       "        2.42319625e+00,  2.43234343e+00,  2.44149061e+00,  2.45063779e+00,\n",
       "        2.45978497e+00,  2.46893214e+00,  2.47807932e+00,  2.48722650e+00,\n",
       "        2.49637368e+00,  2.50552085e+00,  2.51466803e+00,  2.52381521e+00,\n",
       "        2.53296239e+00,  2.54210957e+00,  2.55125674e+00,  2.56040392e+00,\n",
       "        2.56955110e+00,  2.57869828e+00,  2.58784546e+00,  2.59699263e+00,\n",
       "        2.60613981e+00,  2.61528699e+00,  2.62443417e+00,  2.63358135e+00,\n",
       "        2.64272852e+00,  2.65187570e+00,  2.66102288e+00,  2.67017006e+00,\n",
       "        2.67931723e+00,  2.68846441e+00,  2.69761159e+00,  2.70675877e+00,\n",
       "        2.71590595e+00,  2.72505312e+00,  2.73420030e+00,  2.74334748e+00,\n",
       "        2.75249466e+00,  2.76164184e+00,  2.77078901e+00,  2.77993619e+00,\n",
       "        2.78908337e+00,  2.79823055e+00,  2.80737773e+00,  2.81652490e+00,\n",
       "        2.82567208e+00,  2.83481926e+00,  2.84396644e+00,  2.85311361e+00,\n",
       "        2.86226079e+00,  2.87140797e+00,  2.88055515e+00,  2.88970233e+00,\n",
       "        2.89884950e+00,  2.90799668e+00,  2.91714386e+00,  2.92629104e+00,\n",
       "        2.93543822e+00,  2.94458539e+00,  2.95373257e+00,  2.96287975e+00,\n",
       "        2.97202693e+00,  2.98117411e+00,  2.99032128e+00,  2.99946846e+00,\n",
       "        3.00861564e+00,  3.01776282e+00,  3.02690999e+00,  3.03605717e+00,\n",
       "        3.04520435e+00,  3.05435153e+00,  3.06349871e+00,  3.07264588e+00,\n",
       "        3.08179306e+00,  3.09094024e+00,  3.10008742e+00,  3.10923460e+00,\n",
       "        3.11838177e+00,  3.12752895e+00,  3.13667613e+00,  3.14582331e+00,\n",
       "        3.15497049e+00,  3.16411766e+00,  3.17326484e+00,  3.18241202e+00,\n",
       "        3.19155920e+00,  3.20070637e+00,  3.20985355e+00,  3.21900073e+00,\n",
       "        3.22814791e+00,  3.23729509e+00,  3.24644226e+00,  3.25558944e+00,\n",
       "        3.26473662e+00,  3.27388380e+00,  3.28303098e+00,  3.29217815e+00,\n",
       "        3.30132533e+00,  3.31047251e+00,  3.31961969e+00,  3.32876687e+00,\n",
       "        3.33791404e+00,  3.34706122e+00,  3.35620840e+00,  3.36535558e+00,\n",
       "        3.37450275e+00,  3.38364993e+00,  3.39279711e+00,  3.40194429e+00,\n",
       "        3.41109147e+00,  3.42023864e+00,  3.42938582e+00,  3.43853300e+00,\n",
       "        3.44768018e+00,  3.45682736e+00,  3.46597453e+00,  3.47512171e+00,\n",
       "        3.48426889e+00,  3.49341607e+00,  3.50256325e+00,  3.51171042e+00,\n",
       "        3.52085760e+00,  3.53000478e+00,  3.53915196e+00,  3.54829913e+00,\n",
       "        3.55744631e+00,  3.56659349e+00,  3.57574067e+00,  3.58488785e+00])"
      ]
     },
     "execution_count": 50,
     "metadata": {},
     "output_type": "execute_result"
    }
   ],
   "source": [
    "IM"
   ]
  },
  {
   "cell_type": "code",
   "execution_count": 21,
   "metadata": {},
   "outputs": [],
   "source": [
    "df_ds_shaking = pd.DataFrame.from_dict({\"DS0\":P_ds0,\"DS1\":P_ds1,\"DS2\":P_ds2,\"DS3\":P_ds3})\n",
    "df_ds_shaking.index = IM"
   ]
  },
  {
   "cell_type": "code",
   "execution_count": 22,
   "metadata": {},
   "outputs": [],
   "source": [
    "df_ds_shaking[\"DS2\"] = df_ds_shaking.DS2-df_ds_shaking.DS3\n",
    "df_ds_shaking[\"DS1\"] = df_ds_shaking.DS1-df_ds_shaking.DS2-df_ds_shaking.DS3\n",
    "df_ds_shaking[\"DS0\"] = df_ds_shaking.DS0-df_ds_shaking.DS1-df_ds_shaking.DS2-df_ds_shaking.DS3"
   ]
  },
  {
   "cell_type": "code",
   "execution_count": 23,
   "metadata": {},
   "outputs": [
    {
     "data": {
      "text/plain": [
       "<matplotlib.legend.Legend at 0x7f2d1b685c70>"
      ]
     },
     "execution_count": 23,
     "metadata": {},
     "output_type": "execute_result"
    },
    {
     "data": {
      "image/png": "[encoded data removed]",
      "text/plain": [
       "<Figure size 432x288 with 1 Axes>"
      ]
     },
     "metadata": {
      "needs_background": "light"
     },
     "output_type": "display_data"
    }
   ],
   "source": [
    "l0 = plt.plot(df_ds_shaking.DS0)\n",
    "l1 = plt.plot(df_ds_shaking.DS1)\n",
    "l2 = plt.plot(df_ds_shaking.DS2)\n",
    "l3 = plt.plot(df_ds_shaking.DS3)\n",
    "\n",
    "plt.legend(['DS0','DS1','DS2','DS3'])\n"
   ]
  },
  {
   "cell_type": "code",
   "execution_count": 24,
   "metadata": {},
   "outputs": [
    {
     "data": {
      "text/html": [
       "<div>\n",
       "<style scoped>\n",
       "    .dataframe tbody tr th:only-of-type {\n",
       "        vertical-align: middle;\n",
       "    }\n",
       "\n",
       "    .dataframe tbody tr th {\n",
       "        vertical-align: top;\n",
       "    }\n",
       "\n",
       "    .dataframe thead th {\n",
       "        text-align: right;\n",
       "    }\n",
       "</style>\n",
       "<table border=\"1\" class=\"dataframe\">\n",
       "  <thead>\n",
       "    <tr style=\"text-align: right;\">\n",
       "      <th></th>\n",
       "      <th>DS0</th>\n",
       "      <th>DS1</th>\n",
       "      <th>DS2</th>\n",
       "      <th>DS3</th>\n",
       "    </tr>\n",
       "  </thead>\n",
       "  <tbody>\n",
       "    <tr>\n",
       "      <th>-5.553143</th>\n",
       "      <td>9.999999e-01</td>\n",
       "      <td>1.047066e-07</td>\n",
       "      <td>2.223826e-13</td>\n",
       "      <td>4.964983e-21</td>\n",
       "    </tr>\n",
       "    <tr>\n",
       "      <th>-5.543996</th>\n",
       "      <td>9.999998e-01</td>\n",
       "      <td>2.138820e-07</td>\n",
       "      <td>4.591576e-13</td>\n",
       "      <td>1.036304e-20</td>\n",
       "    </tr>\n",
       "    <tr>\n",
       "      <th>-5.534849</th>\n",
       "      <td>9.999997e-01</td>\n",
       "      <td>3.277074e-07</td>\n",
       "      <td>7.112355e-13</td>\n",
       "      <td>1.623145e-20</td>\n",
       "    </tr>\n",
       "    <tr>\n",
       "      <th>-5.525701</th>\n",
       "      <td>9.999996e-01</td>\n",
       "      <td>4.463709e-07</td>\n",
       "      <td>9.795828e-13</td>\n",
       "      <td>2.261067e-20</td>\n",
       "    </tr>\n",
       "    <tr>\n",
       "      <th>-5.516554</th>\n",
       "      <td>9.999994e-01</td>\n",
       "      <td>5.700678e-07</td>\n",
       "      <td>1.265226e-12</td>\n",
       "      <td>2.954458e-20</td>\n",
       "    </tr>\n",
       "    <tr>\n",
       "      <th>...</th>\n",
       "      <td>...</td>\n",
       "      <td>...</td>\n",
       "      <td>...</td>\n",
       "      <td>...</td>\n",
       "    </tr>\n",
       "    <tr>\n",
       "      <th>3.548299</th>\n",
       "      <td>4.653622e-07</td>\n",
       "      <td>1.137949e-03</td>\n",
       "      <td>2.815289e-02</td>\n",
       "      <td>9.707087e-01</td>\n",
       "    </tr>\n",
       "    <tr>\n",
       "      <th>3.557446</th>\n",
       "      <td>3.416650e-07</td>\n",
       "      <td>8.445811e-04</td>\n",
       "      <td>2.112616e-02</td>\n",
       "      <td>9.780289e-01</td>\n",
       "    </tr>\n",
       "    <tr>\n",
       "      <th>3.566593</th>\n",
       "      <td>2.230013e-07</td>\n",
       "      <td>5.571989e-04</td>\n",
       "      <td>1.409129e-02</td>\n",
       "      <td>9.853513e-01</td>\n",
       "    </tr>\n",
       "    <tr>\n",
       "      <th>3.575741</th>\n",
       "      <td>1.091756e-07</td>\n",
       "      <td>2.757044e-04</td>\n",
       "      <td>7.049003e-03</td>\n",
       "      <td>9.926752e-01</td>\n",
       "    </tr>\n",
       "    <tr>\n",
       "      <th>3.584888</th>\n",
       "      <td>0.000000e+00</td>\n",
       "      <td>0.000000e+00</td>\n",
       "      <td>0.000000e+00</td>\n",
       "      <td>1.000000e+00</td>\n",
       "    </tr>\n",
       "  </tbody>\n",
       "</table>\n",
       "<p>1000 rows × 4 columns</p>\n",
       "</div>"
      ],
      "text/plain": [
       "                    DS0           DS1           DS2           DS3\n",
       "-5.553143  9.999999e-01  1.047066e-07  2.223826e-13  4.964983e-21\n",
       "-5.543996  9.999998e-01  2.138820e-07  4.591576e-13  1.036304e-20\n",
       "-5.534849  9.999997e-01  3.277074e-07  7.112355e-13  1.623145e-20\n",
       "-5.525701  9.999996e-01  4.463709e-07  9.795828e-13  2.261067e-20\n",
       "-5.516554  9.999994e-01  5.700678e-07  1.265226e-12  2.954458e-20\n",
       "...                 ...           ...           ...           ...\n",
       " 3.548299  4.653622e-07  1.137949e-03  2.815289e-02  9.707087e-01\n",
       " 3.557446  3.416650e-07  8.445811e-04  2.112616e-02  9.780289e-01\n",
       " 3.566593  2.230013e-07  5.571989e-04  1.409129e-02  9.853513e-01\n",
       " 3.575741  1.091756e-07  2.757044e-04  7.049003e-03  9.926752e-01\n",
       " 3.584888  0.000000e+00  0.000000e+00  0.000000e+00  1.000000e+00\n",
       "\n",
       "[1000 rows x 4 columns]"
      ]
     },
     "execution_count": 24,
     "metadata": {},
     "output_type": "execute_result"
    }
   ],
   "source": [
    "df_ds_shaking"
   ]
  },
  {
   "cell_type": "markdown",
   "metadata": {},
   "source": [
    "## Tsunami"
   ]
  },
  {
   "cell_type": "code",
   "execution_count": 25,
   "metadata": {},
   "outputs": [
    {
     "data": {
      "text/plain": [
       "9.813117273785497"
      ]
     },
     "execution_count": 25,
     "metadata": {},
     "output_type": "execute_result"
    }
   ],
   "source": [
    "bins = bin_defs_dict['tsunami']\n",
    "tsunami_max = 2*bins['high']-bins['medium']\n",
    "tsunami_max"
   ]
  },
  {
   "cell_type": "code",
   "execution_count": 26,
   "metadata": {},
   "outputs": [
    {
     "data": {
      "text/plain": [
       "<matplotlib.legend.Legend at 0x7f2d1b604eb0>"
      ]
     },
     "execution_count": 26,
     "metadata": {},
     "output_type": "execute_result"
    },
    {
     "data": {
      "image/png": "[encoded data removed]",
      "text/plain": [
       "<Figure size 432x288 with 1 Axes>"
      ]
     },
     "metadata": {
      "needs_background": "light"
     },
     "output_type": "display_data"
    }
   ],
   "source": [
    "ax = plt.subplot2grid((1,1),(0,0))\n",
    "\n",
    "# Get max mean pga\n",
    "mu_ds0 = 0.0000001#max_pga/4\n",
    "mu_ds1 = tsunami_max/4\n",
    "mu_ds2 = 2*tsunami_max/4\n",
    "mu_ds3 = tsunami_max*2\n",
    "\n",
    "sigma_ds0 = 0.00000001\n",
    "sigma_ds1 = 1\n",
    "sigma_ds2 = 2\n",
    "sigma_ds3 = 4\n",
    "\n",
    "IM = np.arange(0,tsunami_max,(tsunami_max-0)/1000)\n",
    "\n",
    "P_ds0 = [1/(sigma_ds0*(2*np.pi)**0.5)*np.exp(-.5*((im-mu_ds0)/sigma_ds0)**2) for im in IM]\n",
    "P_ds0 = np.cumsum(P_ds0)\n",
    "P_ds0 = P_ds0/np.max(P_ds0)\n",
    "\n",
    "P_ds1 = [1/(sigma_ds1*(2*np.pi)**0.5)*np.exp(-.5*((im-mu_ds1)/sigma_ds1)**2) for im in IM]\n",
    "P_ds1 = np.cumsum(P_ds1)\n",
    "P_ds1 = P_ds1/np.max(P_ds1)\n",
    "\n",
    "P_ds2 = [1/(sigma_ds2*(2*np.pi)**0.5)*np.exp(-.5*((im-mu_ds2)/sigma_ds2)**2) for im in IM]\n",
    "P_ds2 = np.cumsum(P_ds2)\n",
    "P_ds2 = P_ds2/np.max(P_ds2)\n",
    "\n",
    "P_ds3 = [1/(sigma_ds3*(2*np.pi)**0.5)*np.exp(-.5*((im-mu_ds3)/sigma_ds3)**2) for im in IM]\n",
    "P_ds3 = np.cumsum(P_ds3)\n",
    "P_ds3 = P_ds3/np.max(P_ds3)\n",
    "\n",
    "l0 = ax.plot(IM,P_ds0)\n",
    "l1 = ax.plot(IM,P_ds1)\n",
    "l2 = ax.plot(IM,P_ds2)\n",
    "l3 = ax.plot(IM,P_ds3)\n",
    "\n",
    "ax.plot([bins['zero'],bins['zero']],[0,1],ls='--',c='k')\n",
    "ax.plot([bins['low'],bins['low']],[0,1],ls='--',c='k')\n",
    "ax.plot([bins['medium'],bins['medium']],[0,1],ls='--',c='k')\n",
    "ax.plot([bins['high'],bins['high']],[0,1],ls='--',c='k')\n",
    "\n",
    "ax.legend(['DS0','DS1','DS2','DS3'])\n",
    "\n",
    "# plt.plot(IM,P_ds0)\n",
    "# plt.plot(IM,P_ds1)\n",
    "# plt.plot(IM,P_ds2)\n",
    "# plt.plot(IM,P_ds3)\n"
   ]
  },
  {
   "cell_type": "code",
   "execution_count": 27,
   "metadata": {},
   "outputs": [],
   "source": [
    "df_ds_tsunami = pd.DataFrame.from_dict({\"DS0\":P_ds0,\"DS1\":P_ds1,\"DS2\":P_ds2,\"DS3\":P_ds3})\n",
    "df_ds_tsunami.index = IM"
   ]
  },
  {
   "cell_type": "code",
   "execution_count": 28,
   "metadata": {},
   "outputs": [],
   "source": [
    "df_ds_tsunami[\"DS2\"] = df_ds_tsunami.DS2-df_ds_tsunami.DS3\n",
    "df_ds_tsunami[\"DS1\"] = df_ds_tsunami.DS1-df_ds_tsunami.DS2-df_ds_tsunami.DS3\n",
    "df_ds_tsunami[\"DS0\"] = df_ds_tsunami.DS0-df_ds_tsunami.DS1-df_ds_tsunami.DS2-df_ds_tsunami.DS3"
   ]
  },
  {
   "cell_type": "code",
   "execution_count": 29,
   "metadata": {},
   "outputs": [
    {
     "data": {
      "text/plain": [
       "<matplotlib.legend.Legend at 0x7f2d1b540e80>"
      ]
     },
     "execution_count": 29,
     "metadata": {},
     "output_type": "execute_result"
    },
    {
     "data": {
      "image/png": "[encoded data removed]",
      "text/plain": [
       "<Figure size 432x288 with 1 Axes>"
      ]
     },
     "metadata": {
      "needs_background": "light"
     },
     "output_type": "display_data"
    }
   ],
   "source": [
    "l0 = plt.plot(df_ds_tsunami.DS0)\n",
    "l1 = plt.plot(df_ds_tsunami.DS1)\n",
    "l2 = plt.plot(df_ds_tsunami.DS2)\n",
    "l3 = plt.plot(df_ds_tsunami.DS3)\n",
    "\n",
    "plt.legend(['DS0','DS1','DS2','DS3'])\n"
   ]
  },
  {
   "cell_type": "code",
   "execution_count": 30,
   "metadata": {},
   "outputs": [
    {
     "data": {
      "text/html": [
       "<div>\n",
       "<style scoped>\n",
       "    .dataframe tbody tr th:only-of-type {\n",
       "        vertical-align: middle;\n",
       "    }\n",
       "\n",
       "    .dataframe tbody tr th {\n",
       "        vertical-align: top;\n",
       "    }\n",
       "\n",
       "    .dataframe thead th {\n",
       "        text-align: right;\n",
       "    }\n",
       "</style>\n",
       "<table border=\"1\" class=\"dataframe\">\n",
       "  <thead>\n",
       "    <tr style=\"text-align: right;\">\n",
       "      <th></th>\n",
       "      <th>DS0</th>\n",
       "      <th>DS1</th>\n",
       "      <th>DS2</th>\n",
       "      <th>DS3</th>\n",
       "    </tr>\n",
       "  </thead>\n",
       "  <tbody>\n",
       "    <tr>\n",
       "      <th>0.000000</th>\n",
       "      <td>9.998055e-01</td>\n",
       "      <td>0.000097</td>\n",
       "      <td>0.000097</td>\n",
       "      <td>8.214558e-07</td>\n",
       "    </tr>\n",
       "    <tr>\n",
       "      <th>0.009813</th>\n",
       "      <td>9.996063e-01</td>\n",
       "      <td>0.000197</td>\n",
       "      <td>0.000195</td>\n",
       "      <td>1.652857e-06</td>\n",
       "    </tr>\n",
       "    <tr>\n",
       "      <th>0.019626</th>\n",
       "      <td>9.994023e-01</td>\n",
       "      <td>0.000300</td>\n",
       "      <td>0.000295</td>\n",
       "      <td>2.494318e-06</td>\n",
       "    </tr>\n",
       "    <tr>\n",
       "      <th>0.029439</th>\n",
       "      <td>9.991934e-01</td>\n",
       "      <td>0.000408</td>\n",
       "      <td>0.000396</td>\n",
       "      <td>3.345957e-06</td>\n",
       "    </tr>\n",
       "    <tr>\n",
       "      <th>0.039252</th>\n",
       "      <td>9.989794e-01</td>\n",
       "      <td>0.000519</td>\n",
       "      <td>0.000497</td>\n",
       "      <td>4.207891e-06</td>\n",
       "    </tr>\n",
       "    <tr>\n",
       "      <th>...</th>\n",
       "      <td>...</td>\n",
       "      <td>...</td>\n",
       "      <td>...</td>\n",
       "      <td>...</td>\n",
       "    </tr>\n",
       "    <tr>\n",
       "      <th>9.764052</th>\n",
       "      <td>3.275158e-14</td>\n",
       "      <td>0.000404</td>\n",
       "      <td>0.026565</td>\n",
       "      <td>9.730311e-01</td>\n",
       "    </tr>\n",
       "    <tr>\n",
       "      <th>9.773865</th>\n",
       "      <td>2.364775e-14</td>\n",
       "      <td>0.000301</td>\n",
       "      <td>0.019987</td>\n",
       "      <td>9.797124e-01</td>\n",
       "    </tr>\n",
       "    <tr>\n",
       "      <th>9.783678</th>\n",
       "      <td>1.521006e-14</td>\n",
       "      <td>0.000199</td>\n",
       "      <td>0.013366</td>\n",
       "      <td>9.864342e-01</td>\n",
       "    </tr>\n",
       "    <tr>\n",
       "      <th>9.793491</th>\n",
       "      <td>7.327472e-15</td>\n",
       "      <td>0.000099</td>\n",
       "      <td>0.006704</td>\n",
       "      <td>9.931967e-01</td>\n",
       "    </tr>\n",
       "    <tr>\n",
       "      <th>9.803304</th>\n",
       "      <td>0.000000e+00</td>\n",
       "      <td>0.000000</td>\n",
       "      <td>0.000000</td>\n",
       "      <td>1.000000e+00</td>\n",
       "    </tr>\n",
       "  </tbody>\n",
       "</table>\n",
       "<p>1000 rows × 4 columns</p>\n",
       "</div>"
      ],
      "text/plain": [
       "                   DS0       DS1       DS2           DS3\n",
       "0.000000  9.998055e-01  0.000097  0.000097  8.214558e-07\n",
       "0.009813  9.996063e-01  0.000197  0.000195  1.652857e-06\n",
       "0.019626  9.994023e-01  0.000300  0.000295  2.494318e-06\n",
       "0.029439  9.991934e-01  0.000408  0.000396  3.345957e-06\n",
       "0.039252  9.989794e-01  0.000519  0.000497  4.207891e-06\n",
       "...                ...       ...       ...           ...\n",
       "9.764052  3.275158e-14  0.000404  0.026565  9.730311e-01\n",
       "9.773865  2.364775e-14  0.000301  0.019987  9.797124e-01\n",
       "9.783678  1.521006e-14  0.000199  0.013366  9.864342e-01\n",
       "9.793491  7.327472e-15  0.000099  0.006704  9.931967e-01\n",
       "9.803304  0.000000e+00  0.000000  0.000000  1.000000e+00\n",
       "\n",
       "[1000 rows x 4 columns]"
      ]
     },
     "execution_count": 30,
     "metadata": {},
     "output_type": "execute_result"
    }
   ],
   "source": [
    "df_ds_tsunami"
   ]
  },
  {
   "cell_type": "markdown",
   "metadata": {},
   "source": [
    "## Liquefaction"
   ]
  },
  {
   "cell_type": "code",
   "execution_count": 31,
   "metadata": {},
   "outputs": [
    {
     "data": {
      "text/plain": [
       "29.511764705882353"
      ]
     },
     "execution_count": 31,
     "metadata": {},
     "output_type": "execute_result"
    }
   ],
   "source": [
    "bins = bin_defs_dict['liquefaction']\n",
    "liquefaction_max = 2*bins['high']-bins['medium']\n",
    "liquefaction_max"
   ]
  },
  {
   "cell_type": "code",
   "execution_count": 32,
   "metadata": {},
   "outputs": [
    {
     "data": {
      "text/plain": [
       "<matplotlib.legend.Legend at 0x7f2d1b4b2460>"
      ]
     },
     "execution_count": 32,
     "metadata": {},
     "output_type": "execute_result"
    },
    {
     "data": {
      "image/png": "[encoded data removed]",
      "text/plain": [
       "<Figure size 432x288 with 1 Axes>"
      ]
     },
     "metadata": {
      "needs_background": "light"
     },
     "output_type": "display_data"
    }
   ],
   "source": [
    "ax = plt.subplot2grid((1,1),(0,0))\n",
    "\n",
    "# Get max mean pga\n",
    "mu_ds0 = 0.0000001#max_pga/4\n",
    "mu_ds1 = 2*liquefaction_max/4\n",
    "mu_ds2 = 3*liquefaction_max/4\n",
    "mu_ds3 = liquefaction_max*1.05\n",
    "\n",
    "sigma_ds0 = 0.00000001\n",
    "sigma_ds1 = 3\n",
    "sigma_ds2 = 3\n",
    "sigma_ds3 = 3\n",
    "\n",
    "IM = np.arange(0,liquefaction_max,(liquefaction_max-0)/1000)\n",
    "\n",
    "P_ds0 = [1/(sigma_ds0*(2*np.pi)**0.5)*np.exp(-.5*((im-mu_ds0)/sigma_ds0)**2) for im in IM]\n",
    "P_ds0 = np.cumsum(P_ds0)\n",
    "P_ds0 = P_ds0/np.max(P_ds0)\n",
    "\n",
    "P_ds1 = [1/(sigma_ds1*(2*np.pi)**0.5)*np.exp(-.5*((im-mu_ds1)/sigma_ds1)**2) for im in IM]\n",
    "P_ds1 = np.cumsum(P_ds1)\n",
    "P_ds1 = P_ds1/np.max(P_ds1)\n",
    "\n",
    "P_ds2 = [1/(sigma_ds2*(2*np.pi)**0.5)*np.exp(-.5*((im-mu_ds2)/sigma_ds2)**2) for im in IM]\n",
    "P_ds2 = np.cumsum(P_ds2)\n",
    "P_ds2 = P_ds2/np.max(P_ds2)\n",
    "\n",
    "P_ds3 = [1/(sigma_ds3*(2*np.pi)**0.5)*np.exp(-.5*((im-mu_ds3)/sigma_ds3)**2) for im in IM]\n",
    "P_ds3 = np.cumsum(P_ds3)\n",
    "P_ds3 = P_ds3/np.max(P_ds3)\n",
    "\n",
    "l0 = ax.plot(IM,P_ds0)\n",
    "l1 = ax.plot(IM,P_ds1)\n",
    "l2 = ax.plot(IM,P_ds2)\n",
    "l3 = ax.plot(IM,P_ds3)\n",
    "\n",
    "ax.plot([bins['zero'],bins['zero']],[0,1],ls='--',c='k')\n",
    "ax.plot([bins['low'],bins['low']],[0,1],ls='--',c='k')\n",
    "ax.plot([bins['medium'],bins['medium']],[0,1],ls='--',c='k')\n",
    "ax.plot([bins['high'],bins['high']],[0,1],ls='--',c='k')\n",
    "\n",
    "ax.legend(['DS0','DS1','DS2','DS3'])\n",
    "\n",
    "# plt.plot(IM,P_ds0)\n",
    "# plt.plot(IM,P_ds1)\n",
    "# plt.plot(IM,P_ds2)\n",
    "# plt.plot(IM,P_ds3)\n"
   ]
  },
  {
   "cell_type": "code",
   "execution_count": 33,
   "metadata": {},
   "outputs": [],
   "source": [
    "df_ds_liquefaction = pd.DataFrame.from_dict({\"DS0\":P_ds0,\"DS1\":P_ds1,\"DS2\":P_ds2,\"DS3\":P_ds3})\n",
    "df_ds_liquefaction.index = IM"
   ]
  },
  {
   "cell_type": "code",
   "execution_count": 34,
   "metadata": {},
   "outputs": [],
   "source": [
    "df_ds_liquefaction[\"DS2\"] = df_ds_liquefaction.DS2-df_ds_liquefaction.DS3\n",
    "df_ds_liquefaction[\"DS1\"] = df_ds_liquefaction.DS1-df_ds_liquefaction.DS2-df_ds_liquefaction.DS3\n",
    "df_ds_liquefaction[\"DS0\"] = df_ds_liquefaction.DS0-df_ds_liquefaction.DS1-df_ds_liquefaction.DS2-df_ds_liquefaction.DS3"
   ]
  },
  {
   "cell_type": "code",
   "execution_count": 35,
   "metadata": {},
   "outputs": [
    {
     "data": {
      "text/plain": [
       "<matplotlib.legend.Legend at 0x7f2d1b3e2790>"
      ]
     },
     "execution_count": 35,
     "metadata": {},
     "output_type": "execute_result"
    },
    {
     "data": {
      "image/png": "[encoded data removed]",
      "text/plain": [
       "<Figure size 432x288 with 1 Axes>"
      ]
     },
     "metadata": {
      "needs_background": "light"
     },
     "output_type": "display_data"
    }
   ],
   "source": [
    "l0 = plt.plot(df_ds_tsunami.DS0)\n",
    "l1 = plt.plot(df_ds_tsunami.DS1)\n",
    "l2 = plt.plot(df_ds_tsunami.DS2)\n",
    "l3 = plt.plot(df_ds_tsunami.DS3)\n",
    "\n",
    "plt.legend(['DS0','DS1','DS2','DS3'])\n"
   ]
  },
  {
   "cell_type": "code",
   "execution_count": 36,
   "metadata": {},
   "outputs": [
    {
     "data": {
      "text/html": [
       "<div>\n",
       "<style scoped>\n",
       "    .dataframe tbody tr th:only-of-type {\n",
       "        vertical-align: middle;\n",
       "    }\n",
       "\n",
       "    .dataframe tbody tr th {\n",
       "        vertical-align: top;\n",
       "    }\n",
       "\n",
       "    .dataframe thead th {\n",
       "        text-align: right;\n",
       "    }\n",
       "</style>\n",
       "<table border=\"1\" class=\"dataframe\">\n",
       "  <thead>\n",
       "    <tr style=\"text-align: right;\">\n",
       "      <th></th>\n",
       "      <th>DS0</th>\n",
       "      <th>DS1</th>\n",
       "      <th>DS2</th>\n",
       "      <th>DS3</th>\n",
       "    </tr>\n",
       "  </thead>\n",
       "  <tbody>\n",
       "    <tr>\n",
       "      <th>0.000000</th>\n",
       "      <td>1.000000e+00</td>\n",
       "      <td>2.189594e-08</td>\n",
       "      <td>5.979472e-15</td>\n",
       "      <td>8.615860e-26</td>\n",
       "    </tr>\n",
       "    <tr>\n",
       "      <th>0.029512</th>\n",
       "      <td>1.000000e+00</td>\n",
       "      <td>4.487627e-08</td>\n",
       "      <td>1.240875e-14</td>\n",
       "      <td>1.815274e-25</td>\n",
       "    </tr>\n",
       "    <tr>\n",
       "      <th>0.059024</th>\n",
       "      <td>9.999999e-01</td>\n",
       "      <td>6.899237e-08</td>\n",
       "      <td>1.932101e-14</td>\n",
       "      <td>2.870808e-25</td>\n",
       "    </tr>\n",
       "    <tr>\n",
       "      <th>0.088535</th>\n",
       "      <td>9.999999e-01</td>\n",
       "      <td>9.429790e-08</td>\n",
       "      <td>2.675180e-14</td>\n",
       "      <td>4.038950e-25</td>\n",
       "    </tr>\n",
       "    <tr>\n",
       "      <th>0.118047</th>\n",
       "      <td>9.999999e-01</td>\n",
       "      <td>1.208490e-07</td>\n",
       "      <td>3.473926e-14</td>\n",
       "      <td>5.331589e-25</td>\n",
       "    </tr>\n",
       "    <tr>\n",
       "      <th>...</th>\n",
       "      <td>...</td>\n",
       "      <td>...</td>\n",
       "      <td>...</td>\n",
       "      <td>...</td>\n",
       "    </tr>\n",
       "    <tr>\n",
       "      <th>29.364206</th>\n",
       "      <td>9.895307e-08</td>\n",
       "      <td>8.161624e-04</td>\n",
       "      <td>4.354515e-02</td>\n",
       "      <td>9.556386e-01</td>\n",
       "    </tr>\n",
       "    <tr>\n",
       "      <th>29.393718</th>\n",
       "      <td>7.240198e-08</td>\n",
       "      <td>6.047450e-04</td>\n",
       "      <td>3.275115e-02</td>\n",
       "      <td>9.666440e-01</td>\n",
       "    </tr>\n",
       "    <tr>\n",
       "      <th>29.423229</th>\n",
       "      <td>4.709644e-08</td>\n",
       "      <td>3.983105e-04</td>\n",
       "      <td>2.189503e-02</td>\n",
       "      <td>9.777066e-01</td>\n",
       "    </tr>\n",
       "    <tr>\n",
       "      <th>29.452741</th>\n",
       "      <td>2.298034e-08</td>\n",
       "      <td>1.967611e-04</td>\n",
       "      <td>1.097769e-02</td>\n",
       "      <td>9.888255e-01</td>\n",
       "    </tr>\n",
       "    <tr>\n",
       "      <th>29.482253</th>\n",
       "      <td>0.000000e+00</td>\n",
       "      <td>0.000000e+00</td>\n",
       "      <td>0.000000e+00</td>\n",
       "      <td>1.000000e+00</td>\n",
       "    </tr>\n",
       "  </tbody>\n",
       "</table>\n",
       "<p>1000 rows × 4 columns</p>\n",
       "</div>"
      ],
      "text/plain": [
       "                    DS0           DS1           DS2           DS3\n",
       "0.000000   1.000000e+00  2.189594e-08  5.979472e-15  8.615860e-26\n",
       "0.029512   1.000000e+00  4.487627e-08  1.240875e-14  1.815274e-25\n",
       "0.059024   9.999999e-01  6.899237e-08  1.932101e-14  2.870808e-25\n",
       "0.088535   9.999999e-01  9.429790e-08  2.675180e-14  4.038950e-25\n",
       "0.118047   9.999999e-01  1.208490e-07  3.473926e-14  5.331589e-25\n",
       "...                 ...           ...           ...           ...\n",
       "29.364206  9.895307e-08  8.161624e-04  4.354515e-02  9.556386e-01\n",
       "29.393718  7.240198e-08  6.047450e-04  3.275115e-02  9.666440e-01\n",
       "29.423229  4.709644e-08  3.983105e-04  2.189503e-02  9.777066e-01\n",
       "29.452741  2.298034e-08  1.967611e-04  1.097769e-02  9.888255e-01\n",
       "29.482253  0.000000e+00  0.000000e+00  0.000000e+00  1.000000e+00\n",
       "\n",
       "[1000 rows x 4 columns]"
      ]
     },
     "execution_count": 36,
     "metadata": {},
     "output_type": "execute_result"
    }
   ],
   "source": [
    "df_ds_liquefaction"
   ]
  },
  {
   "cell_type": "markdown",
   "metadata": {},
   "source": [
    "## Landslide"
   ]
  },
  {
   "cell_type": "code",
   "execution_count": 37,
   "metadata": {},
   "outputs": [],
   "source": [
    "# It's binary, so just make up two rows\n",
    "ds_landslide_dict = {\n",
    "    '0':{\n",
    "        'DS0':0.997,\n",
    "        'DS1':0.001,\n",
    "        'DS2':0.001,\n",
    "        'DS3':0.001\n",
    "    },\n",
    "    '1':{\n",
    "        'DS0':0.05,\n",
    "        'DS1':0.15,\n",
    "        'DS2':0.6,\n",
    "        'DS3':0.2\n",
    "    }\n",
    "}"
   ]
  },
  {
   "cell_type": "code",
   "execution_count": 38,
   "metadata": {},
   "outputs": [],
   "source": [
    "df_ds_landslide = pd.DataFrame.from_dict(ds_landslide_dict,orient='index')"
   ]
  },
  {
   "cell_type": "markdown",
   "metadata": {},
   "source": [
    "## Find the prior distribution for this hazard"
   ]
  },
  {
   "cell_type": "markdown",
   "metadata": {},
   "source": [
    "## Define Low, Medium and High"
   ]
  },
  {
   "cell_type": "code",
   "execution_count": 39,
   "metadata": {},
   "outputs": [],
   "source": [
    "# ## Make up the definition of low, medium and high\n",
    "# len_pga = len(list(df_ds_shaking.index))\n",
    "# pga_low = list(df_ds_shaking.index)[int((len_pga-1)/4)]\n",
    "# pga_medium = list(df_ds_shaking.index)[int(2*(len_pga-1)/4)]\n",
    "# pga_high = list(df_ds_shaking.index)[int(3*(len_pga-1)/4)]\n"
   ]
  },
  {
   "cell_type": "code",
   "execution_count": 40,
   "metadata": {},
   "outputs": [],
   "source": [
    "earthquake_low = min(list(df_ds_shaking.index), key=lambda x:abs(x-bin_defs_dict['earthquake']['low']))\n",
    "earthquake_medium = min(list(df_ds_shaking.index), key=lambda x:abs(x-bin_defs_dict['earthquake']['medium']))\n",
    "earthquake_high = min(list(df_ds_shaking.index), key=lambda x:abs(x-bin_defs_dict['earthquake']['high']))\n",
    "\n",
    "tsunami_zero = min(list(df_ds_tsunami.index), key=lambda x:abs(x-bin_defs_dict['tsunami']['zero']))\n",
    "tsunami_low = min(list(df_ds_tsunami.index), key=lambda x:abs(x-bin_defs_dict['tsunami']['low']))\n",
    "tsunami_medium = min(list(df_ds_tsunami.index), key=lambda x:abs(x-bin_defs_dict['tsunami']['medium']))\n",
    "tsunami_high = min(list(df_ds_tsunami.index), key=lambda x:abs(x-bin_defs_dict['tsunami']['high']))\n",
    "\n",
    "liquefaction_zero = min(list(df_ds_liquefaction.index), key=lambda x:abs(x-bin_defs_dict['liquefaction']['zero']))\n",
    "liquefaction_low = min(list(df_ds_liquefaction.index), key=lambda x:abs(x-bin_defs_dict['liquefaction']['low']))\n",
    "liquefaction_medium = min(list(df_ds_liquefaction.index), key=lambda x:abs(x-bin_defs_dict['liquefaction']['medium']))\n",
    "liquefaction_high = min(list(df_ds_liquefaction.index), key=lambda x:abs(x-bin_defs_dict['liquefaction']['high']))\n",
    "\n",
    "landslide_no = '0'\n",
    "landslide_yes = '1'\n"
   ]
  },
  {
   "cell_type": "markdown",
   "metadata": {},
   "source": [
    "# Set Conditional Prob Tables"
   ]
  },
  {
   "cell_type": "code",
   "execution_count": 41,
   "metadata": {
    "scrolled": true
   },
   "outputs": [],
   "source": [
    "net = frag_model_dict['model'][0]['net']"
   ]
  },
  {
   "cell_type": "code",
   "execution_count": 42,
   "metadata": {},
   "outputs": [
    {
     "data": {
      "text/plain": [
       "[0, 1, 2, 3]"
      ]
     },
     "execution_count": 42,
     "metadata": {},
     "output_type": "execute_result"
    }
   ],
   "source": [
    "list_of_nodes = net.get_all_nodes()\n",
    "list_of_nodes.pop(net.get_node('Combined'))\n",
    "list_of_nodes"
   ]
  },
  {
   "cell_type": "code",
   "execution_count": 43,
   "metadata": {},
   "outputs": [
    {
     "name": "stdout",
     "output_type": "stream",
     "text": [
      "Shaking\n",
      "ShakingFragility\n",
      "Tsunami\n",
      "TsunamiFragility\n",
      "Liquefaction\n",
      "LiquefactionFragility\n",
      "Landslide\n",
      "LandslideFragility\n"
     ]
    }
   ],
   "source": [
    "for node_handle in list_of_nodes:\n",
    "    # Get a single fragility node\n",
    "    child_node_name = net.get_node_id(node_handle)\n",
    "    # Create a new node for the hazard\n",
    "    new_node_name = re.sub('Fragility','',child_node_name)\n",
    "    net.add_node(pysmile.NodeType.CPT,new_node_name)\n",
    "    # Add the outcomes\n",
    "    if new_node_name=='Shaking':\n",
    "        for outcome in ['low','medium','high']:\n",
    "            net.add_outcome(new_node_name,outcome)\n",
    "    elif new_node_name=='Landslide':\n",
    "        for outcome in ['no','yes']:\n",
    "            net.add_outcome(new_node_name,outcome)\n",
    "    else:\n",
    "        for outcome in ['zero','low','medium','high']:\n",
    "            net.add_outcome(new_node_name,outcome)\n",
    "    # Delete the premade states\n",
    "    net.delete_outcome(new_node_name,'State0')\n",
    "    net.delete_outcome(new_node_name,'State1')\n",
    "    # Create connection between the hazard and fragility functions\n",
    "    net.add_arc(new_node_name,child_node_name)\n",
    "    print(new_node_name)\n",
    "    print(child_node_name)\n",
    "    # Set the values of the conditional probability table for the fragility node\n",
    "    if new_node_name=='Shaking':\n",
    "        cpt_value = \\\n",
    "            list(df_ds_shaking[df_ds_shaking.index==earthquake_low].T[earthquake_low])+\\\n",
    "            list(df_ds_shaking[df_ds_shaking.index==earthquake_medium].T[earthquake_medium])+\\\n",
    "            list(df_ds_shaking[df_ds_shaking.index==earthquake_high].T[earthquake_high])\n",
    "    elif new_node_name=='Landslide':\n",
    "        cpt_value = \\\n",
    "            list(df_ds_landslide[df_ds_landslide.index==landslide_no].T[landslide_no])+\\\n",
    "            list(df_ds_landslide[df_ds_landslide.index==landslide_yes].T[landslide_yes])\n",
    "    elif new_node_name=='Tsunami':\n",
    "        cpt_value = \\\n",
    "            list(df_ds_tsunami[df_ds_tsunami.index==tsunami_zero].T[tsunami_zero])+\\\n",
    "            list(df_ds_tsunami[df_ds_tsunami.index==tsunami_low].T[tsunami_low])+\\\n",
    "            list(df_ds_tsunami[df_ds_tsunami.index==tsunami_medium].T[tsunami_medium])+\\\n",
    "            list(df_ds_tsunami[df_ds_tsunami.index==tsunami_high].T[tsunami_high])\n",
    "    elif new_node_name=='Liquefaction':\n",
    "        cpt_value = \\\n",
    "            list(df_ds_liquefaction[df_ds_liquefaction.index==liquefaction_zero].T[liquefaction_zero])+\\\n",
    "            list(df_ds_liquefaction[df_ds_liquefaction.index==liquefaction_low].T[liquefaction_low])+\\\n",
    "            list(df_ds_liquefaction[df_ds_liquefaction.index==liquefaction_medium].T[liquefaction_medium])+\\\n",
    "            list(df_ds_liquefaction[df_ds_liquefaction.index==liquefaction_high].T[liquefaction_high])\n",
    "    net.set_node_definition(child_node_name,cpt_value)\n",
    "    "
   ]
  },
  {
   "cell_type": "code",
   "execution_count": 44,
   "metadata": {},
   "outputs": [
    {
     "data": {
      "text/plain": [
       "['__class__',\n",
       " '__copy__',\n",
       " '__deepcopy__',\n",
       " '__delattr__',\n",
       " '__dir__',\n",
       " '__doc__',\n",
       " '__eq__',\n",
       " '__format__',\n",
       " '__ge__',\n",
       " '__getattribute__',\n",
       " '__gt__',\n",
       " '__hash__',\n",
       " '__init__',\n",
       " '__init_subclass__',\n",
       " '__le__',\n",
       " '__lt__',\n",
       " '__module__',\n",
       " '__ne__',\n",
       " '__new__',\n",
       " '__reduce__',\n",
       " '__reduce_ex__',\n",
       " '__repr__',\n",
       " '__setattr__',\n",
       " '__sizeof__',\n",
       " '__str__',\n",
       " '__subclasshook__',\n",
       " 'add_arc',\n",
       " 'add_cost_arc',\n",
       " 'add_node',\n",
       " 'add_outcome',\n",
       " 'add_submodel',\n",
       " 'add_temporal_arc',\n",
       " 'annealed_map',\n",
       " 'clear_all_evidence',\n",
       " 'clear_all_targets',\n",
       " 'clear_evidence',\n",
       " 'clear_temporal_evidence',\n",
       " 'delete_arc',\n",
       " 'delete_cost_arc',\n",
       " 'delete_node',\n",
       " 'delete_outcome',\n",
       " 'delete_submodel',\n",
       " 'delete_temporal_arc',\n",
       " 'distributed_helper_em',\n",
       " 'get_all_node_ids',\n",
       " 'get_all_nodes',\n",
       " 'get_bayesian_algorithm',\n",
       " 'get_child_ids',\n",
       " 'get_children',\n",
       " 'get_cont_evidence',\n",
       " 'get_controlled_value',\n",
       " 'get_controlled_value_id',\n",
       " 'get_cost_child_ids',\n",
       " 'get_cost_children',\n",
       " 'get_cost_parent_ids',\n",
       " 'get_cost_parents',\n",
       " 'get_de_morgan_parent_type',\n",
       " 'get_de_morgan_parent_weight',\n",
       " 'get_de_morgan_prior_belief',\n",
       " 'get_default_outcome',\n",
       " 'get_default_outcome_id',\n",
       " 'get_description',\n",
       " 'get_discretization_sample_count',\n",
       " 'get_evidence',\n",
       " 'get_evidence_id',\n",
       " 'get_ext_functions',\n",
       " 'get_first_node',\n",
       " 'get_first_node_id',\n",
       " 'get_first_submodel',\n",
       " 'get_id',\n",
       " 'get_influence_diagram_algorithm',\n",
       " 'get_library_build',\n",
       " 'get_main_submodel',\n",
       " 'get_main_submodel_id',\n",
       " 'get_mau_expressions',\n",
       " 'get_max_node_temporal_order',\n",
       " 'get_max_temporal_order',\n",
       " 'get_name',\n",
       " 'get_next_node',\n",
       " 'get_next_node_id',\n",
       " 'get_next_submodel',\n",
       " 'get_node',\n",
       " 'get_node_bg_color',\n",
       " 'get_node_border_color',\n",
       " 'get_node_border_width',\n",
       " 'get_node_chart_size',\n",
       " 'get_node_cost',\n",
       " 'get_node_count',\n",
       " 'get_node_definition',\n",
       " 'get_node_description',\n",
       " 'get_node_diag_type',\n",
       " 'get_node_documentation',\n",
       " 'get_node_equation',\n",
       " 'get_node_equation_bounds',\n",
       " 'get_node_equation_discretization',\n",
       " 'get_node_id',\n",
       " 'get_node_name',\n",
       " 'get_node_position',\n",
       " 'get_node_question',\n",
       " 'get_node_sample_stats',\n",
       " 'get_node_temporal_definition',\n",
       " 'get_node_temporal_type',\n",
       " 'get_node_text_color',\n",
       " 'get_node_type',\n",
       " 'get_node_user_properties',\n",
       " 'get_node_value',\n",
       " 'get_noisy_decomposition_limit',\n",
       " 'get_noisy_expanded_definition',\n",
       " 'get_noisy_parent_strengths',\n",
       " 'get_noisy_temporal_parent_strengths',\n",
       " 'get_outcome_count',\n",
       " 'get_outcome_description',\n",
       " 'get_outcome_documentation',\n",
       " 'get_outcome_fix',\n",
       " 'get_outcome_id',\n",
       " 'get_outcome_ids',\n",
       " 'get_outcome_label',\n",
       " 'get_parent_ids',\n",
       " 'get_parents',\n",
       " 'get_sample_count',\n",
       " 'get_slice_count',\n",
       " 'get_submodel',\n",
       " 'get_submodel_count',\n",
       " 'get_submodel_description',\n",
       " 'get_submodel_id',\n",
       " 'get_submodel_name',\n",
       " 'get_submodel_of_node',\n",
       " 'get_submodel_of_submodel',\n",
       " 'get_submodel_position',\n",
       " 'get_temporal_children',\n",
       " 'get_temporal_evidence',\n",
       " 'get_temporal_evidence_id',\n",
       " 'get_temporal_orders',\n",
       " 'get_temporal_parents',\n",
       " 'get_temporal_virtual_evidence',\n",
       " 'get_unrolled_parents',\n",
       " 'get_user_properties',\n",
       " 'get_value_indexing_parent_ids',\n",
       " 'get_value_indexing_parents',\n",
       " 'get_virtual_evidence',\n",
       " 'has_temporal_evidence',\n",
       " 'insert_outcome',\n",
       " 'is_controlled',\n",
       " 'is_evidence',\n",
       " 'is_fault_outcome',\n",
       " 'is_mandatory',\n",
       " 'is_node_chart_enabled',\n",
       " 'is_node_equation_constant',\n",
       " 'is_node_equation_deterministic',\n",
       " 'is_noisy_decomposition_enabled',\n",
       " 'is_noisy_expanded',\n",
       " 'is_noisy_synchronized',\n",
       " 'is_outlier_rejection_enabled',\n",
       " 'is_propagated_evidence',\n",
       " 'is_ranked',\n",
       " 'is_real_evidence',\n",
       " 'is_relevance_enabled',\n",
       " 'is_target',\n",
       " 'is_temporal_evidence',\n",
       " 'is_temporal_virtual_evidence',\n",
       " 'is_value_discretized',\n",
       " 'is_value_valid',\n",
       " 'is_virtual_evidence',\n",
       " 'is_zero_avoidance_enabled',\n",
       " 'prob_evidence',\n",
       " 'read_file',\n",
       " 'read_string',\n",
       " 'set_bayesian_algorithm',\n",
       " 'set_cont_evidence',\n",
       " 'set_controlled_value',\n",
       " 'set_de_morgan_parent_type',\n",
       " 'set_de_morgan_parent_weight',\n",
       " 'set_de_morgan_prior_belief',\n",
       " 'set_default_outcome',\n",
       " 'set_description',\n",
       " 'set_discretization_sample_count',\n",
       " 'set_evidence',\n",
       " 'set_ext_functions',\n",
       " 'set_fault_outcome',\n",
       " 'set_id',\n",
       " 'set_influence_diagram_algorithm',\n",
       " 'set_mandatory',\n",
       " 'set_mau_expressions',\n",
       " 'set_name',\n",
       " 'set_node_bg_color',\n",
       " 'set_node_border_color',\n",
       " 'set_node_border_width',\n",
       " 'set_node_chart_enabled',\n",
       " 'set_node_chart_size',\n",
       " 'set_node_cost',\n",
       " 'set_node_definition',\n",
       " 'set_node_description',\n",
       " 'set_node_diag_type',\n",
       " 'set_node_documentation',\n",
       " 'set_node_equation',\n",
       " 'set_node_equation_bounds',\n",
       " 'set_node_equation_discretization',\n",
       " 'set_node_id',\n",
       " 'set_node_name',\n",
       " 'set_node_position',\n",
       " 'set_node_question',\n",
       " 'set_node_temporal_definition',\n",
       " 'set_node_temporal_type',\n",
       " 'set_node_text_color',\n",
       " 'set_node_type',\n",
       " 'set_node_user_properties',\n",
       " 'set_noisy_decomposition_enabled',\n",
       " 'set_noisy_decomposition_limit',\n",
       " 'set_noisy_parent_strengths',\n",
       " 'set_noisy_synchronized',\n",
       " 'set_noisy_temporal_parent_strengths',\n",
       " 'set_outcome_description',\n",
       " 'set_outcome_documentation',\n",
       " 'set_outcome_fix',\n",
       " 'set_outcome_id',\n",
       " 'set_outcome_label',\n",
       " 'set_outlier_rejection_enabled',\n",
       " 'set_ranked',\n",
       " 'set_relevance_enabled',\n",
       " 'set_sample_count',\n",
       " 'set_slice_count',\n",
       " 'set_submodel_description',\n",
       " 'set_submodel_id',\n",
       " 'set_submodel_name',\n",
       " 'set_submodel_of_node',\n",
       " 'set_submodel_of_submodel',\n",
       " 'set_submodel_position',\n",
       " 'set_target',\n",
       " 'set_temporal_evidence',\n",
       " 'set_temporal_virtual_evidence',\n",
       " 'set_user_properties',\n",
       " 'set_virtual_evidence',\n",
       " 'set_zero_avoidance_enabled',\n",
       " 'temporal_arc_exists',\n",
       " 'unroll',\n",
       " 'update_beliefs',\n",
       " 'write_file',\n",
       " 'write_string']"
      ]
     },
     "execution_count": 44,
     "metadata": {},
     "output_type": "execute_result"
    }
   ],
   "source": [
    "dir(net)"
   ]
  },
  {
   "cell_type": "code",
   "execution_count": 45,
   "metadata": {},
   "outputs": [
    {
     "ename": "SMILEException",
     "evalue": "SMILE Error Occured in: Network.GetValue\nErrNo=1",
     "output_type": "error",
     "traceback": [
      "\u001b[0;31m---------------------------------------------------------------------------\u001b[0m",
      "\u001b[0;31mSMILEException\u001b[0m                            Traceback (most recent call last)",
      "\u001b[0;32m/tmp/ipykernel_277/883086143.py\u001b[0m in \u001b[0;36m<module>\u001b[0;34m\u001b[0m\n\u001b[0;32m----> 1\u001b[0;31m \u001b[0mnet\u001b[0m\u001b[0;34m.\u001b[0m\u001b[0mget_node_value\u001b[0m\u001b[0;34m(\u001b[0m\u001b[0;34m'Combined'\u001b[0m\u001b[0;34m)\u001b[0m\u001b[0;34m\u001b[0m\u001b[0;34m\u001b[0m\u001b[0m\n\u001b[0m",
      "\u001b[0;31mSMILEException\u001b[0m: SMILE Error Occured in: Network.GetValue\nErrNo=1"
     ]
    }
   ],
   "source": [
    "net.get_node_value('Combined')"
   ]
  },
  {
   "cell_type": "code",
   "execution_count": null,
   "metadata": {},
   "outputs": [],
   "source": [
    "list(df_ds_liquefaction[df_ds_liquefaction.index==liquefaction_zero].T[liquefaction_zero])"
   ]
  },
  {
   "cell_type": "code",
   "execution_count": null,
   "metadata": {},
   "outputs": [],
   "source": [
    "np.sum(cpt_value)/3"
   ]
  },
  {
   "cell_type": "code",
   "execution_count": null,
   "metadata": {},
   "outputs": [],
   "source": [
    "frag_model_dict['model'][0]['net'].get_node_definition('Landslide')"
   ]
  },
  {
   "cell_type": "code",
   "execution_count": null,
   "metadata": {},
   "outputs": [],
   "source": [
    "frag_model_dict['model'][0]['net'].get_node('Tsunami')"
   ]
  },
  {
   "cell_type": "code",
   "execution_count": null,
   "metadata": {},
   "outputs": [],
   "source": [
    "net.write_file(\"test.xdsl\")\n",
    "frag_model_dict['model'][0].update({\n",
    "    'net':net\n",
    "})\n"
   ]
  },
  {
   "cell_type": "code",
   "execution_count": null,
   "metadata": {},
   "outputs": [],
   "source": [
    "# Add hazard evidence to dict\n",
    "hazards_evidence_dict = {}\n",
    "frag_model_dict = BNModel().add_evidence_to_dict(frag_model_dict,hazards_evidence_dict)\n",
    "\n",
    "# Set evidence and get beliefs\n",
    "frag_model_dict = BNModel().update_evidence(frag_model_dict)\n",
    "\n",
    "\n",
    "asdf"
   ]
  },
  {
   "cell_type": "code",
   "execution_count": null,
   "metadata": {},
   "outputs": [],
   "source": [
    "frag_model_dict"
   ]
  },
  {
   "cell_type": "code",
   "execution_count": null,
   "metadata": {},
   "outputs": [],
   "source": [
    "frag_model_dict['variables'].update({\n",
    "        'Shaking':{\n",
    "            'label':'Shaking',\n",
    "            'child_nodes':['ShakingFragility'],\n",
    "            'bins':['low','medium','high']\n",
    "        },\n",
    "        'Tsunami':{\n",
    "            'label':'Tsunami',\n",
    "            'child_nodes':['TsunamiFragility'],\n",
    "            'bins':['zero','low','medium','high']\n",
    "        },\n",
    "        'Liquefaction':{\n",
    "            'label':'Liquefaction',\n",
    "            'child_nodes':['LiquefactionFragility'],\n",
    "            'bins':['zero','low','medium','high']\n",
    "        },\n",
    "        'Landslide':{\n",
    "            'label':'Landslide',\n",
    "            'child_nodes':['LandslideFragility'],\n",
    "            'bins':['no','yes']\n",
    "        },\n",
    "})"
   ]
  },
  {
   "cell_type": "markdown",
   "metadata": {},
   "source": [
    "# Looping over grid, calculating probs"
   ]
  },
  {
   "cell_type": "code",
   "execution_count": null,
   "metadata": {},
   "outputs": [],
   "source": [
    "# Loop over each of the hazards, and get the relevant columns"
   ]
  },
  {
   "cell_type": "code",
   "execution_count": null,
   "metadata": {},
   "outputs": [],
   "source": [
    "df_hazards = pd.read_csv('example_data.csv')\n",
    "hazard_keys = ['_shaking_prob','_liq','_tsunami','_landslide']\n",
    "hazard_node_names = ['Shaking','Liquefaction','Tsunami','Landslide']\n",
    "\n",
    "for index,row in df_hazards.iterrows():\n",
    "    \n",
    "    # Create evidence dict, one hazard at a time\n",
    "    hazards_evidence_dict = {}\n",
    "    for key,node_name in zip(hazard_keys,hazard_node_names):\n",
    "        hazard_cols = [x for x in df_hazards.columns if key in x]\n",
    "            \n",
    "        hazards_evidence_dict.update({\n",
    "            node_name:list(row[hazard_cols])\n",
    "        })\n",
    "        asdf\n",
    "    # Add hazard evidence to dict\n",
    "    frag_model_dict = BNModel().add_evidence_to_dict(frag_model_dict,hazards_evidence_dict)\n",
    "    \n",
    "    # Set evidence and get beliefs\n",
    "    frag_model_dict = BNModel().update_evidence(frag_model_dict)\n",
    "    \n",
    "    asdf"
   ]
  },
  {
   "cell_type": "code",
   "execution_count": null,
   "metadata": {},
   "outputs": [],
   "source": [
    "net.get_node_value('Combined')"
   ]
  },
  {
   "cell_type": "code",
   "execution_count": null,
   "metadata": {},
   "outputs": [],
   "source": [
    "dir(net)"
   ]
  },
  {
   "cell_type": "code",
   "execution_count": null,
   "metadata": {},
   "outputs": [],
   "source": [
    "net.get_node_definition('Combined')"
   ]
  },
  {
   "cell_type": "code",
   "execution_count": null,
   "metadata": {},
   "outputs": [],
   "source": [
    "net.get_outcome_ids('Combined')"
   ]
  },
  {
   "cell_type": "code",
   "execution_count": null,
   "metadata": {},
   "outputs": [],
   "source": [
    "# Add hazard evidence to dict\n",
    "frag_model_dict = BNModel().add_evidence_to_dict(frag_model_dict,hazards_evidence_dict)\n",
    "\n",
    "# Set evidence and get beliefs\n",
    "frag_model_dict = BNModel().update_evidence(frag_model_dict)"
   ]
  },
  {
   "cell_type": "code",
   "execution_count": null,
   "metadata": {},
   "outputs": [],
   "source": [
    "hazards_evidence_dict"
   ]
  },
  {
   "cell_type": "code",
   "execution_count": null,
   "metadata": {},
   "outputs": [],
   "source": [
    "net.get_all_node_ids()"
   ]
  },
  {
   "cell_type": "code",
   "execution_count": null,
   "metadata": {},
   "outputs": [],
   "source": [
    "asdfasdf"
   ]
  },
  {
   "cell_type": "markdown",
   "metadata": {},
   "source": [
    "## Create Definition of bins for each hazard"
   ]
  },
  {
   "cell_type": "markdown",
   "metadata": {},
   "source": [
    "### Earthquake"
   ]
  },
  {
   "cell_type": "markdown",
   "metadata": {},
   "source": [
    "# Data Prep"
   ]
  },
  {
   "cell_type": "markdown",
   "metadata": {},
   "source": [
    "## Preprocessing"
   ]
  },
  {
   "cell_type": "code",
   "execution_count": null,
   "metadata": {
    "ExecuteTime": {
     "end_time": "2021-06-10T02:18:16.558430Z",
     "start_time": "2021-06-10T02:18:09.303508Z"
    }
   },
   "outputs": [],
   "source": [
    "df_hazards = pd.read_csv('example_data.csv')\n",
    "df_hazards_subset = df_hazards.drop(['lon','lat'],axis=1)\n",
    "hazards_data_dict = {col:np.array(content) for col,content in df_hazards_subset.iteritems()}"
   ]
  },
  {
   "cell_type": "code",
   "execution_count": null,
   "metadata": {},
   "outputs": [],
   "source": [
    "df_hazards = df_hazards[1:]"
   ]
  },
  {
   "cell_type": "code",
   "execution_count": null,
   "metadata": {},
   "outputs": [],
   "source": [
    "df"
   ]
  },
  {
   "cell_type": "markdown",
   "metadata": {},
   "source": [
    "## Create Variable Dictionary"
   ]
  },
  {
   "cell_type": "code",
   "execution_count": null,
   "metadata": {
    "ExecuteTime": {
     "end_time": "2021-06-10T02:19:00.234568Z",
     "start_time": "2021-06-10T02:19:00.159611Z"
    },
    "code_folding": [],
    "scrolled": false
   },
   "outputs": [],
   "source": [
    "#### Don't include spaces in bin names. if no discretisation, just leave out that key\n",
    "hazards_model_dict = {\n",
    "    'variables':{\n",
    "        'meanpga_lo':{\n",
    "            'label':'meanpga_lo',\n",
    "            'discretisation':{\n",
    "                'n_bins':3,\n",
    "                'strategy':'kmeans',\n",
    "                'bin_names':['Low','Mid','High']\n",
    "            },\n",
    "            'child_nodes':['Liq_Class','land_LP2500_max']\n",
    "        },\n",
    "        'Liq_Class':{\n",
    "            'label':r'Liq_Class',\n",
    "            'child_nodes':[],\n",
    "            'bins':np.unique(df_hazards['Liq_Class'])\n",
    "        },\n",
    "        'land_LP2500_max':{\n",
    "            'label':'land_LP2500_max',\n",
    "            'discretisation':{\n",
    "                'n_bins':3,\n",
    "                'strategy':'kmeans',\n",
    "                'bin_names':['Low','Mid','High']\n",
    "            },\n",
    "            'child_nodes':[]\n",
    "        }\n",
    "    },\n",
    "    'training_frac':0.8,\n",
    "    'bootstrap_reps':1\n",
    "}"
   ]
  },
  {
   "cell_type": "markdown",
   "metadata": {},
   "source": [
    "## Bootstrapping the data"
   ]
  },
  {
   "cell_type": "code",
   "execution_count": null,
   "metadata": {
    "ExecuteTime": {
     "end_time": "2021-06-10T02:19:00.754301Z",
     "start_time": "2021-06-10T02:19:00.326513Z"
    },
    "scrolled": true
   },
   "outputs": [],
   "source": [
    "# Bootstrap the data, and add it to the model_dict\n",
    "hazards_model_dict = BNModel().bootstrap_data(hazards_model_dict,hazards_data_dict,df_hazards)\n"
   ]
  },
  {
   "cell_type": "code",
   "execution_count": null,
   "metadata": {},
   "outputs": [],
   "source": [
    "hazards_model_dict['variables'].keys()"
   ]
  },
  {
   "cell_type": "markdown",
   "metadata": {},
   "source": [
    "## Discretise the data"
   ]
  },
  {
   "cell_type": "code",
   "execution_count": null,
   "metadata": {
    "ExecuteTime": {
     "end_time": "2021-06-10T02:19:46.021235Z",
     "start_time": "2021-06-10T02:19:00.755300Z"
    }
   },
   "outputs": [],
   "source": [
    "# Discretise the data\n",
    "hazards_file_label = \"hazards\"\n",
    "\n",
    "hazards_model_dict = BNModel().discretiser(hazards_model_dict,[\"Liq_Class\"])"
   ]
  },
  {
   "cell_type": "code",
   "execution_count": null,
   "metadata": {
    "ExecuteTime": {
     "end_time": "2021-06-10T02:19:49.387291Z",
     "start_time": "2021-06-10T02:19:46.102171Z"
    },
    "scrolled": false
   },
   "outputs": [],
   "source": [
    "# hazards_disc_fig = BNModel().plot_discretiser(hazards_model_dict,[\"Liq_Class\"])"
   ]
  },
  {
   "cell_type": "markdown",
   "metadata": {},
   "source": [
    "## Save the data"
   ]
  },
  {
   "cell_type": "code",
   "execution_count": null,
   "metadata": {
    "ExecuteTime": {
     "end_time": "2021-06-10T02:20:58.711518Z",
     "start_time": "2021-06-10T02:20:53.985216Z"
    }
   },
   "outputs": [],
   "source": [
    "BNModel().save_dataset(hazards_model_dict,hazards_file_label)"
   ]
  },
  {
   "cell_type": "markdown",
   "metadata": {},
   "source": [
    "# Create BN Model"
   ]
  },
  {
   "cell_type": "code",
   "execution_count": null,
   "metadata": {
    "ExecuteTime": {
     "end_time": "2021-06-10T02:21:05.864450Z",
     "start_time": "2021-06-10T02:21:05.152790Z"
    }
   },
   "outputs": [],
   "source": [
    "# Create the BN\n",
    "hazards_model_dict = BNModel().create_SM(hazards_model_dict,hazards_file_label)"
   ]
  },
  {
   "cell_type": "markdown",
   "metadata": {},
   "source": [
    "## View Conditional Probability tables"
   ]
  },
  {
   "cell_type": "code",
   "execution_count": null,
   "metadata": {
    "ExecuteTime": {
     "end_time": "2021-06-10T02:20:58.809434Z",
     "start_time": "2021-06-10T02:20:56.573Z"
    },
    "scrolled": false
   },
   "outputs": [],
   "source": [
    "# Get conditional probs tables\n",
    "BNModel().get_conditional_prob_table(hazards_model_dict,'land_LP2500_max')"
   ]
  },
  {
   "cell_type": "code",
   "execution_count": null,
   "metadata": {
    "ExecuteTime": {
     "end_time": "2021-06-10T02:20:58.814431Z",
     "start_time": "2021-06-10T02:20:56.725Z"
    }
   },
   "outputs": [],
   "source": [
    "# # Get conditional probs tables\n",
    "# df_CPT_MSL = BNModel().get_conditional_prob_table(ocean_model_dict,'TWL')\n",
    "\n",
    "# df_CPT_MSL = df_CPT_MSL.loc[['VeryLow','Low','Mid','High','VeryHigh']]\n",
    "\n",
    "# plt.pcolor(df_CPT_MSL)"
   ]
  },
  {
   "cell_type": "markdown",
   "metadata": {},
   "source": [
    "# Set Evidence"
   ]
  },
  {
   "cell_type": "code",
   "execution_count": null,
   "metadata": {
    "ExecuteTime": {
     "end_time": "2021-06-10T02:20:58.833418Z",
     "start_time": "2021-06-10T02:20:57.381Z"
    }
   },
   "outputs": [],
   "source": [
    "hazards_evidence_dict = {\n",
    "    'land_LP2500_max':[0.05,0.1,0.01]\n",
    "}\n"
   ]
  },
  {
   "cell_type": "code",
   "execution_count": null,
   "metadata": {
    "ExecuteTime": {
     "end_time": "2021-06-10T02:20:58.838415Z",
     "start_time": "2021-06-10T02:20:57.549Z"
    }
   },
   "outputs": [],
   "source": [
    "hazards_model_dict = BNModel().add_evidence_to_dict(hazards_model_dict,hazards_evidence_dict)"
   ]
  },
  {
   "cell_type": "markdown",
   "metadata": {},
   "source": [
    "# Update beliefs based on evidence"
   ]
  },
  {
   "cell_type": "code",
   "execution_count": null,
   "metadata": {
    "ExecuteTime": {
     "end_time": "2021-06-10T02:20:58.843410Z",
     "start_time": "2021-06-10T02:20:57.946Z"
    }
   },
   "outputs": [],
   "source": [
    "# Set evidence and get beliefs\n",
    "hazards_model_dict = BNModel().update_evidence(hazards_model_dict)"
   ]
  },
  {
   "cell_type": "markdown",
   "metadata": {},
   "source": [
    "# BN Visualisation"
   ]
  },
  {
   "cell_type": "code",
   "execution_count": null,
   "metadata": {
    "ExecuteTime": {
     "end_time": "2021-06-10T02:20:58.849407Z",
     "start_time": "2021-06-10T02:20:58.285Z"
    },
    "scrolled": false
   },
   "outputs": [],
   "source": [
    "\n",
    "# Set up graph\n",
    "graph_hazards = BNModel().create_BN_graph()\n",
    "\n",
    "# Create nodes of the graph\n",
    "graph_hazards,hazards_model_dict = BNModel().create_nodes(graph_hazards,hazards_model_dict,0)\n",
    "\n",
    "# Create arcs between nodes\n",
    "graph_hazards = BNModel().create_arcs(graph_hazards,hazards_model_dict)\n",
    "\n",
    "# Save as dot file\n",
    "graph_hazards.render(filename='graph_hazards',format='png')\n",
    "\n",
    "# Plot the graph\n",
    "graph_hazards\n"
   ]
  },
  {
   "cell_type": "code",
   "execution_count": null,
   "metadata": {},
   "outputs": [],
   "source": []
  }
 ],
 "metadata": {
  "cite2c": {
   "citations": {
    "2344856/I2LE4LVY": {
     "DOI": "10.1029/2019PA003589",
     "author": [
      {
       "family": "Bengtson",
       "given": "Shannon A."
      },
      {
       "family": "Meissner",
       "given": "Katrin J."
      },
      {
       "family": "Menviel",
       "given": "Laurie"
      },
      {
       "family": "A. Sisson",
       "given": "Scott"
      },
      {
       "family": "Wilkin",
       "given": "John"
      }
     ],
     "container-title": "Paleoceanography and Paleoclimatology",
     "container-title-short": "Paleoceanography and Paleoclimatology",
     "id": "2344856/I2LE4LVY",
     "issued": {
      "day": 17,
      "month": 5,
      "year": 2019
     },
     "journalAbbreviation": "Paleoceanography and Paleoclimatology",
     "note": "Citation Key: bengtson2019evaluating",
     "page": "1022-1036",
     "page-first": "1022",
     "title": "Evaluating the extent of North Atlantic Deep Water and the mean Atlantic δ<sup>13</sup>C from statistical reconstructions",
     "type": "article-journal",
     "volume": "34"
    },
    "2344856/V5HIVSEQ": {
     "DOI": "10.1017/S0263593300020782",
     "URL": "https://www.cambridge.org/core/journals/earth-and-environmental-science-transactions-of-royal-society-of-edinburgh/article/an-alternative-astronomical-calibration-of-the-lower-pleistocene-timescale-based-on-odp-site-677/D02E93BFBF418256AD00642C8A98277C",
     "abstract": "Ocean Drilling Program (ODP) Site 677 provided excellent material for high resolution stable isotope analysis of both benthonic and planktonic foraminifera through the entire Pleistocene and upper Pliocene. The oxygen isotope record is readily correlated with the SPECMAP stack (Imbrie et al. 1984) and with the record from DSDP 607 (Ruddiman et al. 1986) but a significantly better match with orbital models is obtained by departing from the timescale proposed by these authors below Stage 16 (620 000 years). It is the stronger contribution from the precession signal in the record from ODP Site 677 that provides the basis for the revised timescale. Our proposed modification to the timescale would imply that the currently adopted radiometric dates for the Matuyama–Brunhes boundary, the Jaramillo and Olduvai Subchrons and the Gauss–Matuyama boundary underestimate their true astronomical ages by between 5 and 7%.",
     "accessed": {
      "day": 19,
      "month": 5,
      "year": 2020
     },
     "author": [
      {
       "family": "Shackleton",
       "given": "N. J."
      },
      {
       "family": "Berger",
       "given": "A."
      },
      {
       "family": "Peltier",
       "given": "W. R."
      }
     ],
     "container-title": "Earth and Environmental Science Transactions of The Royal Society of Edinburgh",
     "id": "2344856/V5HIVSEQ",
     "issue": "4",
     "issued": {
      "year": 1990
     },
     "language": "en",
     "note": "citation key: shackleton1990alternative",
     "page": "251-261",
     "page-first": "251",
     "title": "An alternative astronomical calibration of the lower Pleistocene timescale based on ODP Site 677",
     "type": "article-journal",
     "volume": "81"
    }
   }
  },
  "hide_input": false,
  "kernelspec": {
   "display_name": "Python 3 (ipykernel)",
   "language": "python",
   "name": "python3"
  },
  "language_info": {
   "codemirror_mode": {
    "name": "ipython",
    "version": 3
   },
   "file_extension": ".py",
   "mimetype": "text/x-python",
   "name": "python",
   "nbconvert_exporter": "python",
   "pygments_lexer": "ipython3",
   "version": "3.8.5"
  },
  "toc": {
   "base_numbering": 1,
   "nav_menu": {},
   "number_sections": true,
   "sideBar": true,
   "skip_h1_title": false,
   "title_cell": "Table of Contents",
   "title_sidebar": "Contents",
   "toc_cell": false,
   "toc_position": {
    "height": "calc(100% - 180px)",
    "left": "10px",
    "top": "150px",
    "width": "260px"
   },
   "toc_section_display": true,
   "toc_window_display": true
  },
  "varInspector": {
   "cols": {
    "lenName": 16,
    "lenType": 16,
    "lenVar": 40
   },
   "kernels_config": {
    "python": {
     "delete_cmd_postfix": "",
     "delete_cmd_prefix": "del ",
     "library": "var_list.py",
     "varRefreshCmd": "print(var_dic_list())"
    },
    "r": {
     "delete_cmd_postfix": ") ",
     "delete_cmd_prefix": "rm(",
     "library": "var_list.r",
     "varRefreshCmd": "cat(var_dic_list()) "
    }
   },
   "position": {
    "height": "744px",
    "left": "1262px",
    "right": "20px",
    "top": "135px",
    "width": "279px"
   },
   "types_to_exclude": [
    "module",
    "function",
    "builtin_function_or_method",
    "instance",
    "_Feature"
   ],
   "window_display": false
  }
 },
 "nbformat": 4,
 "nbformat_minor": 4
}
