{
 "cells": [
  {
   "cell_type": "markdown",
   "metadata": {},
   "source": [
    "# I need to duplicate the fragility table a bunch of times for the training "
   ]
  },
  {
   "cell_type": "markdown",
   "metadata": {},
   "source": [
    "# File Description"
   ]
  },
  {
   "cell_type": "markdown",
   "metadata": {},
   "source": [
    "This notebook contains the most up-to-date version of the pilot model for total water level on Tarawa, currently for only two locations (one hazards side and one ocean side).\n",
    "\n",
    "Currently needs work:\n",
    "- Incorporating MEI into network\n",
    "- Adjusting the binning of the MSL distributions to account for future SLR\n",
    "- Adding SLR projections as evidence option"
   ]
  },
  {
   "cell_type": "markdown",
   "metadata": {},
   "source": [
    "# File Setup"
   ]
  },
  {
   "cell_type": "code",
   "execution_count": 1,
   "metadata": {
    "ExecuteTime": {
     "end_time": "2021-06-10T02:18:06.245034Z",
     "start_time": "2021-06-10T02:18:06.200060Z"
    }
   },
   "outputs": [],
   "source": [
    "%load_ext autoreload\n",
    "%autoreload 2"
   ]
  },
  {
   "cell_type": "code",
   "execution_count": 2,
   "metadata": {
    "ExecuteTime": {
     "end_time": "2021-06-10T02:18:09.215577Z",
     "start_time": "2021-06-10T02:18:06.246033Z"
    }
   },
   "outputs": [
    {
     "name": "stdout",
     "output_type": "stream",
     "text": [
      "Enabling notebook extension jupyter-leaflet/extension...\r\n",
      "      - Validating: \u001b[32mOK\u001b[0m\r\n"
     ]
    },
    {
     "name": "stderr",
     "output_type": "stream",
     "text": [
      "/usr/local/lib/python3.8/dist-packages/numpy/core/getlimits.py:499: UserWarning: The value of the smallest subnormal for <class 'numpy.float64'> type is zero.\n",
      "  setattr(self, word, getattr(machar, word).flat[0])\n",
      "/usr/local/lib/python3.8/dist-packages/numpy/core/getlimits.py:89: UserWarning: The value of the smallest subnormal for <class 'numpy.float64'> type is zero.\n",
      "  return self._float_to_str(self.smallest_subnormal)\n",
      "/usr/local/lib/python3.8/dist-packages/numpy/core/getlimits.py:499: UserWarning: The value of the smallest subnormal for <class 'numpy.float32'> type is zero.\n",
      "  setattr(self, word, getattr(machar, word).flat[0])\n",
      "/usr/local/lib/python3.8/dist-packages/numpy/core/getlimits.py:89: UserWarning: The value of the smallest subnormal for <class 'numpy.float32'> type is zero.\n",
      "  return self._float_to_str(self.smallest_subnormal)\n"
     ]
    }
   ],
   "source": [
    "import pandas as pd\n",
    "import numpy as np\n",
    "import matplotlib\n",
    "import matplotlib.pyplot as plt\n",
    "import itertools\n",
    "import os\n",
    "import json\n",
    "from datetime import datetime\n",
    "import pysmile\n",
    "import pysmile_license\n",
    "import sys\n",
    "import json\n",
    "sys.path.append('/src/python_classes')\n",
    "import rpy2\n",
    "# os.environ['R_HOME'] = 'C:\\ProgramData\\Anaconda3\\Lib\\R'\n",
    "# %load_ext rpy2.ipython\n",
    "!jupyter nbextension enable --py --sys-prefix ipyleaflet\n",
    "from ipywidgets import interact, interactive, fixed, interact_manual\n",
    "from ipyleaflet import *\n",
    "import ipywidgets as widgets\n",
    "from matplotlib.animation import FuncAnimation\n",
    "import geojson\n",
    "import folium\n",
    "from colormap import rgb2hex\n",
    "import rpy2\n",
    "os.environ['R_HOME'] = '/lib/R'\n",
    "%load_ext rpy2.ipython\n",
    "from folium.plugins import FloatImage\n",
    "from collections import ChainMap\n",
    "import re\n",
    "\n",
    "from BNModel import BNModel\n"
   ]
  },
  {
   "cell_type": "markdown",
   "metadata": {},
   "source": [
    "# Load Hazard Bins"
   ]
  },
  {
   "cell_type": "code",
   "execution_count": 3,
   "metadata": {},
   "outputs": [],
   "source": [
    "with open(\"bin_definitions.json\") as f:\n",
    "    bin_defs_dict = json.load(f)"
   ]
  },
  {
   "cell_type": "code",
   "execution_count": 4,
   "metadata": {},
   "outputs": [
    {
     "data": {
      "text/plain": [
       "{'earthquake': {'minimum': -5.553142870956083,\n",
       "  'low': -3.266348397163859,\n",
       "  'medium': -0.9795539233716353,\n",
       "  'high': 1.3072405504205884},\n",
       " 'liquefaction': {'zero': 0.0,\n",
       "  'low': 7.377941176470587,\n",
       "  'medium': 14.755882352941175,\n",
       "  'high': 22.133823529411764},\n",
       " 'tsunami': {'zero': 0,\n",
       "  'low': 2.453279318446375,\n",
       "  'medium': 4.90655863689275,\n",
       "  'high': 7.359837955339124}}"
      ]
     },
     "execution_count": 4,
     "metadata": {},
     "output_type": "execute_result"
    }
   ],
   "source": [
    "bin_defs_dict"
   ]
  },
  {
   "cell_type": "markdown",
   "metadata": {},
   "source": [
    "# Methods for combining DS"
   ]
  },
  {
   "cell_type": "code",
   "execution_count": 5,
   "metadata": {},
   "outputs": [],
   "source": [
    "damage_states_array = np.array((0,1,2,3,4))\n",
    "landslide_states_array = np.array((0,4))\n",
    "\n",
    "fragility_array = np.array(('Shaking','Tsunami','Landslide'))"
   ]
  },
  {
   "cell_type": "code",
   "execution_count": 6,
   "metadata": {
    "scrolled": true
   },
   "outputs": [
    {
     "data": {
      "text/plain": [
       "[None, None, None]"
      ]
     },
     "execution_count": 6,
     "metadata": {},
     "output_type": "execute_result"
    }
   ],
   "source": [
    "rows = list(itertools.product(list(itertools.product(damage_states_array,damage_states_array)),landslide_states_array))\n",
    "\n",
    "df_fragilities = pd.DataFrame.from_dict(dict(ChainMap(*[{i:{\n",
    "    'Shaking':x[0][0],\n",
    "    'Tsunami':x[0][1],\n",
    "    'Landslide':x[1]}} for i,x in zip(np.arange(0,len(rows),1),rows)]))).T\n",
    "\n",
    "#### But we can put in percentages.. it doesn't have to be 100% into the one state ####\n",
    "\n",
    "# Rules:\n",
    "# Pick the max damage state. Start with this as the combined damage state.\n",
    "# If there are multiple hazards of the same damage state, add one to the combined damage state\n",
    "# Cap the damage state at 3\n",
    "\n",
    "for index,row in df_fragilities.iterrows():\n",
    "    comb_frag = np.max(row)\n",
    "    # See how many hazards have the max damage state:\n",
    "    number_with_max_damage = list(row).count(comb_frag)\n",
    "#     # If there are more than 2, add one to the combined damage state (unless your at max or no damage)\n",
    "#     if (number_with_max_damage>=2)&(comb_frag!=3)&(comb_frag!=0):\n",
    "#         comb_frag+=1\n",
    "    \n",
    "    # Add to the fragility\n",
    "    df_fragilities.loc[index,'Combined'] = int(comb_frag)\n",
    "    \n",
    "# Rename the columns to include fragility\n",
    "[df_fragilities.rename(columns={x:x+'Fragility'},inplace=True) for x in df_fragilities if x!='Combined']\n",
    "    "
   ]
  },
  {
   "cell_type": "code",
   "execution_count": 7,
   "metadata": {},
   "outputs": [],
   "source": [
    "# Replace the integers with strings \n",
    "df_fragilities = df_fragilities.replace(0,'DS0')\n",
    "df_fragilities = df_fragilities.replace(1,'DS1')\n",
    "df_fragilities = df_fragilities.replace(2,'DS2')\n",
    "df_fragilities = df_fragilities.replace(3,'DS3')\n",
    "df_fragilities = df_fragilities.replace(4,'DS4')\n"
   ]
  },
  {
   "cell_type": "code",
   "execution_count": 8,
   "metadata": {},
   "outputs": [
    {
     "data": {
      "text/html": [
       "<div>\n",
       "<style scoped>\n",
       "    .dataframe tbody tr th:only-of-type {\n",
       "        vertical-align: middle;\n",
       "    }\n",
       "\n",
       "    .dataframe tbody tr th {\n",
       "        vertical-align: top;\n",
       "    }\n",
       "\n",
       "    .dataframe thead th {\n",
       "        text-align: right;\n",
       "    }\n",
       "</style>\n",
       "<table border=\"1\" class=\"dataframe\">\n",
       "  <thead>\n",
       "    <tr style=\"text-align: right;\">\n",
       "      <th></th>\n",
       "      <th>ShakingFragility</th>\n",
       "      <th>TsunamiFragility</th>\n",
       "      <th>LandslideFragility</th>\n",
       "      <th>Combined</th>\n",
       "    </tr>\n",
       "  </thead>\n",
       "  <tbody>\n",
       "    <tr>\n",
       "      <th>0</th>\n",
       "      <td>DS4</td>\n",
       "      <td>DS4</td>\n",
       "      <td>DS4</td>\n",
       "      <td>DS4</td>\n",
       "    </tr>\n",
       "    <tr>\n",
       "      <th>1</th>\n",
       "      <td>DS4</td>\n",
       "      <td>DS4</td>\n",
       "      <td>DS0</td>\n",
       "      <td>DS4</td>\n",
       "    </tr>\n",
       "    <tr>\n",
       "      <th>2</th>\n",
       "      <td>DS4</td>\n",
       "      <td>DS3</td>\n",
       "      <td>DS4</td>\n",
       "      <td>DS4</td>\n",
       "    </tr>\n",
       "    <tr>\n",
       "      <th>3</th>\n",
       "      <td>DS4</td>\n",
       "      <td>DS3</td>\n",
       "      <td>DS0</td>\n",
       "      <td>DS4</td>\n",
       "    </tr>\n",
       "    <tr>\n",
       "      <th>4</th>\n",
       "      <td>DS4</td>\n",
       "      <td>DS2</td>\n",
       "      <td>DS4</td>\n",
       "      <td>DS4</td>\n",
       "    </tr>\n",
       "    <tr>\n",
       "      <th>5</th>\n",
       "      <td>DS4</td>\n",
       "      <td>DS2</td>\n",
       "      <td>DS0</td>\n",
       "      <td>DS4</td>\n",
       "    </tr>\n",
       "    <tr>\n",
       "      <th>6</th>\n",
       "      <td>DS4</td>\n",
       "      <td>DS1</td>\n",
       "      <td>DS4</td>\n",
       "      <td>DS4</td>\n",
       "    </tr>\n",
       "    <tr>\n",
       "      <th>7</th>\n",
       "      <td>DS4</td>\n",
       "      <td>DS1</td>\n",
       "      <td>DS0</td>\n",
       "      <td>DS4</td>\n",
       "    </tr>\n",
       "    <tr>\n",
       "      <th>8</th>\n",
       "      <td>DS4</td>\n",
       "      <td>DS0</td>\n",
       "      <td>DS4</td>\n",
       "      <td>DS4</td>\n",
       "    </tr>\n",
       "    <tr>\n",
       "      <th>9</th>\n",
       "      <td>DS4</td>\n",
       "      <td>DS0</td>\n",
       "      <td>DS0</td>\n",
       "      <td>DS4</td>\n",
       "    </tr>\n",
       "    <tr>\n",
       "      <th>10</th>\n",
       "      <td>DS3</td>\n",
       "      <td>DS4</td>\n",
       "      <td>DS4</td>\n",
       "      <td>DS4</td>\n",
       "    </tr>\n",
       "    <tr>\n",
       "      <th>11</th>\n",
       "      <td>DS3</td>\n",
       "      <td>DS4</td>\n",
       "      <td>DS0</td>\n",
       "      <td>DS4</td>\n",
       "    </tr>\n",
       "    <tr>\n",
       "      <th>12</th>\n",
       "      <td>DS3</td>\n",
       "      <td>DS3</td>\n",
       "      <td>DS4</td>\n",
       "      <td>DS4</td>\n",
       "    </tr>\n",
       "    <tr>\n",
       "      <th>13</th>\n",
       "      <td>DS3</td>\n",
       "      <td>DS3</td>\n",
       "      <td>DS0</td>\n",
       "      <td>DS3</td>\n",
       "    </tr>\n",
       "    <tr>\n",
       "      <th>14</th>\n",
       "      <td>DS3</td>\n",
       "      <td>DS2</td>\n",
       "      <td>DS4</td>\n",
       "      <td>DS4</td>\n",
       "    </tr>\n",
       "    <tr>\n",
       "      <th>15</th>\n",
       "      <td>DS3</td>\n",
       "      <td>DS2</td>\n",
       "      <td>DS0</td>\n",
       "      <td>DS3</td>\n",
       "    </tr>\n",
       "    <tr>\n",
       "      <th>16</th>\n",
       "      <td>DS3</td>\n",
       "      <td>DS1</td>\n",
       "      <td>DS4</td>\n",
       "      <td>DS4</td>\n",
       "    </tr>\n",
       "    <tr>\n",
       "      <th>17</th>\n",
       "      <td>DS3</td>\n",
       "      <td>DS1</td>\n",
       "      <td>DS0</td>\n",
       "      <td>DS3</td>\n",
       "    </tr>\n",
       "    <tr>\n",
       "      <th>18</th>\n",
       "      <td>DS3</td>\n",
       "      <td>DS0</td>\n",
       "      <td>DS4</td>\n",
       "      <td>DS4</td>\n",
       "    </tr>\n",
       "    <tr>\n",
       "      <th>19</th>\n",
       "      <td>DS3</td>\n",
       "      <td>DS0</td>\n",
       "      <td>DS0</td>\n",
       "      <td>DS3</td>\n",
       "    </tr>\n",
       "    <tr>\n",
       "      <th>20</th>\n",
       "      <td>DS2</td>\n",
       "      <td>DS4</td>\n",
       "      <td>DS4</td>\n",
       "      <td>DS4</td>\n",
       "    </tr>\n",
       "    <tr>\n",
       "      <th>21</th>\n",
       "      <td>DS2</td>\n",
       "      <td>DS4</td>\n",
       "      <td>DS0</td>\n",
       "      <td>DS4</td>\n",
       "    </tr>\n",
       "    <tr>\n",
       "      <th>22</th>\n",
       "      <td>DS2</td>\n",
       "      <td>DS3</td>\n",
       "      <td>DS4</td>\n",
       "      <td>DS4</td>\n",
       "    </tr>\n",
       "    <tr>\n",
       "      <th>23</th>\n",
       "      <td>DS2</td>\n",
       "      <td>DS3</td>\n",
       "      <td>DS0</td>\n",
       "      <td>DS3</td>\n",
       "    </tr>\n",
       "    <tr>\n",
       "      <th>24</th>\n",
       "      <td>DS2</td>\n",
       "      <td>DS2</td>\n",
       "      <td>DS4</td>\n",
       "      <td>DS4</td>\n",
       "    </tr>\n",
       "    <tr>\n",
       "      <th>25</th>\n",
       "      <td>DS2</td>\n",
       "      <td>DS2</td>\n",
       "      <td>DS0</td>\n",
       "      <td>DS2</td>\n",
       "    </tr>\n",
       "    <tr>\n",
       "      <th>26</th>\n",
       "      <td>DS2</td>\n",
       "      <td>DS1</td>\n",
       "      <td>DS4</td>\n",
       "      <td>DS4</td>\n",
       "    </tr>\n",
       "    <tr>\n",
       "      <th>27</th>\n",
       "      <td>DS2</td>\n",
       "      <td>DS1</td>\n",
       "      <td>DS0</td>\n",
       "      <td>DS2</td>\n",
       "    </tr>\n",
       "    <tr>\n",
       "      <th>28</th>\n",
       "      <td>DS2</td>\n",
       "      <td>DS0</td>\n",
       "      <td>DS4</td>\n",
       "      <td>DS4</td>\n",
       "    </tr>\n",
       "    <tr>\n",
       "      <th>29</th>\n",
       "      <td>DS2</td>\n",
       "      <td>DS0</td>\n",
       "      <td>DS0</td>\n",
       "      <td>DS2</td>\n",
       "    </tr>\n",
       "    <tr>\n",
       "      <th>30</th>\n",
       "      <td>DS1</td>\n",
       "      <td>DS4</td>\n",
       "      <td>DS4</td>\n",
       "      <td>DS4</td>\n",
       "    </tr>\n",
       "    <tr>\n",
       "      <th>31</th>\n",
       "      <td>DS1</td>\n",
       "      <td>DS4</td>\n",
       "      <td>DS0</td>\n",
       "      <td>DS4</td>\n",
       "    </tr>\n",
       "    <tr>\n",
       "      <th>32</th>\n",
       "      <td>DS1</td>\n",
       "      <td>DS3</td>\n",
       "      <td>DS4</td>\n",
       "      <td>DS4</td>\n",
       "    </tr>\n",
       "    <tr>\n",
       "      <th>33</th>\n",
       "      <td>DS1</td>\n",
       "      <td>DS3</td>\n",
       "      <td>DS0</td>\n",
       "      <td>DS3</td>\n",
       "    </tr>\n",
       "    <tr>\n",
       "      <th>34</th>\n",
       "      <td>DS1</td>\n",
       "      <td>DS2</td>\n",
       "      <td>DS4</td>\n",
       "      <td>DS4</td>\n",
       "    </tr>\n",
       "    <tr>\n",
       "      <th>35</th>\n",
       "      <td>DS1</td>\n",
       "      <td>DS2</td>\n",
       "      <td>DS0</td>\n",
       "      <td>DS2</td>\n",
       "    </tr>\n",
       "    <tr>\n",
       "      <th>36</th>\n",
       "      <td>DS1</td>\n",
       "      <td>DS1</td>\n",
       "      <td>DS4</td>\n",
       "      <td>DS4</td>\n",
       "    </tr>\n",
       "    <tr>\n",
       "      <th>37</th>\n",
       "      <td>DS1</td>\n",
       "      <td>DS1</td>\n",
       "      <td>DS0</td>\n",
       "      <td>DS1</td>\n",
       "    </tr>\n",
       "    <tr>\n",
       "      <th>38</th>\n",
       "      <td>DS1</td>\n",
       "      <td>DS0</td>\n",
       "      <td>DS4</td>\n",
       "      <td>DS4</td>\n",
       "    </tr>\n",
       "    <tr>\n",
       "      <th>39</th>\n",
       "      <td>DS1</td>\n",
       "      <td>DS0</td>\n",
       "      <td>DS0</td>\n",
       "      <td>DS1</td>\n",
       "    </tr>\n",
       "    <tr>\n",
       "      <th>40</th>\n",
       "      <td>DS0</td>\n",
       "      <td>DS4</td>\n",
       "      <td>DS4</td>\n",
       "      <td>DS4</td>\n",
       "    </tr>\n",
       "    <tr>\n",
       "      <th>41</th>\n",
       "      <td>DS0</td>\n",
       "      <td>DS4</td>\n",
       "      <td>DS0</td>\n",
       "      <td>DS4</td>\n",
       "    </tr>\n",
       "    <tr>\n",
       "      <th>42</th>\n",
       "      <td>DS0</td>\n",
       "      <td>DS3</td>\n",
       "      <td>DS4</td>\n",
       "      <td>DS4</td>\n",
       "    </tr>\n",
       "    <tr>\n",
       "      <th>43</th>\n",
       "      <td>DS0</td>\n",
       "      <td>DS3</td>\n",
       "      <td>DS0</td>\n",
       "      <td>DS3</td>\n",
       "    </tr>\n",
       "    <tr>\n",
       "      <th>44</th>\n",
       "      <td>DS0</td>\n",
       "      <td>DS2</td>\n",
       "      <td>DS4</td>\n",
       "      <td>DS4</td>\n",
       "    </tr>\n",
       "    <tr>\n",
       "      <th>45</th>\n",
       "      <td>DS0</td>\n",
       "      <td>DS2</td>\n",
       "      <td>DS0</td>\n",
       "      <td>DS2</td>\n",
       "    </tr>\n",
       "    <tr>\n",
       "      <th>46</th>\n",
       "      <td>DS0</td>\n",
       "      <td>DS1</td>\n",
       "      <td>DS4</td>\n",
       "      <td>DS4</td>\n",
       "    </tr>\n",
       "    <tr>\n",
       "      <th>47</th>\n",
       "      <td>DS0</td>\n",
       "      <td>DS1</td>\n",
       "      <td>DS0</td>\n",
       "      <td>DS1</td>\n",
       "    </tr>\n",
       "    <tr>\n",
       "      <th>48</th>\n",
       "      <td>DS0</td>\n",
       "      <td>DS0</td>\n",
       "      <td>DS4</td>\n",
       "      <td>DS4</td>\n",
       "    </tr>\n",
       "    <tr>\n",
       "      <th>49</th>\n",
       "      <td>DS0</td>\n",
       "      <td>DS0</td>\n",
       "      <td>DS0</td>\n",
       "      <td>DS0</td>\n",
       "    </tr>\n",
       "  </tbody>\n",
       "</table>\n",
       "</div>"
      ],
      "text/plain": [
       "   ShakingFragility TsunamiFragility LandslideFragility Combined\n",
       "0               DS4              DS4                DS4      DS4\n",
       "1               DS4              DS4                DS0      DS4\n",
       "2               DS4              DS3                DS4      DS4\n",
       "3               DS4              DS3                DS0      DS4\n",
       "4               DS4              DS2                DS4      DS4\n",
       "5               DS4              DS2                DS0      DS4\n",
       "6               DS4              DS1                DS4      DS4\n",
       "7               DS4              DS1                DS0      DS4\n",
       "8               DS4              DS0                DS4      DS4\n",
       "9               DS4              DS0                DS0      DS4\n",
       "10              DS3              DS4                DS4      DS4\n",
       "11              DS3              DS4                DS0      DS4\n",
       "12              DS3              DS3                DS4      DS4\n",
       "13              DS3              DS3                DS0      DS3\n",
       "14              DS3              DS2                DS4      DS4\n",
       "15              DS3              DS2                DS0      DS3\n",
       "16              DS3              DS1                DS4      DS4\n",
       "17              DS3              DS1                DS0      DS3\n",
       "18              DS3              DS0                DS4      DS4\n",
       "19              DS3              DS0                DS0      DS3\n",
       "20              DS2              DS4                DS4      DS4\n",
       "21              DS2              DS4                DS0      DS4\n",
       "22              DS2              DS3                DS4      DS4\n",
       "23              DS2              DS3                DS0      DS3\n",
       "24              DS2              DS2                DS4      DS4\n",
       "25              DS2              DS2                DS0      DS2\n",
       "26              DS2              DS1                DS4      DS4\n",
       "27              DS2              DS1                DS0      DS2\n",
       "28              DS2              DS0                DS4      DS4\n",
       "29              DS2              DS0                DS0      DS2\n",
       "30              DS1              DS4                DS4      DS4\n",
       "31              DS1              DS4                DS0      DS4\n",
       "32              DS1              DS3                DS4      DS4\n",
       "33              DS1              DS3                DS0      DS3\n",
       "34              DS1              DS2                DS4      DS4\n",
       "35              DS1              DS2                DS0      DS2\n",
       "36              DS1              DS1                DS4      DS4\n",
       "37              DS1              DS1                DS0      DS1\n",
       "38              DS1              DS0                DS4      DS4\n",
       "39              DS1              DS0                DS0      DS1\n",
       "40              DS0              DS4                DS4      DS4\n",
       "41              DS0              DS4                DS0      DS4\n",
       "42              DS0              DS3                DS4      DS4\n",
       "43              DS0              DS3                DS0      DS3\n",
       "44              DS0              DS2                DS4      DS4\n",
       "45              DS0              DS2                DS0      DS2\n",
       "46              DS0              DS1                DS4      DS4\n",
       "47              DS0              DS1                DS0      DS1\n",
       "48              DS0              DS0                DS4      DS4\n",
       "49              DS0              DS0                DS0      DS0"
      ]
     },
     "execution_count": 8,
     "metadata": {},
     "output_type": "execute_result"
    }
   ],
   "source": [
    "df_fragilities.reset_index(drop=True,inplace=True)\n",
    "df_fragilities"
   ]
  },
  {
   "cell_type": "code",
   "execution_count": 9,
   "metadata": {},
   "outputs": [
    {
     "data": {
      "text/html": [
       "<div>\n",
       "<style scoped>\n",
       "    .dataframe tbody tr th:only-of-type {\n",
       "        vertical-align: middle;\n",
       "    }\n",
       "\n",
       "    .dataframe tbody tr th {\n",
       "        vertical-align: top;\n",
       "    }\n",
       "\n",
       "    .dataframe thead th {\n",
       "        text-align: right;\n",
       "    }\n",
       "</style>\n",
       "<table border=\"1\" class=\"dataframe\">\n",
       "  <thead>\n",
       "    <tr style=\"text-align: right;\">\n",
       "      <th></th>\n",
       "      <th>ShakingFragilityA</th>\n",
       "      <th>ShakingFragilityB</th>\n",
       "      <th>ShakingFragilityC</th>\n",
       "      <th>LiquefactionFragility</th>\n",
       "      <th>ShakingFragility</th>\n",
       "    </tr>\n",
       "  </thead>\n",
       "  <tbody>\n",
       "    <tr>\n",
       "      <th>374</th>\n",
       "      <td>DS4</td>\n",
       "      <td>DS4</td>\n",
       "      <td>DS4</td>\n",
       "      <td>DS2</td>\n",
       "      <td>DS4</td>\n",
       "    </tr>\n",
       "    <tr>\n",
       "      <th>373</th>\n",
       "      <td>DS4</td>\n",
       "      <td>DS4</td>\n",
       "      <td>DS4</td>\n",
       "      <td>DS1</td>\n",
       "      <td>DS4</td>\n",
       "    </tr>\n",
       "    <tr>\n",
       "      <th>372</th>\n",
       "      <td>DS4</td>\n",
       "      <td>DS4</td>\n",
       "      <td>DS4</td>\n",
       "      <td>DS0</td>\n",
       "      <td>DS4</td>\n",
       "    </tr>\n",
       "    <tr>\n",
       "      <th>371</th>\n",
       "      <td>DS4</td>\n",
       "      <td>DS4</td>\n",
       "      <td>DS3</td>\n",
       "      <td>DS2</td>\n",
       "      <td>DS3</td>\n",
       "    </tr>\n",
       "    <tr>\n",
       "      <th>370</th>\n",
       "      <td>DS4</td>\n",
       "      <td>DS4</td>\n",
       "      <td>DS3</td>\n",
       "      <td>DS1</td>\n",
       "      <td>DS4</td>\n",
       "    </tr>\n",
       "    <tr>\n",
       "      <th>...</th>\n",
       "      <td>...</td>\n",
       "      <td>...</td>\n",
       "      <td>...</td>\n",
       "      <td>...</td>\n",
       "      <td>...</td>\n",
       "    </tr>\n",
       "    <tr>\n",
       "      <th>4</th>\n",
       "      <td>DS0</td>\n",
       "      <td>DS0</td>\n",
       "      <td>DS1</td>\n",
       "      <td>DS1</td>\n",
       "      <td>DS0</td>\n",
       "    </tr>\n",
       "    <tr>\n",
       "      <th>3</th>\n",
       "      <td>DS0</td>\n",
       "      <td>DS0</td>\n",
       "      <td>DS1</td>\n",
       "      <td>DS0</td>\n",
       "      <td>DS0</td>\n",
       "    </tr>\n",
       "    <tr>\n",
       "      <th>2</th>\n",
       "      <td>DS0</td>\n",
       "      <td>DS0</td>\n",
       "      <td>DS0</td>\n",
       "      <td>DS2</td>\n",
       "      <td>DS0</td>\n",
       "    </tr>\n",
       "    <tr>\n",
       "      <th>1</th>\n",
       "      <td>DS0</td>\n",
       "      <td>DS0</td>\n",
       "      <td>DS0</td>\n",
       "      <td>DS1</td>\n",
       "      <td>DS0</td>\n",
       "    </tr>\n",
       "    <tr>\n",
       "      <th>0</th>\n",
       "      <td>DS0</td>\n",
       "      <td>DS0</td>\n",
       "      <td>DS0</td>\n",
       "      <td>DS0</td>\n",
       "      <td>DS0</td>\n",
       "    </tr>\n",
       "  </tbody>\n",
       "</table>\n",
       "<p>375 rows × 5 columns</p>\n",
       "</div>"
      ],
      "text/plain": [
       "    ShakingFragilityA ShakingFragilityB ShakingFragilityC  \\\n",
       "374               DS4               DS4               DS4   \n",
       "373               DS4               DS4               DS4   \n",
       "372               DS4               DS4               DS4   \n",
       "371               DS4               DS4               DS3   \n",
       "370               DS4               DS4               DS3   \n",
       "..                ...               ...               ...   \n",
       "4                 DS0               DS0               DS1   \n",
       "3                 DS0               DS0               DS1   \n",
       "2                 DS0               DS0               DS0   \n",
       "1                 DS0               DS0               DS0   \n",
       "0                 DS0               DS0               DS0   \n",
       "\n",
       "    LiquefactionFragility ShakingFragility  \n",
       "374                   DS2              DS4  \n",
       "373                   DS1              DS4  \n",
       "372                   DS0              DS4  \n",
       "371                   DS2              DS3  \n",
       "370                   DS1              DS4  \n",
       "..                    ...              ...  \n",
       "4                     DS1              DS0  \n",
       "3                     DS0              DS0  \n",
       "2                     DS2              DS0  \n",
       "1                     DS1              DS0  \n",
       "0                     DS0              DS0  \n",
       "\n",
       "[375 rows x 5 columns]"
      ]
     },
     "execution_count": 9,
     "metadata": {},
     "output_type": "execute_result"
    }
   ],
   "source": [
    "pga_general = np.arange(0,5,1)\n",
    "PGA1 = pga_general\n",
    "PGA2 = pga_general\n",
    "PGA3 = pga_general\n",
    "LSA = np.arange(0,3,1)\n",
    "\n",
    "rows = list(itertools.product(list(itertools.product(list(itertools.product(PGA1,PGA2)),PGA3)),LSA))\n",
    "\n",
    "df_pga_cpt = pd.DataFrame.from_dict(dict(ChainMap(*[{i:{\n",
    "    'ShakingFragilityA':x[0][0][0],\n",
    "    'ShakingFragilityB':x[0][0][1],\n",
    "    'ShakingFragilityC':x[0][1],\n",
    "    'LiquefactionFragility':x[1]}} for i,x in zip(np.arange(0,len(rows),1),rows)]))).T\n",
    "    \n",
    "df_pga_cpt.loc[df_pga_cpt.LiquefactionFragility==0,'ShakingFragility'] = df_pga_cpt.loc[df_pga_cpt.LiquefactionFragility==0,'ShakingFragilityA']\n",
    "df_pga_cpt.loc[df_pga_cpt.LiquefactionFragility==1,'ShakingFragility'] = df_pga_cpt.loc[df_pga_cpt.LiquefactionFragility==1,'ShakingFragilityB']\n",
    "df_pga_cpt.loc[df_pga_cpt.LiquefactionFragility==2,'ShakingFragility'] = df_pga_cpt.loc[df_pga_cpt.LiquefactionFragility==2,'ShakingFragilityC']\n",
    "\n",
    "# df_pga_cpt.loc[df_pga_cpt.PGAt==0]\n",
    "# df_pga_cpt.loc[df_pga_cpt.PGAt==1]\n",
    "# df_pga_cpt.loc[df_pga_cpt.PGAt==2]\n",
    "# df_pga_cpt.loc[df_pga_cpt.PGAt==3]\n",
    "# df_pga_cpt.loc[df_pga_cpt.PGAt==4]\n",
    "\n",
    "df_pga_cpt = df_pga_cpt.replace(0,'DS0')\n",
    "df_pga_cpt = df_pga_cpt.replace(1,'DS1')\n",
    "df_pga_cpt = df_pga_cpt.replace(2,'DS2')\n",
    "df_pga_cpt = df_pga_cpt.replace(3,'DS3')\n",
    "df_pga_cpt = df_pga_cpt.replace(4,'DS4')\n",
    "\n",
    "df_pga_cpt"
   ]
  },
  {
   "cell_type": "code",
   "execution_count": 10,
   "metadata": {},
   "outputs": [
    {
     "data": {
      "text/plain": [
       "0"
      ]
     },
     "execution_count": 10,
     "metadata": {},
     "output_type": "execute_result"
    }
   ],
   "source": [
    "index"
   ]
  },
  {
   "cell_type": "code",
   "execution_count": 11,
   "metadata": {},
   "outputs": [],
   "source": [
    "\n",
    "\n",
    "for index,row in df_fragilities.iterrows():\n",
    "    df = df_pga_cpt[df_pga_cpt.ShakingFragility==row.ShakingFragility]\n",
    "    df2 = pd.DataFrame([row]*len(df)).merge(df,left_on='ShakingFragility',right_on='ShakingFragility')\n",
    "    if index!=0:\n",
    "        df3 = df3.append(df2)\n",
    "    else:\n",
    "        df3 = df2.copy()"
   ]
  },
  {
   "cell_type": "code",
   "execution_count": 12,
   "metadata": {},
   "outputs": [],
   "source": [
    "df_fragilities = df3"
   ]
  },
  {
   "cell_type": "code",
   "execution_count": 13,
   "metadata": {},
   "outputs": [
    {
     "data": {
      "text/html": [
       "<div>\n",
       "<style scoped>\n",
       "    .dataframe tbody tr th:only-of-type {\n",
       "        vertical-align: middle;\n",
       "    }\n",
       "\n",
       "    .dataframe tbody tr th {\n",
       "        vertical-align: top;\n",
       "    }\n",
       "\n",
       "    .dataframe thead th {\n",
       "        text-align: right;\n",
       "    }\n",
       "</style>\n",
       "<table border=\"1\" class=\"dataframe\">\n",
       "  <thead>\n",
       "    <tr style=\"text-align: right;\">\n",
       "      <th></th>\n",
       "      <th>ShakingFragility</th>\n",
       "      <th>TsunamiFragility</th>\n",
       "      <th>LandslideFragility</th>\n",
       "      <th>Combined</th>\n",
       "      <th>ShakingFragilityA</th>\n",
       "      <th>ShakingFragilityB</th>\n",
       "      <th>ShakingFragilityC</th>\n",
       "      <th>LiquefactionFragility</th>\n",
       "    </tr>\n",
       "  </thead>\n",
       "  <tbody>\n",
       "    <tr>\n",
       "      <th>0</th>\n",
       "      <td>DS4</td>\n",
       "      <td>DS4</td>\n",
       "      <td>DS4</td>\n",
       "      <td>DS4</td>\n",
       "      <td>DS4</td>\n",
       "      <td>DS4</td>\n",
       "      <td>DS4</td>\n",
       "      <td>DS2</td>\n",
       "    </tr>\n",
       "    <tr>\n",
       "      <th>1</th>\n",
       "      <td>DS4</td>\n",
       "      <td>DS4</td>\n",
       "      <td>DS4</td>\n",
       "      <td>DS4</td>\n",
       "      <td>DS4</td>\n",
       "      <td>DS4</td>\n",
       "      <td>DS4</td>\n",
       "      <td>DS1</td>\n",
       "    </tr>\n",
       "    <tr>\n",
       "      <th>2</th>\n",
       "      <td>DS4</td>\n",
       "      <td>DS4</td>\n",
       "      <td>DS4</td>\n",
       "      <td>DS4</td>\n",
       "      <td>DS4</td>\n",
       "      <td>DS4</td>\n",
       "      <td>DS4</td>\n",
       "      <td>DS0</td>\n",
       "    </tr>\n",
       "    <tr>\n",
       "      <th>3</th>\n",
       "      <td>DS4</td>\n",
       "      <td>DS4</td>\n",
       "      <td>DS4</td>\n",
       "      <td>DS4</td>\n",
       "      <td>DS4</td>\n",
       "      <td>DS4</td>\n",
       "      <td>DS3</td>\n",
       "      <td>DS1</td>\n",
       "    </tr>\n",
       "    <tr>\n",
       "      <th>4</th>\n",
       "      <td>DS4</td>\n",
       "      <td>DS4</td>\n",
       "      <td>DS4</td>\n",
       "      <td>DS4</td>\n",
       "      <td>DS4</td>\n",
       "      <td>DS4</td>\n",
       "      <td>DS3</td>\n",
       "      <td>DS0</td>\n",
       "    </tr>\n",
       "    <tr>\n",
       "      <th>...</th>\n",
       "      <td>...</td>\n",
       "      <td>...</td>\n",
       "      <td>...</td>\n",
       "      <td>...</td>\n",
       "      <td>...</td>\n",
       "      <td>...</td>\n",
       "      <td>...</td>\n",
       "      <td>...</td>\n",
       "    </tr>\n",
       "    <tr>\n",
       "      <th>5620</th>\n",
       "      <td>DS0</td>\n",
       "      <td>DS0</td>\n",
       "      <td>DS0</td>\n",
       "      <td>DS0</td>\n",
       "      <td>DS0</td>\n",
       "      <td>DS0</td>\n",
       "      <td>DS1</td>\n",
       "      <td>DS1</td>\n",
       "    </tr>\n",
       "    <tr>\n",
       "      <th>5621</th>\n",
       "      <td>DS0</td>\n",
       "      <td>DS0</td>\n",
       "      <td>DS0</td>\n",
       "      <td>DS0</td>\n",
       "      <td>DS0</td>\n",
       "      <td>DS0</td>\n",
       "      <td>DS1</td>\n",
       "      <td>DS0</td>\n",
       "    </tr>\n",
       "    <tr>\n",
       "      <th>5622</th>\n",
       "      <td>DS0</td>\n",
       "      <td>DS0</td>\n",
       "      <td>DS0</td>\n",
       "      <td>DS0</td>\n",
       "      <td>DS0</td>\n",
       "      <td>DS0</td>\n",
       "      <td>DS0</td>\n",
       "      <td>DS2</td>\n",
       "    </tr>\n",
       "    <tr>\n",
       "      <th>5623</th>\n",
       "      <td>DS0</td>\n",
       "      <td>DS0</td>\n",
       "      <td>DS0</td>\n",
       "      <td>DS0</td>\n",
       "      <td>DS0</td>\n",
       "      <td>DS0</td>\n",
       "      <td>DS0</td>\n",
       "      <td>DS1</td>\n",
       "    </tr>\n",
       "    <tr>\n",
       "      <th>5624</th>\n",
       "      <td>DS0</td>\n",
       "      <td>DS0</td>\n",
       "      <td>DS0</td>\n",
       "      <td>DS0</td>\n",
       "      <td>DS0</td>\n",
       "      <td>DS0</td>\n",
       "      <td>DS0</td>\n",
       "      <td>DS0</td>\n",
       "    </tr>\n",
       "  </tbody>\n",
       "</table>\n",
       "<p>281250 rows × 8 columns</p>\n",
       "</div>"
      ],
      "text/plain": [
       "     ShakingFragility TsunamiFragility LandslideFragility Combined  \\\n",
       "0                 DS4              DS4                DS4      DS4   \n",
       "1                 DS4              DS4                DS4      DS4   \n",
       "2                 DS4              DS4                DS4      DS4   \n",
       "3                 DS4              DS4                DS4      DS4   \n",
       "4                 DS4              DS4                DS4      DS4   \n",
       "...               ...              ...                ...      ...   \n",
       "5620              DS0              DS0                DS0      DS0   \n",
       "5621              DS0              DS0                DS0      DS0   \n",
       "5622              DS0              DS0                DS0      DS0   \n",
       "5623              DS0              DS0                DS0      DS0   \n",
       "5624              DS0              DS0                DS0      DS0   \n",
       "\n",
       "     ShakingFragilityA ShakingFragilityB ShakingFragilityC  \\\n",
       "0                  DS4               DS4               DS4   \n",
       "1                  DS4               DS4               DS4   \n",
       "2                  DS4               DS4               DS4   \n",
       "3                  DS4               DS4               DS3   \n",
       "4                  DS4               DS4               DS3   \n",
       "...                ...               ...               ...   \n",
       "5620               DS0               DS0               DS1   \n",
       "5621               DS0               DS0               DS1   \n",
       "5622               DS0               DS0               DS0   \n",
       "5623               DS0               DS0               DS0   \n",
       "5624               DS0               DS0               DS0   \n",
       "\n",
       "     LiquefactionFragility  \n",
       "0                      DS2  \n",
       "1                      DS1  \n",
       "2                      DS0  \n",
       "3                      DS1  \n",
       "4                      DS0  \n",
       "...                    ...  \n",
       "5620                   DS1  \n",
       "5621                   DS0  \n",
       "5622                   DS2  \n",
       "5623                   DS1  \n",
       "5624                   DS0  \n",
       "\n",
       "[281250 rows x 8 columns]"
      ]
     },
     "execution_count": 13,
     "metadata": {},
     "output_type": "execute_result"
    }
   ],
   "source": [
    "df_fragilities"
   ]
  },
  {
   "cell_type": "code",
   "execution_count": 61,
   "metadata": {},
   "outputs": [
    {
     "data": {
      "text/html": [
       "<div>\n",
       "<style scoped>\n",
       "    .dataframe tbody tr th:only-of-type {\n",
       "        vertical-align: middle;\n",
       "    }\n",
       "\n",
       "    .dataframe tbody tr th {\n",
       "        vertical-align: top;\n",
       "    }\n",
       "\n",
       "    .dataframe thead th {\n",
       "        text-align: right;\n",
       "    }\n",
       "</style>\n",
       "<table border=\"1\" class=\"dataframe\">\n",
       "  <thead>\n",
       "    <tr style=\"text-align: right;\">\n",
       "      <th></th>\n",
       "      <th>ShakingFragilityA</th>\n",
       "      <th>ShakingFragilityB</th>\n",
       "      <th>ShakingFragilityC</th>\n",
       "      <th>LiquefactionFragility</th>\n",
       "      <th>ShakingFragility</th>\n",
       "    </tr>\n",
       "  </thead>\n",
       "  <tbody>\n",
       "    <tr>\n",
       "      <th>100</th>\n",
       "      <td>DS4</td>\n",
       "      <td>DS1</td>\n",
       "      <td>DS3</td>\n",
       "      <td>DS0</td>\n",
       "      <td>DS4</td>\n",
       "    </tr>\n",
       "    <tr>\n",
       "      <th>100</th>\n",
       "      <td>DS4</td>\n",
       "      <td>DS1</td>\n",
       "      <td>DS3</td>\n",
       "      <td>DS0</td>\n",
       "      <td>DS4</td>\n",
       "    </tr>\n",
       "    <tr>\n",
       "      <th>100</th>\n",
       "      <td>DS4</td>\n",
       "      <td>DS1</td>\n",
       "      <td>DS3</td>\n",
       "      <td>DS0</td>\n",
       "      <td>DS4</td>\n",
       "    </tr>\n",
       "    <tr>\n",
       "      <th>100</th>\n",
       "      <td>DS4</td>\n",
       "      <td>DS1</td>\n",
       "      <td>DS3</td>\n",
       "      <td>DS0</td>\n",
       "      <td>DS4</td>\n",
       "    </tr>\n",
       "    <tr>\n",
       "      <th>100</th>\n",
       "      <td>DS4</td>\n",
       "      <td>DS1</td>\n",
       "      <td>DS3</td>\n",
       "      <td>DS0</td>\n",
       "      <td>DS4</td>\n",
       "    </tr>\n",
       "    <tr>\n",
       "      <th>100</th>\n",
       "      <td>DS4</td>\n",
       "      <td>DS1</td>\n",
       "      <td>DS3</td>\n",
       "      <td>DS0</td>\n",
       "      <td>DS4</td>\n",
       "    </tr>\n",
       "    <tr>\n",
       "      <th>100</th>\n",
       "      <td>DS4</td>\n",
       "      <td>DS1</td>\n",
       "      <td>DS3</td>\n",
       "      <td>DS0</td>\n",
       "      <td>DS4</td>\n",
       "    </tr>\n",
       "    <tr>\n",
       "      <th>100</th>\n",
       "      <td>DS4</td>\n",
       "      <td>DS1</td>\n",
       "      <td>DS3</td>\n",
       "      <td>DS0</td>\n",
       "      <td>DS4</td>\n",
       "    </tr>\n",
       "    <tr>\n",
       "      <th>100</th>\n",
       "      <td>DS4</td>\n",
       "      <td>DS1</td>\n",
       "      <td>DS3</td>\n",
       "      <td>DS0</td>\n",
       "      <td>DS4</td>\n",
       "    </tr>\n",
       "    <tr>\n",
       "      <th>100</th>\n",
       "      <td>DS4</td>\n",
       "      <td>DS1</td>\n",
       "      <td>DS3</td>\n",
       "      <td>DS0</td>\n",
       "      <td>DS4</td>\n",
       "    </tr>\n",
       "    <tr>\n",
       "      <th>100</th>\n",
       "      <td>DS3</td>\n",
       "      <td>DS3</td>\n",
       "      <td>DS0</td>\n",
       "      <td>DS1</td>\n",
       "      <td>DS3</td>\n",
       "    </tr>\n",
       "    <tr>\n",
       "      <th>100</th>\n",
       "      <td>DS3</td>\n",
       "      <td>DS3</td>\n",
       "      <td>DS0</td>\n",
       "      <td>DS1</td>\n",
       "      <td>DS3</td>\n",
       "    </tr>\n",
       "    <tr>\n",
       "      <th>100</th>\n",
       "      <td>DS3</td>\n",
       "      <td>DS3</td>\n",
       "      <td>DS0</td>\n",
       "      <td>DS1</td>\n",
       "      <td>DS3</td>\n",
       "    </tr>\n",
       "    <tr>\n",
       "      <th>100</th>\n",
       "      <td>DS3</td>\n",
       "      <td>DS3</td>\n",
       "      <td>DS0</td>\n",
       "      <td>DS1</td>\n",
       "      <td>DS3</td>\n",
       "    </tr>\n",
       "    <tr>\n",
       "      <th>100</th>\n",
       "      <td>DS3</td>\n",
       "      <td>DS3</td>\n",
       "      <td>DS0</td>\n",
       "      <td>DS1</td>\n",
       "      <td>DS3</td>\n",
       "    </tr>\n",
       "    <tr>\n",
       "      <th>100</th>\n",
       "      <td>DS3</td>\n",
       "      <td>DS3</td>\n",
       "      <td>DS0</td>\n",
       "      <td>DS1</td>\n",
       "      <td>DS3</td>\n",
       "    </tr>\n",
       "    <tr>\n",
       "      <th>100</th>\n",
       "      <td>DS3</td>\n",
       "      <td>DS3</td>\n",
       "      <td>DS0</td>\n",
       "      <td>DS1</td>\n",
       "      <td>DS3</td>\n",
       "    </tr>\n",
       "    <tr>\n",
       "      <th>100</th>\n",
       "      <td>DS3</td>\n",
       "      <td>DS3</td>\n",
       "      <td>DS0</td>\n",
       "      <td>DS1</td>\n",
       "      <td>DS3</td>\n",
       "    </tr>\n",
       "    <tr>\n",
       "      <th>100</th>\n",
       "      <td>DS3</td>\n",
       "      <td>DS3</td>\n",
       "      <td>DS0</td>\n",
       "      <td>DS1</td>\n",
       "      <td>DS3</td>\n",
       "    </tr>\n",
       "    <tr>\n",
       "      <th>100</th>\n",
       "      <td>DS3</td>\n",
       "      <td>DS3</td>\n",
       "      <td>DS0</td>\n",
       "      <td>DS1</td>\n",
       "      <td>DS3</td>\n",
       "    </tr>\n",
       "    <tr>\n",
       "      <th>100</th>\n",
       "      <td>DS2</td>\n",
       "      <td>DS4</td>\n",
       "      <td>DS0</td>\n",
       "      <td>DS0</td>\n",
       "      <td>DS2</td>\n",
       "    </tr>\n",
       "    <tr>\n",
       "      <th>100</th>\n",
       "      <td>DS2</td>\n",
       "      <td>DS4</td>\n",
       "      <td>DS0</td>\n",
       "      <td>DS0</td>\n",
       "      <td>DS2</td>\n",
       "    </tr>\n",
       "    <tr>\n",
       "      <th>100</th>\n",
       "      <td>DS2</td>\n",
       "      <td>DS4</td>\n",
       "      <td>DS0</td>\n",
       "      <td>DS0</td>\n",
       "      <td>DS2</td>\n",
       "    </tr>\n",
       "    <tr>\n",
       "      <th>100</th>\n",
       "      <td>DS2</td>\n",
       "      <td>DS4</td>\n",
       "      <td>DS0</td>\n",
       "      <td>DS0</td>\n",
       "      <td>DS2</td>\n",
       "    </tr>\n",
       "    <tr>\n",
       "      <th>100</th>\n",
       "      <td>DS2</td>\n",
       "      <td>DS4</td>\n",
       "      <td>DS0</td>\n",
       "      <td>DS0</td>\n",
       "      <td>DS2</td>\n",
       "    </tr>\n",
       "    <tr>\n",
       "      <th>100</th>\n",
       "      <td>DS2</td>\n",
       "      <td>DS4</td>\n",
       "      <td>DS0</td>\n",
       "      <td>DS0</td>\n",
       "      <td>DS2</td>\n",
       "    </tr>\n",
       "    <tr>\n",
       "      <th>100</th>\n",
       "      <td>DS2</td>\n",
       "      <td>DS4</td>\n",
       "      <td>DS0</td>\n",
       "      <td>DS0</td>\n",
       "      <td>DS2</td>\n",
       "    </tr>\n",
       "    <tr>\n",
       "      <th>100</th>\n",
       "      <td>DS2</td>\n",
       "      <td>DS4</td>\n",
       "      <td>DS0</td>\n",
       "      <td>DS0</td>\n",
       "      <td>DS2</td>\n",
       "    </tr>\n",
       "    <tr>\n",
       "      <th>100</th>\n",
       "      <td>DS2</td>\n",
       "      <td>DS4</td>\n",
       "      <td>DS0</td>\n",
       "      <td>DS0</td>\n",
       "      <td>DS2</td>\n",
       "    </tr>\n",
       "    <tr>\n",
       "      <th>100</th>\n",
       "      <td>DS2</td>\n",
       "      <td>DS4</td>\n",
       "      <td>DS0</td>\n",
       "      <td>DS0</td>\n",
       "      <td>DS2</td>\n",
       "    </tr>\n",
       "    <tr>\n",
       "      <th>100</th>\n",
       "      <td>DS2</td>\n",
       "      <td>DS1</td>\n",
       "      <td>DS2</td>\n",
       "      <td>DS1</td>\n",
       "      <td>DS1</td>\n",
       "    </tr>\n",
       "    <tr>\n",
       "      <th>100</th>\n",
       "      <td>DS2</td>\n",
       "      <td>DS1</td>\n",
       "      <td>DS2</td>\n",
       "      <td>DS1</td>\n",
       "      <td>DS1</td>\n",
       "    </tr>\n",
       "    <tr>\n",
       "      <th>100</th>\n",
       "      <td>DS2</td>\n",
       "      <td>DS1</td>\n",
       "      <td>DS2</td>\n",
       "      <td>DS1</td>\n",
       "      <td>DS1</td>\n",
       "    </tr>\n",
       "    <tr>\n",
       "      <th>100</th>\n",
       "      <td>DS2</td>\n",
       "      <td>DS1</td>\n",
       "      <td>DS2</td>\n",
       "      <td>DS1</td>\n",
       "      <td>DS1</td>\n",
       "    </tr>\n",
       "    <tr>\n",
       "      <th>100</th>\n",
       "      <td>DS2</td>\n",
       "      <td>DS1</td>\n",
       "      <td>DS2</td>\n",
       "      <td>DS1</td>\n",
       "      <td>DS1</td>\n",
       "    </tr>\n",
       "    <tr>\n",
       "      <th>100</th>\n",
       "      <td>DS2</td>\n",
       "      <td>DS1</td>\n",
       "      <td>DS2</td>\n",
       "      <td>DS1</td>\n",
       "      <td>DS1</td>\n",
       "    </tr>\n",
       "    <tr>\n",
       "      <th>100</th>\n",
       "      <td>DS2</td>\n",
       "      <td>DS1</td>\n",
       "      <td>DS2</td>\n",
       "      <td>DS1</td>\n",
       "      <td>DS1</td>\n",
       "    </tr>\n",
       "    <tr>\n",
       "      <th>100</th>\n",
       "      <td>DS2</td>\n",
       "      <td>DS1</td>\n",
       "      <td>DS2</td>\n",
       "      <td>DS1</td>\n",
       "      <td>DS1</td>\n",
       "    </tr>\n",
       "    <tr>\n",
       "      <th>100</th>\n",
       "      <td>DS2</td>\n",
       "      <td>DS1</td>\n",
       "      <td>DS2</td>\n",
       "      <td>DS1</td>\n",
       "      <td>DS1</td>\n",
       "    </tr>\n",
       "    <tr>\n",
       "      <th>100</th>\n",
       "      <td>DS2</td>\n",
       "      <td>DS1</td>\n",
       "      <td>DS2</td>\n",
       "      <td>DS1</td>\n",
       "      <td>DS1</td>\n",
       "    </tr>\n",
       "    <tr>\n",
       "      <th>100</th>\n",
       "      <td>DS2</td>\n",
       "      <td>DS0</td>\n",
       "      <td>DS3</td>\n",
       "      <td>DS1</td>\n",
       "      <td>DS0</td>\n",
       "    </tr>\n",
       "    <tr>\n",
       "      <th>100</th>\n",
       "      <td>DS2</td>\n",
       "      <td>DS0</td>\n",
       "      <td>DS3</td>\n",
       "      <td>DS1</td>\n",
       "      <td>DS0</td>\n",
       "    </tr>\n",
       "    <tr>\n",
       "      <th>100</th>\n",
       "      <td>DS2</td>\n",
       "      <td>DS0</td>\n",
       "      <td>DS3</td>\n",
       "      <td>DS1</td>\n",
       "      <td>DS0</td>\n",
       "    </tr>\n",
       "    <tr>\n",
       "      <th>100</th>\n",
       "      <td>DS2</td>\n",
       "      <td>DS0</td>\n",
       "      <td>DS3</td>\n",
       "      <td>DS1</td>\n",
       "      <td>DS0</td>\n",
       "    </tr>\n",
       "    <tr>\n",
       "      <th>100</th>\n",
       "      <td>DS2</td>\n",
       "      <td>DS0</td>\n",
       "      <td>DS3</td>\n",
       "      <td>DS1</td>\n",
       "      <td>DS0</td>\n",
       "    </tr>\n",
       "    <tr>\n",
       "      <th>100</th>\n",
       "      <td>DS2</td>\n",
       "      <td>DS0</td>\n",
       "      <td>DS3</td>\n",
       "      <td>DS1</td>\n",
       "      <td>DS0</td>\n",
       "    </tr>\n",
       "    <tr>\n",
       "      <th>100</th>\n",
       "      <td>DS2</td>\n",
       "      <td>DS0</td>\n",
       "      <td>DS3</td>\n",
       "      <td>DS1</td>\n",
       "      <td>DS0</td>\n",
       "    </tr>\n",
       "    <tr>\n",
       "      <th>100</th>\n",
       "      <td>DS2</td>\n",
       "      <td>DS0</td>\n",
       "      <td>DS3</td>\n",
       "      <td>DS1</td>\n",
       "      <td>DS0</td>\n",
       "    </tr>\n",
       "    <tr>\n",
       "      <th>100</th>\n",
       "      <td>DS2</td>\n",
       "      <td>DS0</td>\n",
       "      <td>DS3</td>\n",
       "      <td>DS1</td>\n",
       "      <td>DS0</td>\n",
       "    </tr>\n",
       "    <tr>\n",
       "      <th>100</th>\n",
       "      <td>DS2</td>\n",
       "      <td>DS0</td>\n",
       "      <td>DS3</td>\n",
       "      <td>DS1</td>\n",
       "      <td>DS0</td>\n",
       "    </tr>\n",
       "  </tbody>\n",
       "</table>\n",
       "</div>"
      ],
      "text/plain": [
       "    ShakingFragilityA ShakingFragilityB ShakingFragilityC  \\\n",
       "100               DS4               DS1               DS3   \n",
       "100               DS4               DS1               DS3   \n",
       "100               DS4               DS1               DS3   \n",
       "100               DS4               DS1               DS3   \n",
       "100               DS4               DS1               DS3   \n",
       "100               DS4               DS1               DS3   \n",
       "100               DS4               DS1               DS3   \n",
       "100               DS4               DS1               DS3   \n",
       "100               DS4               DS1               DS3   \n",
       "100               DS4               DS1               DS3   \n",
       "100               DS3               DS3               DS0   \n",
       "100               DS3               DS3               DS0   \n",
       "100               DS3               DS3               DS0   \n",
       "100               DS3               DS3               DS0   \n",
       "100               DS3               DS3               DS0   \n",
       "100               DS3               DS3               DS0   \n",
       "100               DS3               DS3               DS0   \n",
       "100               DS3               DS3               DS0   \n",
       "100               DS3               DS3               DS0   \n",
       "100               DS3               DS3               DS0   \n",
       "100               DS2               DS4               DS0   \n",
       "100               DS2               DS4               DS0   \n",
       "100               DS2               DS4               DS0   \n",
       "100               DS2               DS4               DS0   \n",
       "100               DS2               DS4               DS0   \n",
       "100               DS2               DS4               DS0   \n",
       "100               DS2               DS4               DS0   \n",
       "100               DS2               DS4               DS0   \n",
       "100               DS2               DS4               DS0   \n",
       "100               DS2               DS4               DS0   \n",
       "100               DS2               DS1               DS2   \n",
       "100               DS2               DS1               DS2   \n",
       "100               DS2               DS1               DS2   \n",
       "100               DS2               DS1               DS2   \n",
       "100               DS2               DS1               DS2   \n",
       "100               DS2               DS1               DS2   \n",
       "100               DS2               DS1               DS2   \n",
       "100               DS2               DS1               DS2   \n",
       "100               DS2               DS1               DS2   \n",
       "100               DS2               DS1               DS2   \n",
       "100               DS2               DS0               DS3   \n",
       "100               DS2               DS0               DS3   \n",
       "100               DS2               DS0               DS3   \n",
       "100               DS2               DS0               DS3   \n",
       "100               DS2               DS0               DS3   \n",
       "100               DS2               DS0               DS3   \n",
       "100               DS2               DS0               DS3   \n",
       "100               DS2               DS0               DS3   \n",
       "100               DS2               DS0               DS3   \n",
       "100               DS2               DS0               DS3   \n",
       "\n",
       "    LiquefactionFragility ShakingFragility  \n",
       "100                   DS0              DS4  \n",
       "100                   DS0              DS4  \n",
       "100                   DS0              DS4  \n",
       "100                   DS0              DS4  \n",
       "100                   DS0              DS4  \n",
       "100                   DS0              DS4  \n",
       "100                   DS0              DS4  \n",
       "100                   DS0              DS4  \n",
       "100                   DS0              DS4  \n",
       "100                   DS0              DS4  \n",
       "100                   DS1              DS3  \n",
       "100                   DS1              DS3  \n",
       "100                   DS1              DS3  \n",
       "100                   DS1              DS3  \n",
       "100                   DS1              DS3  \n",
       "100                   DS1              DS3  \n",
       "100                   DS1              DS3  \n",
       "100                   DS1              DS3  \n",
       "100                   DS1              DS3  \n",
       "100                   DS1              DS3  \n",
       "100                   DS0              DS2  \n",
       "100                   DS0              DS2  \n",
       "100                   DS0              DS2  \n",
       "100                   DS0              DS2  \n",
       "100                   DS0              DS2  \n",
       "100                   DS0              DS2  \n",
       "100                   DS0              DS2  \n",
       "100                   DS0              DS2  \n",
       "100                   DS0              DS2  \n",
       "100                   DS0              DS2  \n",
       "100                   DS1              DS1  \n",
       "100                   DS1              DS1  \n",
       "100                   DS1              DS1  \n",
       "100                   DS1              DS1  \n",
       "100                   DS1              DS1  \n",
       "100                   DS1              DS1  \n",
       "100                   DS1              DS1  \n",
       "100                   DS1              DS1  \n",
       "100                   DS1              DS1  \n",
       "100                   DS1              DS1  \n",
       "100                   DS1              DS0  \n",
       "100                   DS1              DS0  \n",
       "100                   DS1              DS0  \n",
       "100                   DS1              DS0  \n",
       "100                   DS1              DS0  \n",
       "100                   DS1              DS0  \n",
       "100                   DS1              DS0  \n",
       "100                   DS1              DS0  \n",
       "100                   DS1              DS0  \n",
       "100                   DS1              DS0  "
      ]
     },
     "execution_count": 61,
     "metadata": {},
     "output_type": "execute_result"
    }
   ],
   "source": [
    "df_fragilities[['ShakingFragilityA','ShakingFragilityB','ShakingFragilityC','LiquefactionFragility','ShakingFragility']].loc[100]"
   ]
  },
  {
   "cell_type": "markdown",
   "metadata": {},
   "source": [
    "# Create a BN using this table"
   ]
  },
  {
   "cell_type": "code",
   "execution_count": 14,
   "metadata": {},
   "outputs": [],
   "source": [
    "frag_data_dict = {k:np.array(df_fragilities[k]) for k in list(df_fragilities)}"
   ]
  },
  {
   "cell_type": "code",
   "execution_count": 15,
   "metadata": {
    "scrolled": true
   },
   "outputs": [
    {
     "data": {
      "text/plain": [
       "{'ShakingFragility': array(['DS4', 'DS4', 'DS4', ..., 'DS0', 'DS0', 'DS0'], dtype=object),\n",
       " 'TsunamiFragility': array(['DS4', 'DS4', 'DS4', ..., 'DS0', 'DS0', 'DS0'], dtype=object),\n",
       " 'LandslideFragility': array(['DS4', 'DS4', 'DS4', ..., 'DS0', 'DS0', 'DS0'], dtype=object),\n",
       " 'Combined': array(['DS4', 'DS4', 'DS4', ..., 'DS0', 'DS0', 'DS0'], dtype=object),\n",
       " 'ShakingFragilityA': array(['DS4', 'DS4', 'DS4', ..., 'DS0', 'DS0', 'DS0'], dtype=object),\n",
       " 'ShakingFragilityB': array(['DS4', 'DS4', 'DS4', ..., 'DS0', 'DS0', 'DS0'], dtype=object),\n",
       " 'ShakingFragilityC': array(['DS4', 'DS4', 'DS4', ..., 'DS0', 'DS0', 'DS0'], dtype=object),\n",
       " 'LiquefactionFragility': array(['DS2', 'DS1', 'DS0', ..., 'DS2', 'DS1', 'DS0'], dtype=object)}"
      ]
     },
     "execution_count": 15,
     "metadata": {},
     "output_type": "execute_result"
    }
   ],
   "source": [
    "frag_data_dict"
   ]
  },
  {
   "cell_type": "code",
   "execution_count": 16,
   "metadata": {},
   "outputs": [],
   "source": [
    "frag_file_label = 'fragility'\n",
    "\n",
    "#### Don't include spaces in bin names. if no discretisation, just leave out that key\n",
    "frag_model_dict = {\n",
    "    'variables':{\n",
    "        'ShakingFragilityA':{\n",
    "            'label':'ShakingFragilityA',\n",
    "            'child_nodes':['ShakingFragility'],\n",
    "            'bins':['DS0','DS1','DS2','DS3','DS4']\n",
    "        },\n",
    "        'ShakingFragilityB':{\n",
    "            'label':'ShakingFragilityB',\n",
    "            'child_nodes':['ShakingFragility'],\n",
    "            'bins':['DS0','DS1','DS2','DS3','DS4']\n",
    "        },\n",
    "        'ShakingFragilityC':{\n",
    "            'label':'ShakingFragilityC',\n",
    "            'child_nodes':['ShakingFragility'],\n",
    "            'bins':['DS0','DS1','DS2','DS3','DS4']\n",
    "        },\n",
    "        'LiquefactionFragility':{\n",
    "            'label':'LiquefactionFragility',\n",
    "            'child_nodes':['ShakingFragility'],\n",
    "            'bins':['DS0','DS1','DS2']\n",
    "        },\n",
    "        'ShakingFragility':{\n",
    "            'label':'ShakingFragility',\n",
    "            'child_nodes':['Combined'],\n",
    "            'bins':['DS0','DS1','DS2','DS3','DS4']\n",
    "        },\n",
    "        'TsunamiFragility':{\n",
    "            'label':'TsunamiFragility',\n",
    "            'child_nodes':['Combined'],\n",
    "            'bins':['DS0','DS1','DS2','DS3','DS4']\n",
    "        },\n",
    "        'LandslideFragility':{\n",
    "            'label':'LandslideFragility',\n",
    "            'child_nodes':['Combined'],\n",
    "            'bins':['DS0','DS1','DS2','DS3','DS4']\n",
    "        },\n",
    "        'Combined':{\n",
    "            'label':'Combined',\n",
    "            'child_nodes':[],\n",
    "            'bins':['DS0','DS1','DS2','DS3','DS4']\n",
    "        }\n",
    "    },\n",
    "    'training_frac':0.8,\n",
    "    'bootstrap_reps':1\n",
    "}"
   ]
  },
  {
   "cell_type": "code",
   "execution_count": 17,
   "metadata": {},
   "outputs": [],
   "source": [
    "frag_model_dict = BNModel().bootstrap_data(frag_model_dict,frag_data_dict,df_fragilities)"
   ]
  },
  {
   "cell_type": "code",
   "execution_count": 18,
   "metadata": {},
   "outputs": [
    {
     "name": "stdout",
     "output_type": "stream",
     "text": [
      "ShakingFragilityA\n",
      "ShakingFragilityB\n",
      "ShakingFragilityC\n",
      "LiquefactionFragility\n",
      "ShakingFragility\n",
      "TsunamiFragility\n",
      "LandslideFragility\n",
      "Combined\n"
     ]
    }
   ],
   "source": [
    "frag_model_dict = BNModel().discretiser(frag_model_dict,[])"
   ]
  },
  {
   "cell_type": "code",
   "execution_count": 19,
   "metadata": {},
   "outputs": [],
   "source": [
    "BNModel().save_dataset(frag_model_dict,frag_file_label)"
   ]
  },
  {
   "cell_type": "code",
   "execution_count": 20,
   "metadata": {},
   "outputs": [],
   "source": [
    "frag_model_dict = BNModel().create_SM(frag_model_dict,frag_file_label)"
   ]
  },
  {
   "cell_type": "code",
   "execution_count": 21,
   "metadata": {},
   "outputs": [],
   "source": [
    "# Set evidence and get beliefs\n",
    "frag_model_dict = BNModel().update_evidence(frag_model_dict)"
   ]
  },
  {
   "cell_type": "markdown",
   "metadata": {},
   "source": [
    "# Creating Dummy fragility functions"
   ]
  },
  {
   "cell_type": "markdown",
   "metadata": {},
   "source": [
    "## Earthquakes"
   ]
  },
  {
   "cell_type": "code",
   "execution_count": 22,
   "metadata": {},
   "outputs": [],
   "source": [
    "earthquake_bins = {\n",
    "    'low':0.5001, #0-0.25\n",
    "    'medium':0.7001, #0.25-0.75\n",
    "    'high':4.0001 #>.75\n",
    "}"
   ]
  },
  {
   "cell_type": "code",
   "execution_count": 23,
   "metadata": {},
   "outputs": [
    {
     "data": {
      "text/plain": [
       "<matplotlib.legend.Legend at 0x7f1368006580>"
      ]
     },
     "execution_count": 23,
     "metadata": {},
     "output_type": "execute_result"
    },
    {
     "data": {
      "image/png": "[encoded data removed]",
      "text/plain": [
       "<Figure size 432x288 with 1 Axes>"
      ]
     },
     "metadata": {
      "needs_background": "light"
     },
     "output_type": "display_data"
    }
   ],
   "source": [
    "ax = plt.subplot2grid((1,1),(0,0))\n",
    "\n",
    "# Get max mean pga\n",
    "mu_ds1 = 0.25#bins['minimum']\n",
    "mu_ds2 = 0.55#2*earthquake_diff+bins['minimum']\n",
    "mu_ds3 = 1.28#3*earthquake_diff+bins['minimum']\n",
    "mu_ds4 = 2.01#4*earthquake_diff+bins['minimum']\n",
    "\n",
    "sigma_ds1 = 0.64#0.00000001\n",
    "sigma_ds2 = 0.64#1\n",
    "sigma_ds3 = 0.64#1\n",
    "sigma_ds4 = 0.64#1\n",
    "\n",
    "IM = IM = np.arange(0.0001,10,0.1)#np.arange(bins['minimum'],earthquake_max,(earthquake_max-bins['minimum'])/1000)\n",
    "\n",
    "from scipy.stats import lognorm\n",
    "import math\n",
    "\n",
    "# P_ds1 = [lognorm(s=sigma_ds1).cdf(im)*mu_ds1/lognorm(s=sigma_ds1).mean() for im in IM]\n",
    "# P_ds2 = [lognorm(s=sigma_ds2).cdf(im)*mu_ds2/lognorm(s=sigma_ds2).mean() for im in IM]\n",
    "# P_ds3 = [lognorm(s=sigma_ds3).cdf(im)*mu_ds3/lognorm(s=sigma_ds3).mean() for im in IM]\n",
    "# P_ds4 = [lognorm(s=sigma_ds4).cdf(im)*mu_ds4/lognorm(s=sigma_ds4).mean() for im in IM]\n",
    "\n",
    "P_ds1a = [lognorm(s=sigma_ds1,scale=math.exp(mu_ds1)).cdf(im) for im in IM]\n",
    "P_ds2a = [lognorm(s=sigma_ds2,scale=math.exp(mu_ds2)).cdf(im) for im in IM]\n",
    "P_ds3a = [lognorm(s=sigma_ds3,scale=math.exp(mu_ds3)).cdf(im) for im in IM]\n",
    "P_ds4a = [lognorm(s=sigma_ds4,scale=math.exp(mu_ds4)).cdf(im) for im in IM]\n",
    "\n",
    "P_ds1b = [lognorm(s=sigma_ds1,scale=math.exp(mu_ds1*.75)).cdf(im) for im in IM]\n",
    "P_ds2b = [lognorm(s=sigma_ds2,scale=math.exp(mu_ds2*.75)).cdf(im) for im in IM]\n",
    "P_ds3b = [lognorm(s=sigma_ds3,scale=math.exp(mu_ds3*.75)).cdf(im) for im in IM]\n",
    "P_ds4b = [lognorm(s=sigma_ds4,scale=math.exp(mu_ds4*.75)).cdf(im) for im in IM]\n",
    "\n",
    "P_ds1c = [lognorm(s=sigma_ds1,scale=math.exp(mu_ds1*.55)).cdf(im) for im in IM]\n",
    "P_ds2c = [lognorm(s=sigma_ds2,scale=math.exp(mu_ds2*.55)).cdf(im) for im in IM]\n",
    "P_ds3c = [lognorm(s=sigma_ds3,scale=math.exp(mu_ds3*.55)).cdf(im) for im in IM]\n",
    "P_ds4c = [lognorm(s=sigma_ds4,scale=math.exp(mu_ds4*.55)).cdf(im) for im in IM]\n",
    "\n",
    "\n",
    "l1 = plt.plot(IM,P_ds1a,c='r')\n",
    "l2 = plt.plot(IM,P_ds2a,c='b')\n",
    "l3 = plt.plot(IM,P_ds3a,c='k')\n",
    "l4 = plt.plot(IM,P_ds4a,c='g')\n",
    "\n",
    "l5 = plt.plot(IM,P_ds1b,ls='--',c='r')\n",
    "l6 = plt.plot(IM,P_ds2b,ls='--',c='b')\n",
    "l7 = plt.plot(IM,P_ds3b,ls='--',c='k')\n",
    "l8 = plt.plot(IM,P_ds4b,ls='--',c='g')\n",
    "\n",
    "l9 = plt.plot(IM,P_ds1c,ls='-.',c='r')\n",
    "l10 = plt.plot(IM,P_ds2c,ls='-.',c='b')\n",
    "l11 = plt.plot(IM,P_ds3c,ls='-.',c='k')\n",
    "l12 = plt.plot(IM,P_ds4c,ls='-.',c='g')\n",
    "\n",
    "# ax.plot([bins['low'],bins['low']],[0,1],ls='--',c='k')\n",
    "# ax.plot([bins['medium'],bins['medium']],[0,1],ls='--',c='k')\n",
    "# ax.plot([bins['high'],bins['high']],[0,1],ls='--',c='k')\n",
    "\n",
    "ax.legend(['DS1','DS2','DS3','DS4'])\n",
    "\n",
    "# plt.plot(IM,P_ds0)\n",
    "# plt.plot(IM,P_ds1)\n",
    "# plt.plot(IM,P_ds2)\n",
    "# plt.plot(IM,P_ds3)\n"
   ]
  },
  {
   "cell_type": "code",
   "execution_count": 24,
   "metadata": {},
   "outputs": [],
   "source": [
    "df_ds_shaking_a = pd.DataFrame.from_dict({\"DS1\":P_ds1a,\"DS2\":P_ds2a,\"DS3\":P_ds3a,\"DS4\":P_ds4a})\n",
    "df_ds_shaking_a.index = IM\n",
    "\n",
    "df_ds_shaking_b = pd.DataFrame.from_dict({\"DS1\":P_ds1b,\"DS2\":P_ds2b,\"DS3\":P_ds3b,\"DS4\":P_ds4b})\n",
    "df_ds_shaking_b.index = IM\n",
    "\n",
    "df_ds_shaking_c = pd.DataFrame.from_dict({\"DS1\":P_ds1c,\"DS2\":P_ds2c,\"DS3\":P_ds3c,\"DS4\":P_ds4c})\n",
    "df_ds_shaking_c.index = IM"
   ]
  },
  {
   "cell_type": "code",
   "execution_count": 25,
   "metadata": {},
   "outputs": [],
   "source": [
    "def normalise(df_ds_shaking):\n",
    "    df_ds_shaking[\"DS3\"] = df_ds_shaking.DS3-df_ds_shaking.DS4\n",
    "    df_ds_shaking[\"DS2\"] = df_ds_shaking.DS2-df_ds_shaking.DS3-df_ds_shaking.DS4\n",
    "    df_ds_shaking[\"DS1\"] = df_ds_shaking.DS1-df_ds_shaking.DS2-df_ds_shaking.DS3-df_ds_shaking.DS4\n",
    "\n",
    "    # Now add zero\n",
    "    ds_shaking_dict = {}\n",
    "\n",
    "    for index,row in df_ds_shaking.iterrows():\n",
    "        row['DS0'] = (1-np.sum(row))\n",
    "        ds_shaking_dict.update({\n",
    "            index:row\n",
    "        })\n",
    "\n",
    "    df_ds_shaking = pd.DataFrame.from_dict(ds_shaking_dict,orient='index')\n",
    "    \n",
    "    return(df_ds_shaking)"
   ]
  },
  {
   "cell_type": "code",
   "execution_count": 26,
   "metadata": {},
   "outputs": [],
   "source": [
    "df_ds_shaking_a = normalise(df_ds_shaking_a)\n",
    "df_ds_shaking_b = normalise(df_ds_shaking_b)\n",
    "df_ds_shaking_c = normalise(df_ds_shaking_c)"
   ]
  },
  {
   "cell_type": "code",
   "execution_count": 27,
   "metadata": {},
   "outputs": [
    {
     "data": {
      "text/plain": [
       "Text(0, 0.5, 'Prob')"
      ]
     },
     "execution_count": 27,
     "metadata": {},
     "output_type": "execute_result"
    },
    {
     "data": {
      "image/png": "[encoded data removed]",
      "text/plain": [
       "<Figure size 432x288 with 1 Axes>"
      ]
     },
     "metadata": {
      "needs_background": "light"
     },
     "output_type": "display_data"
    }
   ],
   "source": [
    "l0 = plt.plot(df_ds_shaking_a.DS0)\n",
    "l1 = plt.plot(df_ds_shaking_a.DS1)\n",
    "l2 = plt.plot(df_ds_shaking_a.DS2)\n",
    "l3 = plt.plot(df_ds_shaking_a.DS3)\n",
    "l4 = plt.plot(df_ds_shaking_a.DS4)\n",
    "\n",
    "plt.xlim([0,5])\n",
    "\n",
    "plt.legend(['DS0','DS1','DS2','DS3','DS4'])\n",
    "plt.title('Shaking')\n",
    "plt.xlabel('PGA')\n",
    "plt.ylabel('Prob')"
   ]
  },
  {
   "cell_type": "code",
   "execution_count": 28,
   "metadata": {},
   "outputs": [],
   "source": [
    "df_ds_shaking_a = df_ds_shaking_a[['DS0','DS1','DS2','DS3','DS4']]\n",
    "df_ds_shaking_b = df_ds_shaking_b[['DS0','DS1','DS2','DS3','DS4']]\n",
    "df_ds_shaking_c = df_ds_shaking_c[['DS0','DS1','DS2','DS3','DS4']]\n"
   ]
  },
  {
   "cell_type": "markdown",
   "metadata": {},
   "source": [
    "## Tsunami"
   ]
  },
  {
   "cell_type": "code",
   "execution_count": 29,
   "metadata": {},
   "outputs": [],
   "source": [
    "tsunami_bins = {\n",
    "    'zero':0.0001, #0\n",
    "    'low':0.2001, #<0.2\n",
    "    'medium':1.5001, #0.2-1\n",
    "    'high':2.7001 #>1\n",
    "}"
   ]
  },
  {
   "cell_type": "code",
   "execution_count": 30,
   "metadata": {},
   "outputs": [
    {
     "data": {
      "text/plain": [
       "<matplotlib.legend.Legend at 0x7f1367e5f7c0>"
      ]
     },
     "execution_count": 30,
     "metadata": {},
     "output_type": "execute_result"
    },
    {
     "data": {
      "image/png": "[encoded data removed]",
      "text/plain": [
       "<Figure size 432x288 with 1 Axes>"
      ]
     },
     "metadata": {
      "needs_background": "light"
     },
     "output_type": "display_data"
    }
   ],
   "source": [
    "ax = plt.subplot2grid((1,1),(0,0))\n",
    "\n",
    "# Get max mean pga\n",
    "mu_ds1 = 0.178#bins['minimum']\n",
    "mu_ds2 = 0.4255#2*earthquake_diff+bins['minimum']\n",
    "mu_ds3 = 1.05#3*earthquake_diff+bins['minimum']\n",
    "mu_ds4 = 1.5#4*earthquake_diff+bins['minimum']\n",
    "\n",
    "sigma_ds1 = 1.1462#0.00000001\n",
    "sigma_ds2 = 0.9395#1\n",
    "sigma_ds3 = 0.7155#1\n",
    "sigma_ds4 = 0.5288#1\n",
    "\n",
    "IM = IM = np.arange(0.0001,3,0.1)#np.arange(bins['minimum'],earthquake_max,(earthquake_max-bins['minimum'])/1000)\n",
    "\n",
    "from scipy.stats import lognorm\n",
    "import math\n",
    "\n",
    "P_ds1 = [lognorm(s=sigma_ds1,scale=math.exp(mu_ds1)).cdf(im) for im in IM]\n",
    "P_ds2 = [lognorm(s=sigma_ds2,scale=math.exp(mu_ds2)).cdf(im) for im in IM]\n",
    "P_ds3 = [lognorm(s=sigma_ds3,scale=math.exp(mu_ds3)).cdf(im) for im in IM]\n",
    "P_ds4 = [lognorm(s=sigma_ds4,scale=math.exp(mu_ds4)).cdf(im) for im in IM]\n",
    "\n",
    "\n",
    "l1 = plt.plot(IM,P_ds1)\n",
    "l2 = plt.plot(IM,P_ds2)\n",
    "l3 = plt.plot(IM,P_ds3)\n",
    "l4 = plt.plot(IM,P_ds4)\n",
    "\n",
    "# ax.plot([bins['low'],bins['low']],[0,1],ls='--',c='k')\n",
    "# ax.plot([bins['medium'],bins['medium']],[0,1],ls='--',c='k')\n",
    "# ax.plot([bins['high'],bins['high']],[0,1],ls='--',c='k')\n",
    "\n",
    "ax.legend(['DS1','DS2','DS3','DS4'])\n",
    "\n",
    "# plt.plot(IM,P_ds0)\n",
    "# plt.plot(IM,P_ds1)\n",
    "# plt.plot(IM,P_ds2)\n",
    "# plt.plot(IM,P_ds3)\n"
   ]
  },
  {
   "cell_type": "markdown",
   "metadata": {},
   "source": [
    "# Add a rule to stop the crossover"
   ]
  },
  {
   "cell_type": "code",
   "execution_count": 31,
   "metadata": {},
   "outputs": [],
   "source": [
    "df_ds_tsunami = pd.DataFrame.from_dict({\"DS1\":P_ds1,\"DS2\":P_ds2,\"DS3\":P_ds3,\"DS4\":P_ds4})\n",
    "df_ds_tsunami.index = IM"
   ]
  },
  {
   "cell_type": "code",
   "execution_count": 32,
   "metadata": {},
   "outputs": [],
   "source": [
    "df_ds_tsunami[\"DS3\"] = df_ds_tsunami.DS3-df_ds_tsunami.DS4\n",
    "df_ds_tsunami[\"DS2\"] = df_ds_tsunami.DS2-df_ds_tsunami.DS3-df_ds_tsunami.DS4\n",
    "df_ds_tsunami[\"DS1\"] = df_ds_tsunami.DS1-df_ds_tsunami.DS2-df_ds_tsunami.DS3-df_ds_tsunami.DS4\n",
    "\n",
    "# Now add zero\n",
    "ds_tsunami_dict = {}\n",
    "\n",
    "for index,row in df_ds_tsunami.iterrows():\n",
    "    row['DS0'] = (1-np.sum(row))\n",
    "    ds_tsunami_dict.update({\n",
    "        index:row\n",
    "    })\n",
    "    \n",
    "df_ds_tsunami = pd.DataFrame.from_dict(ds_tsunami_dict,orient='index')\n"
   ]
  },
  {
   "cell_type": "code",
   "execution_count": 33,
   "metadata": {},
   "outputs": [
    {
     "data": {
      "text/plain": [
       "Text(0, 0.5, 'Prob')"
      ]
     },
     "execution_count": 33,
     "metadata": {},
     "output_type": "execute_result"
    },
    {
     "data": {
      "image/png": "[encoded data removed]",
      "text/plain": [
       "<Figure size 432x288 with 1 Axes>"
      ]
     },
     "metadata": {
      "needs_background": "light"
     },
     "output_type": "display_data"
    }
   ],
   "source": [
    "l0 = plt.plot(df_ds_tsunami.DS0)\n",
    "l1 = plt.plot(df_ds_tsunami.DS1)\n",
    "l2 = plt.plot(df_ds_tsunami.DS2)\n",
    "l3 = plt.plot(df_ds_tsunami.DS3)\n",
    "\n",
    "plt.legend(['DS0','DS1','DS2','DS3'])\n",
    "plt.title('Tsunami')\n",
    "plt.xlabel('Height (m)')\n",
    "plt.ylabel('Prob')"
   ]
  },
  {
   "cell_type": "code",
   "execution_count": 34,
   "metadata": {},
   "outputs": [
    {
     "data": {
      "text/html": [
       "<div>\n",
       "<style scoped>\n",
       "    .dataframe tbody tr th:only-of-type {\n",
       "        vertical-align: middle;\n",
       "    }\n",
       "\n",
       "    .dataframe tbody tr th {\n",
       "        vertical-align: top;\n",
       "    }\n",
       "\n",
       "    .dataframe thead th {\n",
       "        text-align: right;\n",
       "    }\n",
       "</style>\n",
       "<table border=\"1\" class=\"dataframe\">\n",
       "  <thead>\n",
       "    <tr style=\"text-align: right;\">\n",
       "      <th></th>\n",
       "      <th>DS0</th>\n",
       "      <th>DS1</th>\n",
       "      <th>DS2</th>\n",
       "      <th>DS3</th>\n",
       "      <th>DS4</th>\n",
       "    </tr>\n",
       "  </thead>\n",
       "  <tbody>\n",
       "    <tr>\n",
       "      <th>0.0001</th>\n",
       "      <td>1.000000</td>\n",
       "      <td>1.297050e-16</td>\n",
       "      <td>5.540854e-25</td>\n",
       "      <td>6.144059e-47</td>\n",
       "      <td>1.636083e-91</td>\n",
       "    </tr>\n",
       "    <tr>\n",
       "      <th>0.1001</th>\n",
       "      <td>0.984741</td>\n",
       "      <td>1.340887e-02</td>\n",
       "      <td>1.848406e-03</td>\n",
       "      <td>1.404889e-06</td>\n",
       "      <td>3.261463e-13</td>\n",
       "    </tr>\n",
       "    <tr>\n",
       "      <th>0.2001</th>\n",
       "      <td>0.940503</td>\n",
       "      <td>4.432022e-02</td>\n",
       "      <td>1.507559e-02</td>\n",
       "      <td>1.011204e-04</td>\n",
       "      <td>2.060868e-09</td>\n",
       "    </tr>\n",
       "    <tr>\n",
       "      <th>0.3001</th>\n",
       "      <td>0.885977</td>\n",
       "      <td>7.256812e-02</td>\n",
       "      <td>4.063757e-02</td>\n",
       "      <td>8.169182e-04</td>\n",
       "      <td>1.587236e-07</td>\n",
       "    </tr>\n",
       "    <tr>\n",
       "      <th>0.4001</th>\n",
       "      <td>0.830083</td>\n",
       "      <td>9.326096e-02</td>\n",
       "      <td>7.365596e-02</td>\n",
       "      <td>2.997508e-03</td>\n",
       "      <td>2.451311e-06</td>\n",
       "    </tr>\n",
       "    <tr>\n",
       "      <th>0.5001</th>\n",
       "      <td>0.776330</td>\n",
       "      <td>1.067395e-01</td>\n",
       "      <td>1.095051e-01</td>\n",
       "      <td>7.408811e-03</td>\n",
       "      <td>1.684111e-05</td>\n",
       "    </tr>\n",
       "    <tr>\n",
       "      <th>0.6001</th>\n",
       "      <td>0.726020</td>\n",
       "      <td>1.144629e-01</td>\n",
       "      <td>1.449335e-01</td>\n",
       "      <td>1.451210e-02</td>\n",
       "      <td>7.167800e-05</td>\n",
       "    </tr>\n",
       "    <tr>\n",
       "      <th>0.7001</th>\n",
       "      <td>0.679518</td>\n",
       "      <td>1.178880e-01</td>\n",
       "      <td>1.779332e-01</td>\n",
       "      <td>2.443733e-02</td>\n",
       "      <td>2.233467e-04</td>\n",
       "    </tr>\n",
       "    <tr>\n",
       "      <th>0.8001</th>\n",
       "      <td>0.636781</td>\n",
       "      <td>1.182100e-01</td>\n",
       "      <td>2.074055e-01</td>\n",
       "      <td>3.704308e-02</td>\n",
       "      <td>5.602990e-04</td>\n",
       "    </tr>\n",
       "    <tr>\n",
       "      <th>0.9001</th>\n",
       "      <td>0.597592</td>\n",
       "      <td>1.163460e-01</td>\n",
       "      <td>2.328633e-01</td>\n",
       "      <td>5.199810e-02</td>\n",
       "      <td>1.200106e-03</td>\n",
       "    </tr>\n",
       "    <tr>\n",
       "      <th>1.0001</th>\n",
       "      <td>0.561672</td>\n",
       "      <td>1.129799e-01</td>\n",
       "      <td>2.542102e-01</td>\n",
       "      <td>6.885722e-02</td>\n",
       "      <td>2.281105e-03</td>\n",
       "    </tr>\n",
       "    <tr>\n",
       "      <th>1.1001</th>\n",
       "      <td>0.528724</td>\n",
       "      <td>1.086151e-01</td>\n",
       "      <td>2.715867e-01</td>\n",
       "      <td>8.712268e-02</td>\n",
       "      <td>3.951329e-03</td>\n",
       "    </tr>\n",
       "    <tr>\n",
       "      <th>1.2001</th>\n",
       "      <td>0.498467</td>\n",
       "      <td>1.036189e-01</td>\n",
       "      <td>2.852675e-01</td>\n",
       "      <td>1.062896e-01</td>\n",
       "      <td>6.357205e-03</td>\n",
       "    </tr>\n",
       "    <tr>\n",
       "      <th>1.3001</th>\n",
       "      <td>0.470636</td>\n",
       "      <td>9.825776e-02</td>\n",
       "      <td>2.955948e-01</td>\n",
       "      <td>1.258775e-01</td>\n",
       "      <td>9.633729e-03</td>\n",
       "    </tr>\n",
       "    <tr>\n",
       "      <th>1.4001</th>\n",
       "      <td>0.444993</td>\n",
       "      <td>9.272407e-02</td>\n",
       "      <td>3.029352e-01</td>\n",
       "      <td>1.454504e-01</td>\n",
       "      <td>1.389699e-02</td>\n",
       "    </tr>\n",
       "    <tr>\n",
       "      <th>1.5001</th>\n",
       "      <td>0.421323</td>\n",
       "      <td>8.715536e-02</td>\n",
       "      <td>3.076540e-01</td>\n",
       "      <td>1.646282e-01</td>\n",
       "      <td>1.923926e-02</td>\n",
       "    </tr>\n",
       "    <tr>\n",
       "      <th>1.6001</th>\n",
       "      <td>0.399434</td>\n",
       "      <td>8.164892e-02</td>\n",
       "      <td>3.100992e-01</td>\n",
       "      <td>1.830914e-01</td>\n",
       "      <td>2.572655e-02</td>\n",
       "    </tr>\n",
       "    <tr>\n",
       "      <th>1.7001</th>\n",
       "      <td>0.379155</td>\n",
       "      <td>7.627242e-02</td>\n",
       "      <td>3.105933e-01</td>\n",
       "      <td>2.005813e-01</td>\n",
       "      <td>3.339812e-02</td>\n",
       "    </tr>\n",
       "    <tr>\n",
       "      <th>1.8001</th>\n",
       "      <td>0.360334</td>\n",
       "      <td>7.107169e-02</td>\n",
       "      <td>3.094296e-01</td>\n",
       "      <td>2.168971e-01</td>\n",
       "      <td>4.226752e-02</td>\n",
       "    </tr>\n",
       "    <tr>\n",
       "      <th>1.9001</th>\n",
       "      <td>0.342836</td>\n",
       "      <td>6.607653e-02</td>\n",
       "      <td>3.068707e-01</td>\n",
       "      <td>2.318915e-01</td>\n",
       "      <td>5.232481e-02</td>\n",
       "    </tr>\n",
       "    <tr>\n",
       "      <th>2.0001</th>\n",
       "      <td>0.326542</td>\n",
       "      <td>6.130496e-02</td>\n",
       "      <td>3.031496e-01</td>\n",
       "      <td>2.454644e-01</td>\n",
       "      <td>6.353931e-02</td>\n",
       "    </tr>\n",
       "    <tr>\n",
       "      <th>2.1001</th>\n",
       "      <td>0.311343</td>\n",
       "      <td>5.676637e-02</td>\n",
       "      <td>2.984709e-01</td>\n",
       "      <td>2.575571e-01</td>\n",
       "      <td>7.586284e-02</td>\n",
       "    </tr>\n",
       "    <tr>\n",
       "      <th>2.2001</th>\n",
       "      <td>0.297144</td>\n",
       "      <td>5.246393e-02</td>\n",
       "      <td>2.930134e-01</td>\n",
       "      <td>2.681456e-01</td>\n",
       "      <td>8.923289e-02</td>\n",
       "    </tr>\n",
       "    <tr>\n",
       "      <th>2.3001</th>\n",
       "      <td>0.283860</td>\n",
       "      <td>4.839631e-02</td>\n",
       "      <td>2.869322e-01</td>\n",
       "      <td>2.772354e-01</td>\n",
       "      <td>1.035759e-01</td>\n",
       "    </tr>\n",
       "    <tr>\n",
       "      <th>2.4001</th>\n",
       "      <td>0.271414</td>\n",
       "      <td>4.455898e-02</td>\n",
       "      <td>2.803614e-01</td>\n",
       "      <td>2.848553e-01</td>\n",
       "      <td>1.188101e-01</td>\n",
       "    </tr>\n",
       "    <tr>\n",
       "      <th>2.5001</th>\n",
       "      <td>0.259737</td>\n",
       "      <td>4.094523e-02</td>\n",
       "      <td>2.734163e-01</td>\n",
       "      <td>2.910529e-01</td>\n",
       "      <td>1.348482e-01</td>\n",
       "    </tr>\n",
       "    <tr>\n",
       "      <th>2.6001</th>\n",
       "      <td>0.248768</td>\n",
       "      <td>3.754686e-02</td>\n",
       "      <td>2.661953e-01</td>\n",
       "      <td>2.958899e-01</td>\n",
       "      <td>1.516000e-01</td>\n",
       "    </tr>\n",
       "    <tr>\n",
       "      <th>2.7001</th>\n",
       "      <td>0.238450</td>\n",
       "      <td>3.435473e-02</td>\n",
       "      <td>2.587827e-01</td>\n",
       "      <td>2.994387e-01</td>\n",
       "      <td>1.689738e-01</td>\n",
       "    </tr>\n",
       "    <tr>\n",
       "      <th>2.8001</th>\n",
       "      <td>0.228733</td>\n",
       "      <td>3.135919e-02</td>\n",
       "      <td>2.512497e-01</td>\n",
       "      <td>3.017791e-01</td>\n",
       "      <td>1.868788e-01</td>\n",
       "    </tr>\n",
       "    <tr>\n",
       "      <th>2.9001</th>\n",
       "      <td>0.219572</td>\n",
       "      <td>2.855034e-02</td>\n",
       "      <td>2.436566e-01</td>\n",
       "      <td>3.029951e-01</td>\n",
       "      <td>2.052258e-01</td>\n",
       "    </tr>\n",
       "  </tbody>\n",
       "</table>\n",
       "</div>"
      ],
      "text/plain": [
       "             DS0           DS1           DS2           DS3           DS4\n",
       "0.0001  1.000000  1.297050e-16  5.540854e-25  6.144059e-47  1.636083e-91\n",
       "0.1001  0.984741  1.340887e-02  1.848406e-03  1.404889e-06  3.261463e-13\n",
       "0.2001  0.940503  4.432022e-02  1.507559e-02  1.011204e-04  2.060868e-09\n",
       "0.3001  0.885977  7.256812e-02  4.063757e-02  8.169182e-04  1.587236e-07\n",
       "0.4001  0.830083  9.326096e-02  7.365596e-02  2.997508e-03  2.451311e-06\n",
       "0.5001  0.776330  1.067395e-01  1.095051e-01  7.408811e-03  1.684111e-05\n",
       "0.6001  0.726020  1.144629e-01  1.449335e-01  1.451210e-02  7.167800e-05\n",
       "0.7001  0.679518  1.178880e-01  1.779332e-01  2.443733e-02  2.233467e-04\n",
       "0.8001  0.636781  1.182100e-01  2.074055e-01  3.704308e-02  5.602990e-04\n",
       "0.9001  0.597592  1.163460e-01  2.328633e-01  5.199810e-02  1.200106e-03\n",
       "1.0001  0.561672  1.129799e-01  2.542102e-01  6.885722e-02  2.281105e-03\n",
       "1.1001  0.528724  1.086151e-01  2.715867e-01  8.712268e-02  3.951329e-03\n",
       "1.2001  0.498467  1.036189e-01  2.852675e-01  1.062896e-01  6.357205e-03\n",
       "1.3001  0.470636  9.825776e-02  2.955948e-01  1.258775e-01  9.633729e-03\n",
       "1.4001  0.444993  9.272407e-02  3.029352e-01  1.454504e-01  1.389699e-02\n",
       "1.5001  0.421323  8.715536e-02  3.076540e-01  1.646282e-01  1.923926e-02\n",
       "1.6001  0.399434  8.164892e-02  3.100992e-01  1.830914e-01  2.572655e-02\n",
       "1.7001  0.379155  7.627242e-02  3.105933e-01  2.005813e-01  3.339812e-02\n",
       "1.8001  0.360334  7.107169e-02  3.094296e-01  2.168971e-01  4.226752e-02\n",
       "1.9001  0.342836  6.607653e-02  3.068707e-01  2.318915e-01  5.232481e-02\n",
       "2.0001  0.326542  6.130496e-02  3.031496e-01  2.454644e-01  6.353931e-02\n",
       "2.1001  0.311343  5.676637e-02  2.984709e-01  2.575571e-01  7.586284e-02\n",
       "2.2001  0.297144  5.246393e-02  2.930134e-01  2.681456e-01  8.923289e-02\n",
       "2.3001  0.283860  4.839631e-02  2.869322e-01  2.772354e-01  1.035759e-01\n",
       "2.4001  0.271414  4.455898e-02  2.803614e-01  2.848553e-01  1.188101e-01\n",
       "2.5001  0.259737  4.094523e-02  2.734163e-01  2.910529e-01  1.348482e-01\n",
       "2.6001  0.248768  3.754686e-02  2.661953e-01  2.958899e-01  1.516000e-01\n",
       "2.7001  0.238450  3.435473e-02  2.587827e-01  2.994387e-01  1.689738e-01\n",
       "2.8001  0.228733  3.135919e-02  2.512497e-01  3.017791e-01  1.868788e-01\n",
       "2.9001  0.219572  2.855034e-02  2.436566e-01  3.029951e-01  2.052258e-01"
      ]
     },
     "execution_count": 34,
     "metadata": {},
     "output_type": "execute_result"
    }
   ],
   "source": [
    "df_ds_tsunami = df_ds_tsunami[['DS0','DS1','DS2','DS3','DS4']]\n",
    "df_ds_tsunami"
   ]
  },
  {
   "cell_type": "markdown",
   "metadata": {},
   "source": [
    "## Liquefaction"
   ]
  },
  {
   "cell_type": "code",
   "execution_count": 35,
   "metadata": {},
   "outputs": [],
   "source": [
    "liquefaction_bins = {\n",
    "    'low':0, #<0.2\n",
    "    'medium':1, #0.2-1\n",
    "    'high':2 #>1\n",
    "}\n"
   ]
  },
  {
   "cell_type": "markdown",
   "metadata": {},
   "source": [
    "## Landslide"
   ]
  },
  {
   "cell_type": "code",
   "execution_count": 36,
   "metadata": {},
   "outputs": [],
   "source": [
    "# It's binary, so just make up two rows\n",
    "ds_landslide_dict = {\n",
    "    '0':{\n",
    "        'DS0':1.0,\n",
    "        'DS1':0.0,\n",
    "        'DS2':0.0,\n",
    "        'DS3':0.0,\n",
    "        'DS4':0.0\n",
    "    },\n",
    "    '1':{\n",
    "        'DS0':0.0,\n",
    "        'DS1':0.0,\n",
    "        'DS2':0.0,\n",
    "        'DS3':0.0,\n",
    "        'DS4':1.0\n",
    "    }\n",
    "}"
   ]
  },
  {
   "cell_type": "code",
   "execution_count": 37,
   "metadata": {},
   "outputs": [],
   "source": [
    "df_ds_landslide = pd.DataFrame.from_dict(ds_landslide_dict,orient='index')"
   ]
  },
  {
   "cell_type": "markdown",
   "metadata": {},
   "source": [
    "## Find the prior distribution for this hazard"
   ]
  },
  {
   "cell_type": "markdown",
   "metadata": {},
   "source": [
    "## Define Low, Medium and High"
   ]
  },
  {
   "cell_type": "code",
   "execution_count": 38,
   "metadata": {},
   "outputs": [],
   "source": [
    "# ## Make up the definition of low, medium and high\n",
    "# len_pga = len(list(df_ds_shaking.index))\n",
    "# pga_low = list(df_ds_shaking.index)[int((len_pga-1)/4)]\n",
    "# pga_medium = list(df_ds_shaking.index)[int(2*(len_pga-1)/4)]\n",
    "# pga_high = list(df_ds_shaking.index)[int(3*(len_pga-1)/4)]\n"
   ]
  },
  {
   "cell_type": "code",
   "execution_count": 39,
   "metadata": {},
   "outputs": [
    {
     "data": {
      "text/plain": [
       "0.7001"
      ]
     },
     "execution_count": 39,
     "metadata": {},
     "output_type": "execute_result"
    }
   ],
   "source": [
    "earthquake_bins['medium']"
   ]
  },
  {
   "cell_type": "code",
   "execution_count": 40,
   "metadata": {},
   "outputs": [
    {
     "data": {
      "text/plain": [
       "0.7001000000000001"
      ]
     },
     "execution_count": 40,
     "metadata": {},
     "output_type": "execute_result"
    }
   ],
   "source": [
    "min(list(df_ds_shaking_b.index), key=lambda x:abs(x-earthquake_bins['medium']))"
   ]
  },
  {
   "cell_type": "code",
   "execution_count": 41,
   "metadata": {},
   "outputs": [],
   "source": [
    "earthquake_low = min(list(df_ds_shaking_a.index), key=lambda x:abs(x-earthquake_bins['low']))\n",
    "earthquake_medium = min(list(df_ds_shaking_a.index), key=lambda x:abs(x-earthquake_bins['medium']))\n",
    "earthquake_high = min(list(df_ds_shaking_a.index), key=lambda x:abs(x-earthquake_bins['high']))\n",
    "\n",
    "liquefaction_low = liquefaction_bins['low']\n",
    "liquefaction_medium = liquefaction_bins['medium']\n",
    "liquefaction_high = liquefaction_bins['high']\n",
    "\n",
    "tsunami_zero = min(list(df_ds_tsunami.index), key=lambda x:abs(x-tsunami_bins['zero']))\n",
    "tsunami_low = min(list(df_ds_tsunami.index), key=lambda x:abs(x-tsunami_bins['low']))\n",
    "tsunami_medium = min(list(df_ds_tsunami.index), key=lambda x:abs(x-tsunami_bins['medium']))\n",
    "tsunami_high = min(list(df_ds_tsunami.index), key=lambda x:abs(x-tsunami_bins['high']))\n",
    "\n",
    "landslide_no = '0'\n",
    "landslide_yes = '1'\n"
   ]
  },
  {
   "cell_type": "markdown",
   "metadata": {},
   "source": [
    "# Set Conditional Prob Tables"
   ]
  },
  {
   "cell_type": "code",
   "execution_count": 42,
   "metadata": {
    "scrolled": true
   },
   "outputs": [],
   "source": [
    "frag_model_dict_copy = frag_model_dict.copy()\n",
    "net = frag_model_dict_copy['model'][0]['net']"
   ]
  },
  {
   "cell_type": "code",
   "execution_count": 43,
   "metadata": {},
   "outputs": [],
   "source": [
    "net.write_file(\"BN_simple.xdsl\")"
   ]
  },
  {
   "cell_type": "code",
   "execution_count": 44,
   "metadata": {},
   "outputs": [
    {
     "data": {
      "text/plain": [
       "['ShakingFragilityA',\n",
       " 'ShakingFragilityB',\n",
       " 'ShakingFragilityC',\n",
       " 'LiquefactionFragility',\n",
       " 'ShakingFragility',\n",
       " 'TsunamiFragility',\n",
       " 'LandslideFragility',\n",
       " 'Combined']"
      ]
     },
     "execution_count": 44,
     "metadata": {},
     "output_type": "execute_result"
    }
   ],
   "source": [
    "list_of_nodes = net.get_all_nodes()\n",
    "# # list_of_nodes.pop(net.get_node('Combined'))\n",
    "# # list_of_nodes.pop(net.get_node('ShakingFragility'))\n",
    "# # list_of_nodes.pop(net.get_node('ShakingFragilityA'))\n",
    "# # list_of_nodes.pop(net.get_node('ShakingFragilityB'))\n",
    "# # list_of_nodes.pop(net.get_node('ShakingFragilityC'))\n",
    "[ net.get_node_id(x) for x in list_of_nodes]"
   ]
  },
  {
   "cell_type": "code",
   "execution_count": 45,
   "metadata": {},
   "outputs": [],
   "source": [
    "# for node_handle in list_of_nodes:\n",
    "#     # Get a single fragility node\n",
    "#     child_node_name = net.get_node_id(node_handle)\n",
    "    \n",
    "#     print(child_node_name)"
   ]
  },
  {
   "cell_type": "code",
   "execution_count": 46,
   "metadata": {},
   "outputs": [],
   "source": [
    "child_node_names = ['LiquefactionFragility','LandslideFragility','TsunamiFragility']"
   ]
  },
  {
   "cell_type": "code",
   "execution_count": 47,
   "metadata": {},
   "outputs": [
    {
     "name": "stdout",
     "output_type": "stream",
     "text": [
      "Liquefaction\n",
      "LiquefactionFragility\n",
      "Landslide\n",
      "LandslideFragility\n",
      "Tsunami\n",
      "TsunamiFragility\n"
     ]
    }
   ],
   "source": [
    "for child_node_name in child_node_names:\n",
    "    # Get a single fragility node\n",
    "#     child_node_name = net.get_node_id(node_handle)\n",
    "    # Create a new node for the hazard\n",
    "    new_node_name = re.sub('Fragility','',child_node_name)\n",
    "    net.add_node(pysmile.NodeType.CPT,new_node_name)\n",
    "    # Add the outcomes\n",
    "#     if (new_node_name=='ShakingA')|(new_node_name=='ShakingB')|(new_node_name=='ShakingC'):\n",
    "#         outcomes = ['low','medium','high']\n",
    "    if new_node_name=='Landslide':\n",
    "        outcomes = ['no','yes']\n",
    "    elif new_node_name=='Tsunami':\n",
    "        outcomes = ['zero','low','medium','high']\n",
    "    elif new_node_name=='Liquefaction':\n",
    "        outcomes = ['low','medium','high']\n",
    "    for outcome in outcomes:\n",
    "        net.add_outcome(new_node_name,outcome)\n",
    "    # Delete the premade states\n",
    "    net.delete_outcome(new_node_name,'State0')\n",
    "    net.delete_outcome(new_node_name,'State1')\n",
    "    # Create connection between the hazard and fragility functions\n",
    "    \n",
    "    net.add_arc(new_node_name,child_node_name)\n",
    "    print(new_node_name)\n",
    "    print(child_node_name)\n",
    "    # Set the values of the conditional probability table for the fragility node\n",
    "    if new_node_name=='Landslide':\n",
    "        cpt_value = \\\n",
    "            list(df_ds_landslide[df_ds_landslide.index==landslide_no].T[landslide_no])+\\\n",
    "            list(df_ds_landslide[df_ds_landslide.index==landslide_yes].T[landslide_yes])\n",
    "    elif new_node_name=='Tsunami':\n",
    "        cpt_value = \\\n",
    "            list(df_ds_tsunami[df_ds_tsunami.index==tsunami_zero].T[tsunami_zero])+\\\n",
    "            list(df_ds_tsunami[df_ds_tsunami.index==tsunami_low].T[tsunami_low])+\\\n",
    "            list(df_ds_tsunami[df_ds_tsunami.index==tsunami_medium].T[tsunami_medium])+\\\n",
    "            list(df_ds_tsunami[df_ds_tsunami.index==tsunami_high].T[tsunami_high])\n",
    "    elif new_node_name=='Liquefaction':\n",
    "        cpt_value = [1,0,0,0,1,0,0,0,1]\n",
    "    net.set_node_definition(child_node_name,cpt_value)\n",
    "    net.set_node_definition(new_node_name,[1/len(outcomes)]*len(outcomes))"
   ]
  },
  {
   "cell_type": "code",
   "execution_count": 48,
   "metadata": {},
   "outputs": [],
   "source": [
    "\n",
    "# Get a single fragility node\n",
    "# child_node_name = net.get_node_id(node_handle)\n",
    "# Create a new node for the hazard\n",
    "new_node_name = 'Shaking'\n",
    "\n",
    "net.add_node(pysmile.NodeType.CPT,new_node_name)\n",
    "\n",
    "outcomes = ['low','medium','high']\n",
    "\n",
    "for outcome in outcomes:\n",
    "    net.add_outcome(new_node_name,outcome)\n",
    "# Delete the premade states\n",
    "net.delete_outcome(new_node_name,'State0')\n",
    "net.delete_outcome(new_node_name,'State1')\n",
    "# Create connection between the hazard and fragility functions\n",
    "\n",
    "for node in ['ShakingFragilityA','ShakingFragilityB','ShakingFragilityC']:\n",
    "    net.add_arc(new_node_name,node)\n",
    "\n",
    "# Set the values of the conditional probability table for the fragility node\n",
    "cpt_value = \\\n",
    "    list(df_ds_shaking_a[df_ds_shaking_a.index==earthquake_low].T[earthquake_low])+\\\n",
    "    list(df_ds_shaking_a[df_ds_shaking_a.index==earthquake_medium].T[earthquake_medium])+\\\n",
    "    list(df_ds_shaking_a[df_ds_shaking_a.index==earthquake_high].T[earthquake_high])\n",
    "\n",
    "for node in ['ShakingFragilityA','ShakingFragilityB','ShakingFragilityC']:\n",
    "    net.set_node_definition(node,cpt_value)\n",
    "\n",
    "net.set_node_definition(new_node_name,[1/len(outcomes)]*len(outcomes))"
   ]
  },
  {
   "cell_type": "code",
   "execution_count": 49,
   "metadata": {},
   "outputs": [],
   "source": [
    "net.write_file(\"test.xdsl\")\n",
    "frag_model_dict['model'][0].update({\n",
    "    'net':net\n",
    "})\n"
   ]
  },
  {
   "cell_type": "code",
   "execution_count": 50,
   "metadata": {},
   "outputs": [],
   "source": [
    "net.write_file(\"testBN.xdsl\")"
   ]
  },
  {
   "cell_type": "code",
   "execution_count": 51,
   "metadata": {},
   "outputs": [],
   "source": [
    "frag_model_dict['variables'].update({\n",
    "        'Shaking':{\n",
    "            'label':'Shaking',\n",
    "            'child_nodes':['ShakingFragility'],\n",
    "            'bins':['low','medium','high']\n",
    "        },\n",
    "        'Tsunami':{\n",
    "            'label':'Tsunami',\n",
    "            'child_nodes':['TsunamiFragility'],\n",
    "            'bins':['zero','low','medium','high']\n",
    "        },\n",
    "        'Landslide':{\n",
    "            'label':'Landslide',\n",
    "            'child_nodes':['LandslideFragility'],\n",
    "            'bins':['no','yes']\n",
    "        }\n",
    "})"
   ]
  },
  {
   "cell_type": "code",
   "execution_count": 52,
   "metadata": {
    "scrolled": true
   },
   "outputs": [],
   "source": [
    "# Add hazard evidence to dict\n",
    "hazards_evidence_dict = {\n",
    "    'Landslide':[1,0],\n",
    "    'Tsunami':[0,1,0,0],\n",
    "    'Shaking':[1,0,0]\n",
    "}\n",
    "frag_model_dict = BNModel().add_evidence_to_dict(frag_model_dict,hazards_evidence_dict)\n",
    "\n",
    "# Set evidence and get beliefs\n",
    "frag_model_dict = BNModel().update_evidence(frag_model_dict)\n"
   ]
  },
  {
   "cell_type": "markdown",
   "metadata": {},
   "source": [
    "# Set Evidence"
   ]
  },
  {
   "cell_type": "code",
   "execution_count": 53,
   "metadata": {},
   "outputs": [],
   "source": [
    "mean_pga = 0.42482\n",
    "sigma_pga = 2.1371\n"
   ]
  },
  {
   "cell_type": "code",
   "execution_count": null,
   "metadata": {},
   "outputs": [],
   "source": []
  },
  {
   "cell_type": "code",
   "execution_count": 54,
   "metadata": {},
   "outputs": [
    {
     "data": {
      "text/plain": [
       "{'variables': {'ShakingFragilityA': {'label': 'ShakingFragilityA',\n",
       "   'child_nodes': ['ShakingFragility'],\n",
       "   'bins': ['DS0', 'DS1', 'DS2', 'DS3', 'DS4'],\n",
       "   'training_data_preprocessed': {0: array(['DS4', 'DS4', 'DS4', ..., 'DS0', 'DS0', 'DS0'], dtype=object)},\n",
       "   'testing_data_preprocessed': {0: array([], dtype=object)},\n",
       "   'training_data': {0: array(['DS4', 'DS4', 'DS4', ..., 'DS0', 'DS0', 'DS0'], dtype=object)},\n",
       "   'testing_data': {0: array([], dtype=object)},\n",
       "   'id': 0,\n",
       "   'resulting_probs': {0: {'DS0': 0.9296723313747892,\n",
       "     'DS1': 0.04426547350466256,\n",
       "     'DS2': 0.025036639324750153,\n",
       "     'DS3': 0.0010135211836105763,\n",
       "     'DS4': 1.2034612187439764e-05}}},\n",
       "  'ShakingFragilityB': {'label': 'ShakingFragilityB',\n",
       "   'child_nodes': ['ShakingFragility'],\n",
       "   'bins': ['DS0', 'DS1', 'DS2', 'DS3', 'DS4'],\n",
       "   'training_data_preprocessed': {0: array(['DS4', 'DS4', 'DS4', ..., 'DS0', 'DS0', 'DS0'], dtype=object)},\n",
       "   'testing_data_preprocessed': {0: array([], dtype=object)},\n",
       "   'training_data': {0: array(['DS4', 'DS4', 'DS4', ..., 'DS0', 'DS0', 'DS0'], dtype=object)},\n",
       "   'testing_data': {0: array([], dtype=object)},\n",
       "   'id': 1,\n",
       "   'resulting_probs': {0: {'DS0': 0.9296723313747892,\n",
       "     'DS1': 0.04426547350466256,\n",
       "     'DS2': 0.025036639324750153,\n",
       "     'DS3': 0.0010135211836105763,\n",
       "     'DS4': 1.2034612187439764e-05}}},\n",
       "  'ShakingFragilityC': {'label': 'ShakingFragilityC',\n",
       "   'child_nodes': ['ShakingFragility'],\n",
       "   'bins': ['DS0', 'DS1', 'DS2', 'DS3', 'DS4'],\n",
       "   'training_data_preprocessed': {0: array(['DS4', 'DS4', 'DS4', ..., 'DS4', 'DS4', 'DS4'], dtype=object)},\n",
       "   'testing_data_preprocessed': {0: array([], dtype=object)},\n",
       "   'training_data': {0: array(['DS4', 'DS4', 'DS4', ..., 'DS4', 'DS4', 'DS4'], dtype=object)},\n",
       "   'testing_data': {0: array([], dtype=object)},\n",
       "   'id': 2,\n",
       "   'resulting_probs': {0: {'DS0': 0.9296723313747892,\n",
       "     'DS1': 0.04426547350466256,\n",
       "     'DS2': 0.025036639324750153,\n",
       "     'DS3': 0.0010135211836105758,\n",
       "     'DS4': 1.2034612187439764e-05}}},\n",
       "  'LiquefactionFragility': {'label': 'LiquefactionFragility',\n",
       "   'child_nodes': ['ShakingFragility'],\n",
       "   'bins': ['DS0', 'DS1', 'DS2'],\n",
       "   'training_data_preprocessed': {0: array(['DS2', 'DS2', 'DS2', ..., 'DS2', 'DS2', 'DS2'], dtype=object)},\n",
       "   'testing_data_preprocessed': {0: array([], dtype=object)},\n",
       "   'training_data': {0: array(['DS2', 'DS2', 'DS2', ..., 'DS2', 'DS2', 'DS2'], dtype=object)},\n",
       "   'testing_data': {0: array([], dtype=object)},\n",
       "   'id': 3,\n",
       "   'resulting_probs': {0: {'DS0': 0.3333333333333336,\n",
       "     'DS1': 0.3333333333333333,\n",
       "     'DS2': 0.3333333333333333}}},\n",
       "  'ShakingFragility': {'label': 'ShakingFragility',\n",
       "   'child_nodes': ['Combined'],\n",
       "   'bins': ['DS0', 'DS1', 'DS2', 'DS3', 'DS4'],\n",
       "   'training_data_preprocessed': {0: array(['DS4', 'DS4', 'DS4', ..., 'DS4', 'DS4', 'DS4'], dtype=object)},\n",
       "   'testing_data_preprocessed': {0: array([], dtype=object)},\n",
       "   'training_data': {0: array(['DS4', 'DS4', 'DS4', ..., 'DS4', 'DS4', 'DS4'], dtype=object)},\n",
       "   'testing_data': {0: array([], dtype=object)},\n",
       "   'id': 4,\n",
       "   'resulting_probs': {0: {'DS0': 0.20704727468585718,\n",
       "     'DS1': 0.24484130554806466,\n",
       "     'DS2': 0.19589615564409557,\n",
       "     'DS3': 0.2038300171399635,\n",
       "     'DS4': 0.1483852469820192}}},\n",
       "  'TsunamiFragility': {'label': 'TsunamiFragility',\n",
       "   'child_nodes': ['Combined'],\n",
       "   'bins': ['DS0', 'DS1', 'DS2', 'DS3', 'DS4'],\n",
       "   'training_data_preprocessed': {0: array(['DS4', 'DS4', 'DS4', ..., 'DS4', 'DS4', 'DS4'], dtype=object)},\n",
       "   'testing_data_preprocessed': {0: array([], dtype=object)},\n",
       "   'training_data': {0: array(['DS4', 'DS4', 'DS4', ..., 'DS4', 'DS4', 'DS4'], dtype=object)},\n",
       "   'testing_data': {0: array([], dtype=object)},\n",
       "   'id': 5,\n",
       "   'resulting_probs': {0: {'DS0': 0.940503073382706,\n",
       "     'DS1': 0.04432021524847409,\n",
       "     'DS2': 0.015075588898557273,\n",
       "     'DS3': 0.00010112040939462005,\n",
       "     'DS4': 2.060868046172073e-09}}},\n",
       "  'LandslideFragility': {'label': 'LandslideFragility',\n",
       "   'child_nodes': ['Combined'],\n",
       "   'bins': ['DS0', 'DS1', 'DS2', 'DS3', 'DS4'],\n",
       "   'training_data_preprocessed': {0: array(['DS4', 'DS4', 'DS4', ..., 'DS4', 'DS4', 'DS4'], dtype=object)},\n",
       "   'testing_data_preprocessed': {0: array([], dtype=object)},\n",
       "   'training_data': {0: array(['DS4', 'DS4', 'DS4', ..., 'DS4', 'DS4', 'DS4'], dtype=object)},\n",
       "   'testing_data': {0: array([], dtype=object)},\n",
       "   'id': 6,\n",
       "   'resulting_probs': {0: {'DS0': 1.0,\n",
       "     'DS1': 0.0,\n",
       "     'DS2': 0.0,\n",
       "     'DS3': 0.0,\n",
       "     'DS4': 0.0}}},\n",
       "  'Combined': {'label': 'Combined',\n",
       "   'child_nodes': [],\n",
       "   'bins': ['DS0', 'DS1', 'DS2', 'DS3', 'DS4'],\n",
       "   'training_data_preprocessed': {0: array(['DS4', 'DS4', 'DS4', ..., 'DS4', 'DS4', 'DS4'], dtype=object)},\n",
       "   'testing_data_preprocessed': {0: array([], dtype=object)},\n",
       "   'training_data': {0: array(['DS4', 'DS4', 'DS4', ..., 'DS4', 'DS4', 'DS4'], dtype=object)},\n",
       "   'testing_data': {0: array([], dtype=object)},\n",
       "   'id': 7,\n",
       "   'resulting_probs': {0: {'DS0': 0.18609336292386316,\n",
       "     'DS1': 0.21926538106580779,\n",
       "     'DS2': 0.21787791904927034,\n",
       "     'DS3': 0.1947513077103883,\n",
       "     'DS4': 0.18201202925067053}}},\n",
       "  'Shaking': {'label': 'Shaking',\n",
       "   'child_nodes': ['ShakingFragility'],\n",
       "   'bins': ['low', 'medium', 'high'],\n",
       "   'evidence': [1, 0, 0],\n",
       "   'resulting_probs': {0: {'low': 1.0, 'medium': 0.0, 'high': 0.0}}},\n",
       "  'Tsunami': {'label': 'Tsunami',\n",
       "   'child_nodes': ['TsunamiFragility'],\n",
       "   'bins': ['zero', 'low', 'medium', 'high'],\n",
       "   'evidence': [0, 1, 0, 0],\n",
       "   'resulting_probs': {0: {'zero': 0.0,\n",
       "     'low': 1.0,\n",
       "     'medium': 0.0,\n",
       "     'high': 0.0}}},\n",
       "  'Landslide': {'label': 'Landslide',\n",
       "   'child_nodes': ['LandslideFragility'],\n",
       "   'bins': ['no', 'yes'],\n",
       "   'evidence': [1, 0],\n",
       "   'resulting_probs': {0: {'no': 1.0, 'yes': 0.0}}}},\n",
       " 'training_frac': 0.8,\n",
       " 'bootstrap_reps': 1,\n",
       " 'model': {0: {'net': <pysmile.Network at 0x7f13692027f0>,\n",
       "   'training_file': 'training_data_fragility_0.csv',\n",
       "   'testing_file': 'testing_data_fragility_0.csv',\n",
       "   'ds_training': <pysmile.learning.DataSet at 0x7f13691e32b0>,\n",
       "   'ds_testing': <pysmile.learning.DataSet at 0x7f13691e3270>}}}"
      ]
     },
     "execution_count": 54,
     "metadata": {},
     "output_type": "execute_result"
    }
   ],
   "source": [
    "frag_model_dict"
   ]
  },
  {
   "cell_type": "markdown",
   "metadata": {},
   "source": [
    "# Looping over grid, calculating probs"
   ]
  },
  {
   "cell_type": "code",
   "execution_count": 55,
   "metadata": {},
   "outputs": [],
   "source": [
    "# Loop over each of the hazards, and get the relevant columns"
   ]
  },
  {
   "cell_type": "code",
   "execution_count": 56,
   "metadata": {},
   "outputs": [
    {
     "ename": "NameError",
     "evalue": "name 'asdf' is not defined",
     "output_type": "error",
     "traceback": [
      "\u001b[0;31m---------------------------------------------------------------------------\u001b[0m",
      "\u001b[0;31mNameError\u001b[0m                                 Traceback (most recent call last)",
      "\u001b[0;32m/tmp/ipykernel_1526/2591132670.py\u001b[0m in \u001b[0;36m<module>\u001b[0;34m\u001b[0m\n\u001b[1;32m     13\u001b[0m             \u001b[0mnode_name\u001b[0m\u001b[0;34m:\u001b[0m\u001b[0mlist\u001b[0m\u001b[0;34m(\u001b[0m\u001b[0mrow\u001b[0m\u001b[0;34m[\u001b[0m\u001b[0mhazard_cols\u001b[0m\u001b[0;34m]\u001b[0m\u001b[0;34m)\u001b[0m\u001b[0;34m\u001b[0m\u001b[0;34m\u001b[0m\u001b[0m\n\u001b[1;32m     14\u001b[0m         })\n\u001b[0;32m---> 15\u001b[0;31m         \u001b[0masdf\u001b[0m\u001b[0;34m\u001b[0m\u001b[0;34m\u001b[0m\u001b[0m\n\u001b[0m\u001b[1;32m     16\u001b[0m     \u001b[0;31m# Add hazard evidence to dict\u001b[0m\u001b[0;34m\u001b[0m\u001b[0;34m\u001b[0m\u001b[0;34m\u001b[0m\u001b[0m\n\u001b[1;32m     17\u001b[0m     \u001b[0mfrag_model_dict\u001b[0m \u001b[0;34m=\u001b[0m \u001b[0mBNModel\u001b[0m\u001b[0;34m(\u001b[0m\u001b[0;34m)\u001b[0m\u001b[0;34m.\u001b[0m\u001b[0madd_evidence_to_dict\u001b[0m\u001b[0;34m(\u001b[0m\u001b[0mfrag_model_dict\u001b[0m\u001b[0;34m,\u001b[0m\u001b[0mhazards_evidence_dict\u001b[0m\u001b[0;34m)\u001b[0m\u001b[0;34m\u001b[0m\u001b[0;34m\u001b[0m\u001b[0m\n",
      "\u001b[0;31mNameError\u001b[0m: name 'asdf' is not defined"
     ]
    }
   ],
   "source": [
    "df_hazards = pd.read_csv('example_data.csv')\n",
    "hazard_keys = ['_shaking_prob','_liq','_tsunami','_landslide']\n",
    "hazard_node_names = ['Shaking','Liquefaction','Tsunami','Landslide']\n",
    "\n",
    "for index,row in df_hazards.iterrows():\n",
    "    \n",
    "    # Create evidence dict, one hazard at a time\n",
    "    hazards_evidence_dict = {}\n",
    "    for key,node_name in zip(hazard_keys,hazard_node_names):\n",
    "        hazard_cols = [x for x in df_hazards.columns if key in x]\n",
    "            \n",
    "        hazards_evidence_dict.update({\n",
    "            node_name:list(row[hazard_cols])\n",
    "        })\n",
    "        asdf\n",
    "    # Add hazard evidence to dict\n",
    "    frag_model_dict = BNModel().add_evidence_to_dict(frag_model_dict,hazards_evidence_dict)\n",
    "    \n",
    "    # Set evidence and get beliefs\n",
    "    frag_model_dict = BNModel().update_evidence(frag_model_dict)\n",
    "    \n",
    "    asdf"
   ]
  },
  {
   "cell_type": "code",
   "execution_count": null,
   "metadata": {},
   "outputs": [],
   "source": [
    "net.get_node_value('Combined')"
   ]
  },
  {
   "cell_type": "code",
   "execution_count": null,
   "metadata": {},
   "outputs": [],
   "source": [
    "dir(net)"
   ]
  },
  {
   "cell_type": "code",
   "execution_count": null,
   "metadata": {},
   "outputs": [],
   "source": [
    "net.get_node_definition('Combined')"
   ]
  },
  {
   "cell_type": "code",
   "execution_count": null,
   "metadata": {},
   "outputs": [],
   "source": [
    "net.get_outcome_ids('Combined')"
   ]
  },
  {
   "cell_type": "code",
   "execution_count": null,
   "metadata": {},
   "outputs": [],
   "source": [
    "# Add hazard evidence to dict\n",
    "frag_model_dict = BNModel().add_evidence_to_dict(frag_model_dict,hazards_evidence_dict)\n",
    "\n",
    "# Set evidence and get beliefs\n",
    "frag_model_dict = BNModel().update_evidence(frag_model_dict)"
   ]
  },
  {
   "cell_type": "code",
   "execution_count": null,
   "metadata": {},
   "outputs": [],
   "source": [
    "hazards_evidence_dict"
   ]
  },
  {
   "cell_type": "code",
   "execution_count": null,
   "metadata": {},
   "outputs": [],
   "source": [
    "net.get_all_node_ids()"
   ]
  },
  {
   "cell_type": "code",
   "execution_count": null,
   "metadata": {},
   "outputs": [],
   "source": [
    "asdfasdf"
   ]
  },
  {
   "cell_type": "markdown",
   "metadata": {},
   "source": [
    "# Get the cpt for deciding between the PGAs"
   ]
  },
  {
   "cell_type": "code",
   "execution_count": null,
   "metadata": {},
   "outputs": [],
   "source": []
  },
  {
   "cell_type": "code",
   "execution_count": null,
   "metadata": {},
   "outputs": [],
   "source": [
    "PGA1"
   ]
  },
  {
   "cell_type": "code",
   "execution_count": null,
   "metadata": {},
   "outputs": [],
   "source": []
  },
  {
   "cell_type": "code",
   "execution_count": null,
   "metadata": {},
   "outputs": [],
   "source": []
  },
  {
   "cell_type": "code",
   "execution_count": null,
   "metadata": {},
   "outputs": [],
   "source": []
  },
  {
   "cell_type": "markdown",
   "metadata": {},
   "source": [
    "## Create Definition of bins for each hazard"
   ]
  },
  {
   "cell_type": "markdown",
   "metadata": {},
   "source": [
    "### Earthquake"
   ]
  },
  {
   "cell_type": "markdown",
   "metadata": {},
   "source": [
    "# Data Prep"
   ]
  },
  {
   "cell_type": "markdown",
   "metadata": {},
   "source": [
    "## Preprocessing"
   ]
  },
  {
   "cell_type": "code",
   "execution_count": null,
   "metadata": {
    "ExecuteTime": {
     "end_time": "2021-06-10T02:18:16.558430Z",
     "start_time": "2021-06-10T02:18:09.303508Z"
    }
   },
   "outputs": [],
   "source": [
    "df_hazards = pd.read_csv('example_data.csv')\n",
    "df_hazards_subset = df_hazards.drop(['lon','lat'],axis=1)\n",
    "hazards_data_dict = {col:np.array(content) for col,content in df_hazards_subset.iteritems()}"
   ]
  },
  {
   "cell_type": "code",
   "execution_count": null,
   "metadata": {},
   "outputs": [],
   "source": [
    "df_hazards = df_hazards[1:]"
   ]
  },
  {
   "cell_type": "code",
   "execution_count": null,
   "metadata": {},
   "outputs": [],
   "source": [
    "df"
   ]
  },
  {
   "cell_type": "markdown",
   "metadata": {},
   "source": [
    "## Create Variable Dictionary"
   ]
  },
  {
   "cell_type": "code",
   "execution_count": null,
   "metadata": {
    "ExecuteTime": {
     "end_time": "2021-06-10T02:19:00.234568Z",
     "start_time": "2021-06-10T02:19:00.159611Z"
    },
    "code_folding": [],
    "scrolled": false
   },
   "outputs": [],
   "source": [
    "#### Don't include spaces in bin names. if no discretisation, just leave out that key\n",
    "hazards_model_dict = {\n",
    "    'variables':{\n",
    "        'meanpga_lo':{\n",
    "            'label':'meanpga_lo',\n",
    "            'discretisation':{\n",
    "                'n_bins':3,\n",
    "                'strategy':'kmeans',\n",
    "                'bin_names':['Low','Mid','High']\n",
    "            },\n",
    "            'child_nodes':['Liq_Class','land_LP2500_max']\n",
    "        },\n",
    "        'Liq_Class':{\n",
    "            'label':r'Liq_Class',\n",
    "            'child_nodes':[],\n",
    "            'bins':np.unique(df_hazards['Liq_Class'])\n",
    "        },\n",
    "        'land_LP2500_max':{\n",
    "            'label':'land_LP2500_max',\n",
    "            'discretisation':{\n",
    "                'n_bins':3,\n",
    "                'strategy':'kmeans',\n",
    "                'bin_names':['Low','Mid','High']\n",
    "            },\n",
    "            'child_nodes':[]\n",
    "        }\n",
    "    },\n",
    "    'training_frac':0.8,\n",
    "    'bootstrap_reps':1\n",
    "}"
   ]
  },
  {
   "cell_type": "markdown",
   "metadata": {},
   "source": [
    "## Bootstrapping the data"
   ]
  },
  {
   "cell_type": "code",
   "execution_count": null,
   "metadata": {
    "ExecuteTime": {
     "end_time": "2021-06-10T02:19:00.754301Z",
     "start_time": "2021-06-10T02:19:00.326513Z"
    },
    "scrolled": true
   },
   "outputs": [],
   "source": [
    "# Bootstrap the data, and add it to the model_dict\n",
    "hazards_model_dict = BNModel().bootstrap_data(hazards_model_dict,hazards_data_dict,df_hazards)\n"
   ]
  },
  {
   "cell_type": "code",
   "execution_count": null,
   "metadata": {},
   "outputs": [],
   "source": [
    "hazards_model_dict['variables'].keys()"
   ]
  },
  {
   "cell_type": "markdown",
   "metadata": {},
   "source": [
    "## Discretise the data"
   ]
  },
  {
   "cell_type": "code",
   "execution_count": null,
   "metadata": {
    "ExecuteTime": {
     "end_time": "2021-06-10T02:19:46.021235Z",
     "start_time": "2021-06-10T02:19:00.755300Z"
    }
   },
   "outputs": [],
   "source": [
    "# Discretise the data\n",
    "hazards_file_label = \"hazards\"\n",
    "\n",
    "hazards_model_dict = BNModel().discretiser(hazards_model_dict,[\"Liq_Class\"])"
   ]
  },
  {
   "cell_type": "code",
   "execution_count": null,
   "metadata": {
    "ExecuteTime": {
     "end_time": "2021-06-10T02:19:49.387291Z",
     "start_time": "2021-06-10T02:19:46.102171Z"
    },
    "scrolled": false
   },
   "outputs": [],
   "source": [
    "# hazards_disc_fig = BNModel().plot_discretiser(hazards_model_dict,[\"Liq_Class\"])"
   ]
  },
  {
   "cell_type": "markdown",
   "metadata": {},
   "source": [
    "## Save the data"
   ]
  },
  {
   "cell_type": "code",
   "execution_count": null,
   "metadata": {
    "ExecuteTime": {
     "end_time": "2021-06-10T02:20:58.711518Z",
     "start_time": "2021-06-10T02:20:53.985216Z"
    }
   },
   "outputs": [],
   "source": [
    "BNModel().save_dataset(hazards_model_dict,hazards_file_label)"
   ]
  },
  {
   "cell_type": "markdown",
   "metadata": {},
   "source": [
    "# Create BN Model"
   ]
  },
  {
   "cell_type": "code",
   "execution_count": null,
   "metadata": {
    "ExecuteTime": {
     "end_time": "2021-06-10T02:21:05.864450Z",
     "start_time": "2021-06-10T02:21:05.152790Z"
    }
   },
   "outputs": [],
   "source": [
    "# Create the BN\n",
    "hazards_model_dict = BNModel().create_SM(hazards_model_dict,hazards_file_label)"
   ]
  },
  {
   "cell_type": "markdown",
   "metadata": {},
   "source": [
    "## View Conditional Probability tables"
   ]
  },
  {
   "cell_type": "code",
   "execution_count": null,
   "metadata": {
    "ExecuteTime": {
     "end_time": "2021-06-10T02:20:58.809434Z",
     "start_time": "2021-06-10T02:20:56.573Z"
    },
    "scrolled": false
   },
   "outputs": [],
   "source": [
    "# Get conditional probs tables\n",
    "BNModel().get_conditional_prob_table(hazards_model_dict,'land_LP2500_max')"
   ]
  },
  {
   "cell_type": "code",
   "execution_count": null,
   "metadata": {
    "ExecuteTime": {
     "end_time": "2021-06-10T02:20:58.814431Z",
     "start_time": "2021-06-10T02:20:56.725Z"
    }
   },
   "outputs": [],
   "source": [
    "# # Get conditional probs tables\n",
    "# df_CPT_MSL = BNModel().get_conditional_prob_table(ocean_model_dict,'TWL')\n",
    "\n",
    "# df_CPT_MSL = df_CPT_MSL.loc[['VeryLow','Low','Mid','High','VeryHigh']]\n",
    "\n",
    "# plt.pcolor(df_CPT_MSL)"
   ]
  },
  {
   "cell_type": "markdown",
   "metadata": {},
   "source": [
    "# Set Evidence"
   ]
  },
  {
   "cell_type": "code",
   "execution_count": null,
   "metadata": {
    "ExecuteTime": {
     "end_time": "2021-06-10T02:20:58.833418Z",
     "start_time": "2021-06-10T02:20:57.381Z"
    }
   },
   "outputs": [],
   "source": [
    "hazards_evidence_dict = {\n",
    "    'land_LP2500_max':[0.05,0.1,0.01]\n",
    "}\n"
   ]
  },
  {
   "cell_type": "code",
   "execution_count": null,
   "metadata": {
    "ExecuteTime": {
     "end_time": "2021-06-10T02:20:58.838415Z",
     "start_time": "2021-06-10T02:20:57.549Z"
    }
   },
   "outputs": [],
   "source": [
    "hazards_model_dict = BNModel().add_evidence_to_dict(hazards_model_dict,hazards_evidence_dict)"
   ]
  },
  {
   "cell_type": "markdown",
   "metadata": {},
   "source": [
    "# Update beliefs based on evidence"
   ]
  },
  {
   "cell_type": "code",
   "execution_count": null,
   "metadata": {
    "ExecuteTime": {
     "end_time": "2021-06-10T02:20:58.843410Z",
     "start_time": "2021-06-10T02:20:57.946Z"
    }
   },
   "outputs": [],
   "source": [
    "# Set evidence and get beliefs\n",
    "hazards_model_dict = BNModel().update_evidence(hazards_model_dict)"
   ]
  },
  {
   "cell_type": "markdown",
   "metadata": {},
   "source": [
    "# BN Visualisation"
   ]
  },
  {
   "cell_type": "code",
   "execution_count": null,
   "metadata": {
    "ExecuteTime": {
     "end_time": "2021-06-10T02:20:58.849407Z",
     "start_time": "2021-06-10T02:20:58.285Z"
    },
    "scrolled": false
   },
   "outputs": [],
   "source": [
    "\n",
    "# Set up graph\n",
    "graph_hazards = BNModel().create_BN_graph()\n",
    "\n",
    "# Create nodes of the graph\n",
    "graph_hazards,hazards_model_dict = BNModel().create_nodes(graph_hazards,hazards_model_dict,0)\n",
    "\n",
    "# Create arcs between nodes\n",
    "graph_hazards = BNModel().create_arcs(graph_hazards,hazards_model_dict)\n",
    "\n",
    "# Save as dot file\n",
    "graph_hazards.render(filename='graph_hazards',format='png')\n",
    "\n",
    "# Plot the graph\n",
    "graph_hazards\n"
   ]
  },
  {
   "cell_type": "code",
   "execution_count": null,
   "metadata": {},
   "outputs": [],
   "source": []
  }
 ],
 "metadata": {
  "cite2c": {
   "citations": {
    "2344856/I2LE4LVY": {
     "DOI": "10.1029/2019PA003589",
     "author": [
      {
       "family": "Bengtson",
       "given": "Shannon A."
      },
      {
       "family": "Meissner",
       "given": "Katrin J."
      },
      {
       "family": "Menviel",
       "given": "Laurie"
      },
      {
       "family": "A. Sisson",
       "given": "Scott"
      },
      {
       "family": "Wilkin",
       "given": "John"
      }
     ],
     "container-title": "Paleoceanography and Paleoclimatology",
     "container-title-short": "Paleoceanography and Paleoclimatology",
     "id": "2344856/I2LE4LVY",
     "issued": {
      "day": 17,
      "month": 5,
      "year": 2019
     },
     "journalAbbreviation": "Paleoceanography and Paleoclimatology",
     "note": "Citation Key: bengtson2019evaluating",
     "page": "1022-1036",
     "page-first": "1022",
     "title": "Evaluating the extent of North Atlantic Deep Water and the mean Atlantic δ<sup>13</sup>C from statistical reconstructions",
     "type": "article-journal",
     "volume": "34"
    },
    "2344856/V5HIVSEQ": {
     "DOI": "10.1017/S0263593300020782",
     "URL": "https://www.cambridge.org/core/journals/earth-and-environmental-science-transactions-of-royal-society-of-edinburgh/article/an-alternative-astronomical-calibration-of-the-lower-pleistocene-timescale-based-on-odp-site-677/D02E93BFBF418256AD00642C8A98277C",
     "abstract": "Ocean Drilling Program (ODP) Site 677 provided excellent material for high resolution stable isotope analysis of both benthonic and planktonic foraminifera through the entire Pleistocene and upper Pliocene. The oxygen isotope record is readily correlated with the SPECMAP stack (Imbrie et al. 1984) and with the record from DSDP 607 (Ruddiman et al. 1986) but a significantly better match with orbital models is obtained by departing from the timescale proposed by these authors below Stage 16 (620 000 years). It is the stronger contribution from the precession signal in the record from ODP Site 677 that provides the basis for the revised timescale. Our proposed modification to the timescale would imply that the currently adopted radiometric dates for the Matuyama–Brunhes boundary, the Jaramillo and Olduvai Subchrons and the Gauss–Matuyama boundary underestimate their true astronomical ages by between 5 and 7%.",
     "accessed": {
      "day": 19,
      "month": 5,
      "year": 2020
     },
     "author": [
      {
       "family": "Shackleton",
       "given": "N. J."
      },
      {
       "family": "Berger",
       "given": "A."
      },
      {
       "family": "Peltier",
       "given": "W. R."
      }
     ],
     "container-title": "Earth and Environmental Science Transactions of The Royal Society of Edinburgh",
     "id": "2344856/V5HIVSEQ",
     "issue": "4",
     "issued": {
      "year": 1990
     },
     "language": "en",
     "note": "citation key: shackleton1990alternative",
     "page": "251-261",
     "page-first": "251",
     "title": "An alternative astronomical calibration of the lower Pleistocene timescale based on ODP Site 677",
     "type": "article-journal",
     "volume": "81"
    }
   }
  },
  "hide_input": false,
  "kernelspec": {
   "display_name": "Python 3 (ipykernel)",
   "language": "python",
   "name": "python3"
  },
  "language_info": {
   "codemirror_mode": {
    "name": "ipython",
    "version": 3
   },
   "file_extension": ".py",
   "mimetype": "text/x-python",
   "name": "python",
   "nbconvert_exporter": "python",
   "pygments_lexer": "ipython3",
   "version": "3.8.5"
  },
  "toc": {
   "base_numbering": 1,
   "nav_menu": {},
   "number_sections": true,
   "sideBar": true,
   "skip_h1_title": false,
   "title_cell": "Table of Contents",
   "title_sidebar": "Contents",
   "toc_cell": false,
   "toc_position": {
    "height": "calc(100% - 180px)",
    "left": "10px",
    "top": "150px",
    "width": "260px"
   },
   "toc_section_display": true,
   "toc_window_display": true
  },
  "varInspector": {
   "cols": {
    "lenName": 16,
    "lenType": 16,
    "lenVar": 40
   },
   "kernels_config": {
    "python": {
     "delete_cmd_postfix": "",
     "delete_cmd_prefix": "del ",
     "library": "var_list.py",
     "varRefreshCmd": "print(var_dic_list())"
    },
    "r": {
     "delete_cmd_postfix": ") ",
     "delete_cmd_prefix": "rm(",
     "library": "var_list.r",
     "varRefreshCmd": "cat(var_dic_list()) "
    }
   },
   "position": {
    "height": "744px",
    "left": "1262px",
    "right": "20px",
    "top": "135px",
    "width": "279px"
   },
   "types_to_exclude": [
    "module",
    "function",
    "builtin_function_or_method",
    "instance",
    "_Feature"
   ],
   "window_display": false
  }
 },
 "nbformat": 4,
 "nbformat_minor": 4
}
